{
 "cells": [
  {
   "metadata": {},
   "cell_type": "markdown",
   "source": [
    "# Data Discovery AI – Non-Technical Tutorial\n",
    "\n",
    "**Author**: Yuxuan Hu\n",
    "\n",
    "---\n",
    "\n",
    "## Introduction\n",
    "\n",
    "This tutorial introduces an AI framework developed to support the [new portal](https://portal.staging.aodn.org.au/). Its current focus is on **metadata record inference**, which helps improve the quality and consistency of metadata across datasets. This notebook targets for **non-technical** audiences.\n",
    "\n",
    "The framework is designed as a **Multi-Agent System (MAS)**, where different agents collaborate to perform specific post-processing tasks. It uses a **supervisor–worker architecture**:\n",
    "\n",
    "- The **Supervisor Agent** manages and coordinates the overall process.\n",
    "- Specialised **Worker (Task Agents)** handle individual tasks and return their results to the supervisor.\n",
    "\n",
    "This modular architecture ensures scalability and provides centralized access through a single API interface.\n",
    "\n",
    "---\n",
    "\n",
    "## System Overview\n",
    "\n",
    "The diagram below shows a high-level view of the system architecture:\n",
    "\n",
    "![System Design](data-discovery-ai-system-AI%20project%20simple.png)\n",
    "\n",
    "The framework includes four types of Task Agents, each with a specific role:\n",
    "\n",
    "- **Description Formatting Agent**\n",
    "  Converts plain-text metadata descriptions into structured Markdown for improved readability.\n",
    "\n",
    "- **Keyword Classification Agent**\n",
    "  Predicts relevant AODN vocabulary keywords for records missing metadata parameters.\n",
    "\n",
    "- **Delivery Mode Classification Agent**\n",
    "  Classifies ongoing datasets as either real-time or delayed delivery mode.\n",
    "\n",
    "- **Link Grouping Agent**\n",
    "  Categorizes external links in metadata into one of four types:\n",
    "  *Data Access*, *Documentation*, *Python Notebook*, or *Other*.\n",
    "\n",
    "---\n",
    "\n",
    "## Usage\n",
    "\n",
    "The framework is implemented as a FastAPI application. The main endpoint is `\\process_record`, which initializes a Supervisor Agent to coordinate the task.\n",
    "\n",
    "In this notebook, we simulate a call to that endpoint using an example request, so that to allow users to explore the system without needing to run the full backend."
   ],
   "id": "485c30b8f165c315"
  },
  {
   "metadata": {
    "ExecuteTime": {
     "end_time": "2025-05-12T01:10:49.382653Z",
     "start_time": "2025-05-12T01:10:49.376162Z"
    }
   },
   "cell_type": "code",
   "source": [
    "request = {\n",
    "    \"selected_model\":[\"description_formatting\", \"link_grouping\"],\n",
    "    \"title\": \"IMOS - National Reef Monitoring Network Sub-Facility - Global cryptobenthic fish abundance\",\n",
    "    \"abstract\": \"The National Reef Monitoring Network brings together shallow reef surveys conducted around Australia into a centralised database. The IMOS National Reef Monitoring Network sub-Facility collates, cleans, stores and makes this data rapidly available from contributors including: Reef Life Survey, Parks Australia, Department of Biodiversity, Conservation and Attractions (Western Australia), Department of Environment, Water and Natural Resources (South Australia), Department of Primary Industries (New South Wales), Tasmanian Parks and Wildlife Service and Parks Victoria. \\n The data provided by the National Reef Monitoring Network contributes to establishing and supporting national marine baselines, and assisting with the management of Commonwealth and State marine reserves. \\n Reef Life Survey (RLS) and the Australian Temperate Reef Network (ATRC) aims to improve biodiversity conservation and the sustainable management of marine resources by coordinating surveys of rocky and coral reefs using scientific methods, with the ultimate goal to improve coastal stewardship. Our activities depend on the skills of marine scientists, experienced and motivated recreational SCUBA divers, partnerships with management agencies and university researchers, and active input from the ATRC partners and RLS Advisory Committee.\\n RLS and ATRC data are freely available to the public for non-profit purposes, so not only managers, but also groups such as local dive clubs or schools may use these data to look at changes over time in their own local reefs. By making data freely available and through public outputs, RLS and ATRC aims to raise broader community awareness of the status of Australia?s marine biodiversity and associated conservation issues. \\n This dataset contains records of cryptobenthic fishes collected by RLS and ATRC divers and partners along 50m transects on shallow rocky and coral reefs using standard methods. Abundance information is available for all species recorded within quantitative survey limits (50 x 1 m swathes either side of the transect line, each distinguished as a 'Block'), with divers searching the reef surface (including cracks) carefully for hidden fishes. These observations are recorded concurrently with the macroinvertebrate observations and together make up the 'Method 2' component of the surveys. For this method, typically one 'Block' is completed per 50 m transect for the program ATRC and 2 blocks are completed for RLS ? although exceptions to this rule exist. \\n This dataset supersedes the RLS specific \\\"Reef Life Survey (RLS): Cryptic Fish\\\" collection that was available at https://catalogue-rls.imas.utas.edu.au/geonetwork/srv/en/metadata.show?uuid=6a56db3f-d1b2-438d-98c6-bd7dd540a4d5 (provision of data was stopped in June 2021).\",\n",
    "    \"lineage\": \"\",\n",
    "    \"links\": [{\n",
    "        \"href\": \"https://registry.opendata.aws/aodn_mooring_ctd_delayed_qc/\",\n",
    "        \"rel\": \"related\",\n",
    "        \"type\": \"text/html\",\n",
    "        \"title\": \"Access To AWS Open Data Program registry for the Cloud Optimised version of this dataset\"\n",
    "      }]\n",
    "}"
   ],
   "id": "90b91be58835d31a",
   "outputs": [],
   "execution_count": 1
  },
  {
   "metadata": {
    "ExecuteTime": {
     "end_time": "2025-05-12T01:11:13.136063Z",
     "start_time": "2025-05-12T01:10:49.952630Z"
    }
   },
   "cell_type": "code",
   "source": [
    "from data_discovery_ai.agents.supervisorAgent import SupervisorAgent\n",
    "\n",
    "supervisor = SupervisorAgent()"
   ],
   "id": "89616ba91e4c75d1",
   "outputs": [
    {
     "name": "stderr",
     "output_type": "stream",
     "text": [
      "2025-05-12 11:10:53.263866: I tensorflow/core/util/port.cc:153] oneDNN custom operations are on. You may see slightly different numerical results due to floating-point round-off errors from different computation orders. To turn them off, set the environment variable `TF_ENABLE_ONEDNN_OPTS=0`.\n",
      "2025-05-12 11:10:53.966716: I tensorflow/core/platform/cpu_feature_guard.cc:210] This TensorFlow binary is optimized to use available CPU instructions in performance-critical operations.\n",
      "To enable the following instructions: AVX2 AVX_VNNI FMA, in other operations, rebuild TensorFlow with the appropriate compiler flags.\n",
      "/root/anaconda3/envs/data-discovery-ai/lib/python3.10/site-packages/tqdm/auto.py:21: TqdmWarning: IProgress not found. Please update jupyter and ipywidgets. See https://ipywidgets.readthedocs.io/en/stable/user_install.html\n",
      "  from .autonotebook import tqdm as notebook_tqdm\n",
      "Some weights of the PyTorch model were not used when initializing the TF 2.0 model TFBertModel: ['cls.seq_relationship.bias', 'cls.predictions.transform.dense.weight', 'cls.predictions.transform.LayerNorm.weight', 'cls.seq_relationship.weight', 'cls.predictions.bias', 'cls.predictions.transform.dense.bias', 'cls.predictions.transform.LayerNorm.bias']\n",
      "- This IS expected if you are initializing TFBertModel from a PyTorch model trained on another task or with another architecture (e.g. initializing a TFBertForSequenceClassification model from a BertForPreTraining model).\n",
      "- This IS NOT expected if you are initializing TFBertModel from a PyTorch model that you expect to be exactly identical (e.g. initializing a TFBertForSequenceClassification model from a BertForSequenceClassification model).\n",
      "All the weights of TFBertModel were initialized from the PyTorch model.\n",
      "If your task is similar to the task the model of the checkpoint was trained on, you can already use TFBertModel for predictions without further training.\n"
     ]
    }
   ],
   "execution_count": 2
  },
  {
   "metadata": {
    "ExecuteTime": {
     "end_time": "2025-05-12T01:11:28.727713Z",
     "start_time": "2025-05-12T01:11:13.195132Z"
    }
   },
   "cell_type": "code",
   "source": "supervisor.execute(request)",
   "id": "a37914879c29f3b3",
   "outputs": [],
   "execution_count": 3
  },
  {
   "metadata": {
    "ExecuteTime": {
     "end_time": "2025-05-12T01:11:47.030437Z",
     "start_time": "2025-05-12T01:11:46.979877Z"
    }
   },
   "cell_type": "code",
   "source": "supervisor.response",
   "id": "5055a90143b54238",
   "outputs": [
    {
     "data": {
      "text/plain": [
       "{'result': {'formatted_abstract': '# IMOS - National Reef Monitoring Network Sub-Facility - Global cryptobenthic fish abundance\\n\\nThe National Reef Monitoring Network brings together shallow reef surveys conducted around Australia into a centralised database. The IMOS National Reef Monitoring Network sub-Facility collates, cleans, stores and makes this data rapidly available from contributors including:\\n\\n- Reef Life Survey\\n- Parks Australia\\n- Department of Biodiversity, Conservation and Attractions (Western Australia)\\n- Department of Environment, Water and Natural Resources (South Australia)\\n- Department of Primary Industries (New South Wales)\\n- Tasmanian Parks and Wildlife Service\\n- Parks Victoria\\n\\nThe data provided by the National Reef Monitoring Network contributes to establishing and supporting national marine baselines, and assisting with the management of Commonwealth and State marine reserves.\\n\\nReef Life Survey (RLS) and the Australian Temperate Reef Network (ATRC) aims to improve biodiversity conservation and the sustainable management of marine resources by coordinating surveys of rocky and coral reefs using scientific methods, with the ultimate goal to improve coastal stewardship. Our activities depend on the skills of marine scientists, experienced and motivated recreational SCUBA divers, partnerships with management agencies and university researchers, and active input from the ATRC partners and RLS Advisory Committee.\\n\\nRLS and ATRC data are freely available to the public for non-profit purposes, so not only managers, but also groups such as local dive clubs or schools may use these data to look at changes over time in their own local reefs. By making data freely available and through public outputs, RLS and ATRC aims to raise broader community awareness of the status of Australia’s marine biodiversity and associated conservation issues.\\n\\nThis dataset contains records of cryptobenthic fishes collected by RLS and ATRC divers and partners along 50m transects on shallow rocky and coral reefs using standard methods. Abundance information is available for all species recorded within quantitative survey limits (50 x 1 m swathes either side of the transect line, each distinguished as a \\'Block\\'), with divers searching the reef surface (including cracks) carefully for hidden fishes. These observations are recorded concurrently with the macroinvertebrate observations and together make up the \\'Method 2\\' component of the surveys. For this method, typically one \\'Block\\' is completed per 50 m transect for the program ATRC and 2 blocks are completed for RLS – although exceptions to this rule exist.\\n\\nThis dataset supersedes the RLS specific \"Reef Life Survey (RLS): Cryptic Fish\" collection that was available at [https://catalogue-rls.imas.utas.edu.au/geonetwork/srv/en/metadata.show?uuid=6a56db3f-d1b2-438d-98c6-bd7dd540a4d5](https://catalogue-rls.imas.utas.edu.au/geonetwork/srv/en/metadata.show?uuid=6a56db3f-d1b2-438d-98c6-bd7dd540a4d5) (provision of data was stopped in June 2021).',\n",
       "  'grouped_links': [{'href': 'https://registry.opendata.aws/aodn_mooring_ctd_delayed_qc/',\n",
       "    'rel': 'related',\n",
       "    'type': 'text/html',\n",
       "    'title': 'Access To AWS Open Data Program registry for the Cloud Optimised version of this dataset',\n",
       "    'group': 'Data Access'}]}}"
      ]
     },
     "execution_count": 4,
     "metadata": {},
     "output_type": "execute_result"
    }
   ],
   "execution_count": 4
  },
  {
   "metadata": {},
   "cell_type": "markdown",
   "source": [
    "### Understanding the Output\n",
    "\n",
    "The output is returned by the Supervisor Agent under the `\"result\"` key. Each Task Agent generates a distinct section of the response, identified by a unique key.\n",
    "\n",
    "For example:\n",
    "- `\"formatted_abstract\"` corresponds to the output from the **Description Formatting Agent**.\n",
    "- `\"grouped_links\"` corresponds to the output from the **Link Grouping Agent**, which shows how external links are categorized.\n",
    "\n",
    "These keys help you understand which part of the output comes from which agent.\n",
    "\n",
    "---\n",
    "\n",
    "### Try It Yourself\n",
    "\n",
    "You can customise your own request based on your needs. Every request must include the required field `\"selected_model\"`, which is a list of strings indicating the Task Agents to be used for this task.\n",
    "\n",
    "The following four agent types are currently supported (you can select one or more):\n",
    "\n",
    "```json\n",
    "[\"keyword_classification\", \"delivery_classification\", \"description_formatting\", \"link_grouping\"]"
   ],
   "id": "b8498988cbdea596"
  }
 ],
 "metadata": {
  "kernelspec": {
   "display_name": "Python 3",
   "language": "python",
   "name": "python3"
  },
  "language_info": {
   "codemirror_mode": {
    "name": "ipython",
    "version": 2
   },
   "file_extension": ".py",
   "mimetype": "text/x-python",
   "name": "python",
   "nbconvert_exporter": "python",
   "pygments_lexer": "ipython2",
   "version": "2.7.6"
  }
 },
 "nbformat": 4,
 "nbformat_minor": 5
}
