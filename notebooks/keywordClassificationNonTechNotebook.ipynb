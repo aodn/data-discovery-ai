{
 "cells": [
  {
   "cell_type": "markdown",
   "metadata": {},
   "source": [
    "# ML model for Keyword Classification - Non-tech Notebook\n",
    "This notebook introduces how to use this trained ML model, for non-technical audiences. For how to preprocessing raw data, and the details of training a keyword classification model, please refer to [keywordClassificationTechNotebook.ipynb](KeywordClassificationTechNotebook.ipynb). Please note that methods provided in [keywordClassificationTechNotebook.ipynb](KeywordClassificationTechNotebook.ipynb) are breakdown. For better use the code as a pipeline, we use embedded functions provided in `keyword_classifier_pipeline.py`."
   ]
  },
  {
   "cell_type": "markdown",
   "metadata": {},
   "source": [
    "First, let's define an unlabelled item with its title and abstract. We will use it as an example to show how we use the pipelines along with different parameters to make keyword classification."
   ]
  },
  {
   "cell_type": "code",
   "execution_count": 1,
   "metadata": {},
   "outputs": [
    {
     "data": {
      "text/plain": [
       "'Corals and coral communities of Lord Howe Island, Australia: Ecological and taxonomic surveys of hermatypic scleractinian corals were carried out at approximately 100 sites around Lord Howe Island. Sixty-six of these sites were located on reefs in the lagoon, which extends for two-thirds of the length of the island on the western side. Each survey site consisted of a section of reef surface, which appeared to be topographically and faunistically homogeneous. The dimensions of the sites surveyed were generally of the order of 20m by 20m. Where possible, sites were arranged contiguously along a band up the reef slope and across the flat. The cover of each species was graded on a five-point scale of percentage relative cover. Other site attributes recorded were depth (minimum and maximum corrected to datum), slope (estimated), substrate type, total estimated cover of soft coral and algae (macroscopic and encrusting coralline). Coral data from the lagoon and its reef (66 sites) were used to define a small number of site groups which characterize most of this area.Throughout the survey, corals of taxonomic interest or difficulty were collected, and an extensive photographic record was made to augment survey data. A collection of the full range of form of all coral species was made during the survey and an identified reference series was deposited in the Australian Museum.In addition, less detailed descriptive data pertaining to coral communities and topography were recorded on 12 reconnaissance transects, the authors recording changes seen while being towed behind a boat.\\n The purpose of this study was to describe the corals of Lord Howe Island (the southernmost Indo-Pacific reef) at species and community level using methods that would allow differentiation of community types and allow comparisons with coral communities in other geographic locations.'"
      ]
     },
     "execution_count": 1,
     "metadata": {},
     "output_type": "execute_result"
    }
   ],
   "source": [
    "item_title = \"Corals and coral communities of Lord Howe Island, Australia\"\n",
    "item_abstract = \"\"\"Ecological and taxonomic surveys of hermatypic scleractinian corals were carried out at approximately 100 sites around Lord Howe Island. Sixty-six of these sites were located on reefs in the lagoon, which extends for two-thirds of the length of the island on the western side. Each survey site consisted of a section of reef surface, which appeared to be topographically and faunistically homogeneous. The dimensions of the sites surveyed were generally of the order of 20m by 20m. Where possible, sites were arranged contiguously along a band up the reef slope and across the flat. The cover of each species was graded on a five-point scale of percentage relative cover. Other site attributes recorded were depth (minimum and maximum corrected to datum), slope (estimated), substrate type, total estimated cover of soft coral and algae (macroscopic and encrusting coralline). Coral data from the lagoon and its reef (66 sites) were used to define a small number of site groups which characterize most of this area.Throughout the survey, corals of taxonomic interest or difficulty were collected, and an extensive photographic record was made to augment survey data. A collection of the full range of form of all coral species was made during the survey and an identified reference series was deposited in the Australian Museum.In addition, less detailed descriptive data pertaining to coral communities and topography were recorded on 12 reconnaissance transects, the authors recording changes seen while being towed behind a boat.\n",
    " The purpose of this study was to describe the corals of Lord Howe Island (the southernmost Indo-Pacific reef) at species and community level using methods that would allow differentiation of community types and allow comparisons with coral communities in other geographic locations.\"\"\"\n",
    "item_description = f\"{item_title}: {item_abstract}\"\n",
    "item_description"
   ]
  },
  {
   "cell_type": "code",
   "execution_count": 2,
   "metadata": {},
   "outputs": [
    {
     "name": "stderr",
     "output_type": "stream",
     "text": [
      "c:\\Users\\yhu12\\AppData\\Local\\miniforge3\\lib\\site-packages\\tqdm\\auto.py:21: TqdmWarning: IProgress not found. Please update jupyter and ipywidgets. See https://ipywidgets.readthedocs.io/en/stable/user_install.html\n",
      "  from .autonotebook import tqdm as notebook_tqdm\n"
     ]
    }
   ],
   "source": [
    "# add module path for notebook to use\n",
    "import sys\n",
    "import os\n",
    "\n",
    "project_root = os.path.abspath(os.path.join(os.getcwd(), os.pardir))\n",
    "sys.path.append(project_root)\n",
    "\n",
    "# import customised modules\n",
    "from data_discovery_ai.pipeline.pipeline import KeywordClassifierPipeline"
   ]
  },
  {
   "cell_type": "markdown",
   "metadata": {},
   "source": [
    "When initialise a `KeywordClassfierPipeline` object, three parameters are essential:\n",
    "1. `isDataChanged`: bool. The indicator to call the data preprocessing module or not.\n",
    "2. `usePretrainedModel`: bool. The indicator to use the pretrained model or not.\n",
    "3. `model_name`: Specifies the name of a trained model. The options are strictly limited to the following: `development`,`experimental`, `staging`, `production`, `benchmark`. If `usePretrainedModel` is set to `True`, the `selected_model` must already be pretrained. This implies that a corresponding `selected_model.keras` file must exist in the `resources` folder.\n",
    "\n",
    "| Option | Purpose | Typical Use |\n",
    "| ---- | ---- | ---- |\n",
    "| `development` | Dedicated to active model development, testing, and iteration. | Building and refining new model versions, features, or datasets. |\n",
    "| `experimental` | Supports exploratory work for new techniques or fine-tuning. | Experimenting with new architectures, features, or hyperparameter tuning. |\n",
    "| `staging` | Prepares the model for production with real-use evaluations. | Conducting final testing in a production-like environment to verify stability and performance. |\n",
    "| `production` | Deployment environment for live model usage in real-world scenarios. | Running and monitoring models in active use by API. |\n",
    "| `benchmark` | Baseline model used to assess improvements or changes. | Comparing performance metrics against new models. |\n",
    "\n",
    "Once a `KeywordClassfierPipeline` object is initialised, we can use its `pipeline(description)` function to make prediction. The parameter `description` is a string which is composed with the title and abstract of a metadata record, it should constructed as `item_title: item_abstract`, to align with the format of training set.\n",
    "\n",
    "\n"
   ]
  },
  {
   "cell_type": "markdown",
   "metadata": {},
   "source": [
    "With fixed `description` and `selected_model`, there are three combinations of `isDataChanged` and `usePretrainedModel` that cover three typical scenarios:\n",
    "\n",
    "1. `isDataChanged=True` and `usePretrainedModel=False`\n",
    "\n",
    "    This setup is commonly used when a new environment is established, such as during the initial deployment of an ML system. It is also appropriate when the raw data has undergone significant changes, requiring the pipeline to be reapplied. However, use caution when applying this pipeline for end-users, as it can be time-consuming.\n",
    "\n",
    "2. `isDataChanged=False` and `usePretrainedModel=True`\n",
    "\n",
    "    This setup is suitable when we adjust the model through hyperparameter tuning without changing the raw data, or when the raw data has not undergone significant changes. This should be only used for developers conducting experiments.\n",
    "\n",
    "3. `isDataChanged=False` and `usePretrainedModel=False`\n",
    "\n",
    "    This setup is used to employ a pretrained model for prediction. It is designed to provide a keyword classification suggestion service for end-users, enabling efficient and reliable functionality."
   ]
  },
  {
   "cell_type": "code",
   "execution_count": 8,
   "metadata": {},
   "outputs": [
    {
     "name": "stderr",
     "output_type": "stream",
     "text": [
      "searching elasticsearch: 100%|██████████| 129/129 [11:27<00:00,  5.33s/it]\n",
      "100%|██████████| 1860/1860 [50:43<00:00,  1.64s/it] \n",
      "INFO:data_discovery_ai.utils.preprocessor:Saved to C:\\Users\\yhu12\\AppData\\Local\\Temp\\tmppgnleynw\\keyword_sample.pkl\n",
      "INFO:data_discovery_ai.utils.preprocessor:Saved to C:\\Users\\yhu12\\OneDrive - University of Tasmania\\IMOS\\DataDiscovery\\data-discovery-ai\\data_discovery_ai\\resources\\KeywordClassifier\\keyword_sample.pkl\n",
      "INFO:data_discovery_ai.utils.preprocessor:Saved to C:\\Users\\yhu12\\AppData\\Local\\Temp\\tmppgnleynw\\keyword_label.pkl\n"
     ]
    },
    {
     "name": "stdout",
     "output_type": "stream",
     "text": [
      " ======== After Resampling ========\n",
      "Total samples: 3468\n",
      "Dimension: 768\n",
      "No. of labels: 526\n",
      "X resampled set size: 3468\n",
      "Y resampled set size: 3468\n"
     ]
    },
    {
     "name": "stderr",
     "output_type": "stream",
     "text": [
      "INFO:data_discovery_ai.utils.preprocessor:Total samples: 3468\n",
      "INFO:data_discovery_ai.utils.preprocessor:Dimension: 768\n",
      "INFO:data_discovery_ai.utils.preprocessor:No. of labels: 526\n",
      "INFO:data_discovery_ai.utils.preprocessor:Train set size: 2767 (79.79%)\n",
      "INFO:data_discovery_ai.utils.preprocessor:Test set size: 701 (20.21%)\n",
      "INFO:data_discovery_ai.utils.preprocessor:Saved to C:\\Users\\yhu12\\OneDrive - University of Tasmania\\IMOS\\DataDiscovery\\data-discovery-ai\\data_discovery_ai\\resources\\KeywordClassifier\\keyword_label.pkl\n"
     ]
    },
    {
     "name": "stdout",
     "output_type": "stream",
     "text": [
      " ======== After Resampling ========\n",
      "Total samples: 151525\n",
      "Dimension: 768\n",
      "No. of labels: 526\n",
      "X resampled set size: 151525\n",
      "Y resampled set size: 151525\n"
     ]
    },
    {
     "data": {
      "text/html": [
       "<pre style=\"white-space:pre;overflow-x:auto;line-height:normal;font-family:Menlo,'DejaVu Sans Mono',consolas,'Courier New',monospace\"><span style=\"font-weight: bold\">Model: \"sequential\"</span>\n",
       "</pre>\n"
      ],
      "text/plain": [
       "\u001b[1mModel: \"sequential\"\u001b[0m\n"
      ]
     },
     "metadata": {},
     "output_type": "display_data"
    },
    {
     "data": {
      "text/html": [
       "<pre style=\"white-space:pre;overflow-x:auto;line-height:normal;font-family:Menlo,'DejaVu Sans Mono',consolas,'Courier New',monospace\">┏━━━━━━━━━━━━━━━━━━━━━━━━━━━━━━━━━┳━━━━━━━━━━━━━━━━━━━━━━━━┳━━━━━━━━━━━━━━━┓\n",
       "┃<span style=\"font-weight: bold\"> Layer (type)                    </span>┃<span style=\"font-weight: bold\"> Output Shape           </span>┃<span style=\"font-weight: bold\">       Param # </span>┃\n",
       "┡━━━━━━━━━━━━━━━━━━━━━━━━━━━━━━━━━╇━━━━━━━━━━━━━━━━━━━━━━━━╇━━━━━━━━━━━━━━━┩\n",
       "│ dense (<span style=\"color: #0087ff; text-decoration-color: #0087ff\">Dense</span>)                   │ (<span style=\"color: #00d7ff; text-decoration-color: #00d7ff\">None</span>, <span style=\"color: #00af00; text-decoration-color: #00af00\">128</span>)            │        <span style=\"color: #00af00; text-decoration-color: #00af00\">98,432</span> │\n",
       "├─────────────────────────────────┼────────────────────────┼───────────────┤\n",
       "│ dropout (<span style=\"color: #0087ff; text-decoration-color: #0087ff\">Dropout</span>)               │ (<span style=\"color: #00d7ff; text-decoration-color: #00d7ff\">None</span>, <span style=\"color: #00af00; text-decoration-color: #00af00\">128</span>)            │             <span style=\"color: #00af00; text-decoration-color: #00af00\">0</span> │\n",
       "├─────────────────────────────────┼────────────────────────┼───────────────┤\n",
       "│ dense_1 (<span style=\"color: #0087ff; text-decoration-color: #0087ff\">Dense</span>)                 │ (<span style=\"color: #00d7ff; text-decoration-color: #00d7ff\">None</span>, <span style=\"color: #00af00; text-decoration-color: #00af00\">526</span>)            │        <span style=\"color: #00af00; text-decoration-color: #00af00\">67,854</span> │\n",
       "└─────────────────────────────────┴────────────────────────┴───────────────┘\n",
       "</pre>\n"
      ],
      "text/plain": [
       "┏━━━━━━━━━━━━━━━━━━━━━━━━━━━━━━━━━┳━━━━━━━━━━━━━━━━━━━━━━━━┳━━━━━━━━━━━━━━━┓\n",
       "┃\u001b[1m \u001b[0m\u001b[1mLayer (type)                   \u001b[0m\u001b[1m \u001b[0m┃\u001b[1m \u001b[0m\u001b[1mOutput Shape          \u001b[0m\u001b[1m \u001b[0m┃\u001b[1m \u001b[0m\u001b[1m      Param #\u001b[0m\u001b[1m \u001b[0m┃\n",
       "┡━━━━━━━━━━━━━━━━━━━━━━━━━━━━━━━━━╇━━━━━━━━━━━━━━━━━━━━━━━━╇━━━━━━━━━━━━━━━┩\n",
       "│ dense (\u001b[38;5;33mDense\u001b[0m)                   │ (\u001b[38;5;45mNone\u001b[0m, \u001b[38;5;34m128\u001b[0m)            │        \u001b[38;5;34m98,432\u001b[0m │\n",
       "├─────────────────────────────────┼────────────────────────┼───────────────┤\n",
       "│ dropout (\u001b[38;5;33mDropout\u001b[0m)               │ (\u001b[38;5;45mNone\u001b[0m, \u001b[38;5;34m128\u001b[0m)            │             \u001b[38;5;34m0\u001b[0m │\n",
       "├─────────────────────────────────┼────────────────────────┼───────────────┤\n",
       "│ dense_1 (\u001b[38;5;33mDense\u001b[0m)                 │ (\u001b[38;5;45mNone\u001b[0m, \u001b[38;5;34m526\u001b[0m)            │        \u001b[38;5;34m67,854\u001b[0m │\n",
       "└─────────────────────────────────┴────────────────────────┴───────────────┘\n"
      ]
     },
     "metadata": {},
     "output_type": "display_data"
    },
    {
     "data": {
      "text/html": [
       "<pre style=\"white-space:pre;overflow-x:auto;line-height:normal;font-family:Menlo,'DejaVu Sans Mono',consolas,'Courier New',monospace\"><span style=\"font-weight: bold\"> Total params: </span><span style=\"color: #00af00; text-decoration-color: #00af00\">166,286</span> (649.55 KB)\n",
       "</pre>\n"
      ],
      "text/plain": [
       "\u001b[1m Total params: \u001b[0m\u001b[38;5;34m166,286\u001b[0m (649.55 KB)\n"
      ]
     },
     "metadata": {},
     "output_type": "display_data"
    },
    {
     "data": {
      "text/html": [
       "<pre style=\"white-space:pre;overflow-x:auto;line-height:normal;font-family:Menlo,'DejaVu Sans Mono',consolas,'Courier New',monospace\"><span style=\"font-weight: bold\"> Trainable params: </span><span style=\"color: #00af00; text-decoration-color: #00af00\">166,286</span> (649.55 KB)\n",
       "</pre>\n"
      ],
      "text/plain": [
       "\u001b[1m Trainable params: \u001b[0m\u001b[38;5;34m166,286\u001b[0m (649.55 KB)\n"
      ]
     },
     "metadata": {},
     "output_type": "display_data"
    },
    {
     "data": {
      "text/html": [
       "<pre style=\"white-space:pre;overflow-x:auto;line-height:normal;font-family:Menlo,'DejaVu Sans Mono',consolas,'Courier New',monospace\"><span style=\"font-weight: bold\"> Non-trainable params: </span><span style=\"color: #00af00; text-decoration-color: #00af00\">0</span> (0.00 B)\n",
       "</pre>\n"
      ],
      "text/plain": [
       "\u001b[1m Non-trainable params: \u001b[0m\u001b[38;5;34m0\u001b[0m (0.00 B)\n"
      ]
     },
     "metadata": {},
     "output_type": "display_data"
    },
    {
     "name": "stdout",
     "output_type": "stream",
     "text": [
      "Epoch 1/100\n",
      "\u001b[1m3789/3789\u001b[0m \u001b[32m━━━━━━━━━━━━━━━━━━━━\u001b[0m\u001b[37m\u001b[0m \u001b[1m16s\u001b[0m 4ms/step - accuracy: 0.1749 - loss: 2.6597e-04 - precision: 0.4649 - recall: 0.5400 - val_accuracy: 0.0163 - val_loss: 0.0210 - val_precision: 0.6305 - val_recall: 0.3027 - learning_rate: 0.0010\n",
      "Epoch 2/100\n",
      "\u001b[1m3789/3789\u001b[0m \u001b[32m━━━━━━━━━━━━━━━━━━━━\u001b[0m\u001b[37m\u001b[0m \u001b[1m13s\u001b[0m 3ms/step - accuracy: 0.3290 - loss: 2.6967e-05 - precision: 0.8999 - recall: 0.9569 - val_accuracy: 0.0000e+00 - val_loss: 0.0163 - val_precision: 0.7148 - val_recall: 0.5286 - learning_rate: 0.0010\n",
      "Epoch 3/100\n",
      "\u001b[1m3789/3789\u001b[0m \u001b[32m━━━━━━━━━━━━━━━━━━━━\u001b[0m\u001b[37m\u001b[0m \u001b[1m14s\u001b[0m 4ms/step - accuracy: 0.3380 - loss: 1.7389e-05 - precision: 0.9319 - recall: 0.9770 - val_accuracy: 0.0163 - val_loss: 0.0142 - val_precision: 0.7660 - val_recall: 0.6079 - learning_rate: 0.0010\n",
      "Epoch 4/100\n",
      "\u001b[1m3789/3789\u001b[0m \u001b[32m━━━━━━━━━━━━━━━━━━━━\u001b[0m\u001b[37m\u001b[0m \u001b[1m19s\u001b[0m 3ms/step - accuracy: 0.3544 - loss: 1.1600e-05 - precision: 0.9507 - recall: 0.9856 - val_accuracy: 0.0000e+00 - val_loss: 0.0148 - val_precision: 0.8023 - val_recall: 0.6082 - learning_rate: 0.0010\n",
      "Epoch 5/100\n",
      "\u001b[1m3789/3789\u001b[0m \u001b[32m━━━━━━━━━━━━━━━━━━━━\u001b[0m\u001b[37m\u001b[0m \u001b[1m12s\u001b[0m 3ms/step - accuracy: 0.3565 - loss: 9.4487e-06 - precision: 0.9593 - recall: 0.9889 - val_accuracy: 0.0179 - val_loss: 0.0110 - val_precision: 0.8330 - val_recall: 0.7548 - learning_rate: 0.0010\n",
      "Epoch 6/100\n",
      "\u001b[1m3789/3789\u001b[0m \u001b[32m━━━━━━━━━━━━━━━━━━━━\u001b[0m\u001b[37m\u001b[0m \u001b[1m13s\u001b[0m 3ms/step - accuracy: 0.3598 - loss: 8.2929e-06 - precision: 0.9636 - recall: 0.9907 - val_accuracy: 0.0418 - val_loss: 0.0105 - val_precision: 0.8336 - val_recall: 0.7216 - learning_rate: 0.0010\n",
      "Epoch 7/100\n",
      "\u001b[1m3789/3789\u001b[0m \u001b[32m━━━━━━━━━━━━━━━━━━━━\u001b[0m\u001b[37m\u001b[0m \u001b[1m12s\u001b[0m 3ms/step - accuracy: 0.3539 - loss: 7.7627e-06 - precision: 0.9657 - recall: 0.9918 - val_accuracy: 0.0329 - val_loss: 0.0099 - val_precision: 0.8580 - val_recall: 0.7885 - learning_rate: 0.0010\n",
      "Epoch 8/100\n",
      "\u001b[1m3789/3789\u001b[0m \u001b[32m━━━━━━━━━━━━━━━━━━━━\u001b[0m\u001b[37m\u001b[0m \u001b[1m14s\u001b[0m 4ms/step - accuracy: 0.3556 - loss: 6.6441e-06 - precision: 0.9706 - recall: 0.9929 - val_accuracy: 0.0485 - val_loss: 0.0087 - val_precision: 0.8498 - val_recall: 0.7877 - learning_rate: 0.0010\n",
      "Epoch 9/100\n",
      "\u001b[1m3789/3789\u001b[0m \u001b[32m━━━━━━━━━━━━━━━━━━━━\u001b[0m\u001b[37m\u001b[0m \u001b[1m12s\u001b[0m 3ms/step - accuracy: 0.3614 - loss: 6.6298e-06 - precision: 0.9704 - recall: 0.9932 - val_accuracy: 0.0523 - val_loss: 0.0073 - val_precision: 0.8349 - val_recall: 0.8067 - learning_rate: 0.0010\n",
      "Epoch 10/100\n",
      "\u001b[1m3789/3789\u001b[0m \u001b[32m━━━━━━━━━━━━━━━━━━━━\u001b[0m\u001b[37m\u001b[0m \u001b[1m12s\u001b[0m 3ms/step - accuracy: 0.3619 - loss: 5.6996e-06 - precision: 0.9743 - recall: 0.9942 - val_accuracy: 0.0192 - val_loss: 0.0067 - val_precision: 0.8632 - val_recall: 0.8436 - learning_rate: 0.0010\n",
      "Epoch 11/100\n",
      "\u001b[1m3789/3789\u001b[0m \u001b[32m━━━━━━━━━━━━━━━━━━━━\u001b[0m\u001b[37m\u001b[0m \u001b[1m21s\u001b[0m 3ms/step - accuracy: 0.3529 - loss: 5.3092e-06 - precision: 0.9754 - recall: 0.9946 - val_accuracy: 0.0179 - val_loss: 0.0070 - val_precision: 0.8686 - val_recall: 0.8183 - learning_rate: 0.0010\n",
      "Epoch 12/100\n",
      "\u001b[1m3789/3789\u001b[0m \u001b[32m━━━━━━━━━━━━━━━━━━━━\u001b[0m\u001b[37m\u001b[0m \u001b[1m13s\u001b[0m 3ms/step - accuracy: 0.3623 - loss: 6.8245e-06 - precision: 0.9699 - recall: 0.9931 - val_accuracy: 0.0309 - val_loss: 0.0068 - val_precision: 0.8786 - val_recall: 0.8419 - learning_rate: 0.0010\n",
      "Epoch 13/100\n",
      "\u001b[1m3789/3789\u001b[0m \u001b[32m━━━━━━━━━━━━━━━━━━━━\u001b[0m\u001b[37m\u001b[0m \u001b[1m13s\u001b[0m 4ms/step - accuracy: 0.3511 - loss: 5.2156e-06 - precision: 0.9766 - recall: 0.9949 - val_accuracy: 0.0373 - val_loss: 0.0055 - val_precision: 0.8742 - val_recall: 0.8588 - learning_rate: 0.0010\n",
      "Epoch 14/100\n",
      "\u001b[1m3789/3789\u001b[0m \u001b[32m━━━━━━━━━━━━━━━━━━━━\u001b[0m\u001b[37m\u001b[0m \u001b[1m13s\u001b[0m 4ms/step - accuracy: 0.3473 - loss: 5.0620e-06 - precision: 0.9765 - recall: 0.9954 - val_accuracy: 0.0179 - val_loss: 0.0054 - val_precision: 0.9072 - val_recall: 0.8482 - learning_rate: 0.0010\n",
      "Epoch 15/100\n",
      "\u001b[1m3789/3789\u001b[0m \u001b[32m━━━━━━━━━━━━━━━━━━━━\u001b[0m\u001b[37m\u001b[0m \u001b[1m13s\u001b[0m 3ms/step - accuracy: 0.3480 - loss: 4.7518e-06 - precision: 0.9783 - recall: 0.9955 - val_accuracy: 0.0651 - val_loss: 0.0050 - val_precision: 0.8708 - val_recall: 0.8389 - learning_rate: 0.0010\n",
      "Epoch 16/100\n",
      "\u001b[1m3789/3789\u001b[0m \u001b[32m━━━━━━━━━━━━━━━━━━━━\u001b[0m\u001b[37m\u001b[0m \u001b[1m12s\u001b[0m 3ms/step - accuracy: 0.3525 - loss: 4.8425e-06 - precision: 0.9779 - recall: 0.9954 - val_accuracy: 0.0245 - val_loss: 0.0050 - val_precision: 0.8640 - val_recall: 0.8777 - learning_rate: 0.0010\n",
      "Epoch 17/100\n",
      "\u001b[1m3789/3789\u001b[0m \u001b[32m━━━━━━━━━━━━━━━━━━━━\u001b[0m\u001b[37m\u001b[0m \u001b[1m13s\u001b[0m 3ms/step - accuracy: 0.3560 - loss: 4.4527e-06 - precision: 0.9802 - recall: 0.9959 - val_accuracy: 0.0482 - val_loss: 0.0050 - val_precision: 0.8828 - val_recall: 0.8656 - learning_rate: 0.0010\n",
      "Epoch 18/100\n",
      "\u001b[1m3789/3789\u001b[0m \u001b[32m━━━━━━━━━━━━━━━━━━━━\u001b[0m\u001b[37m\u001b[0m \u001b[1m13s\u001b[0m 3ms/step - accuracy: 0.3606 - loss: 4.5861e-06 - precision: 0.9791 - recall: 0.9957 - val_accuracy: 0.0346 - val_loss: 0.0046 - val_precision: 0.8884 - val_recall: 0.8602 - learning_rate: 0.0010\n",
      "Epoch 19/100\n",
      "\u001b[1m3789/3789\u001b[0m \u001b[32m━━━━━━━━━━━━━━━━━━━━\u001b[0m\u001b[37m\u001b[0m \u001b[1m13s\u001b[0m 3ms/step - accuracy: 0.3595 - loss: 4.8663e-06 - precision: 0.9784 - recall: 0.9957 - val_accuracy: 0.0503 - val_loss: 0.0041 - val_precision: 0.8988 - val_recall: 0.8664 - learning_rate: 0.0010\n",
      "Epoch 20/100\n",
      "\u001b[1m3789/3789\u001b[0m \u001b[32m━━━━━━━━━━━━━━━━━━━━\u001b[0m\u001b[37m\u001b[0m \u001b[1m13s\u001b[0m 3ms/step - accuracy: 0.3553 - loss: 4.4772e-06 - precision: 0.9796 - recall: 0.9960 - val_accuracy: 0.0347 - val_loss: 0.0041 - val_precision: 0.8613 - val_recall: 0.8717 - learning_rate: 0.0010\n",
      "Epoch 21/100\n",
      "\u001b[1m3789/3789\u001b[0m \u001b[32m━━━━━━━━━━━━━━━━━━━━\u001b[0m\u001b[37m\u001b[0m \u001b[1m13s\u001b[0m 3ms/step - accuracy: 0.3554 - loss: 4.2763e-06 - precision: 0.9803 - recall: 0.9960 - val_accuracy: 0.0521 - val_loss: 0.0041 - val_precision: 0.8676 - val_recall: 0.8824 - learning_rate: 0.0010\n",
      "Epoch 22/100\n",
      "\u001b[1m3789/3789\u001b[0m \u001b[32m━━━━━━━━━━━━━━━━━━━━\u001b[0m\u001b[37m\u001b[0m \u001b[1m13s\u001b[0m 3ms/step - accuracy: 0.3502 - loss: 4.2600e-06 - precision: 0.9802 - recall: 0.9960 - val_accuracy: 0.0360 - val_loss: 0.0038 - val_precision: 0.8871 - val_recall: 0.8778 - learning_rate: 0.0010\n",
      "Epoch 23/100\n",
      "\u001b[1m3789/3789\u001b[0m \u001b[32m━━━━━━━━━━━━━━━━━━━━\u001b[0m\u001b[37m\u001b[0m \u001b[1m13s\u001b[0m 3ms/step - accuracy: 0.3548 - loss: 4.0604e-06 - precision: 0.9816 - recall: 0.9963 - val_accuracy: 0.0287 - val_loss: 0.0036 - val_precision: 0.8669 - val_recall: 0.9014 - learning_rate: 0.0010\n",
      "Epoch 24/100\n",
      "\u001b[1m3789/3789\u001b[0m \u001b[32m━━━━━━━━━━━━━━━━━━━━\u001b[0m\u001b[37m\u001b[0m \u001b[1m12s\u001b[0m 3ms/step - accuracy: 0.3535 - loss: 3.8619e-06 - precision: 0.9823 - recall: 0.9965 - val_accuracy: 0.0273 - val_loss: 0.0033 - val_precision: 0.8781 - val_recall: 0.9090 - learning_rate: 0.0010\n",
      "Epoch 25/100\n",
      "\u001b[1m3789/3789\u001b[0m \u001b[32m━━━━━━━━━━━━━━━━━━━━\u001b[0m\u001b[37m\u001b[0m \u001b[1m13s\u001b[0m 3ms/step - accuracy: 0.3539 - loss: 3.8740e-06 - precision: 0.9822 - recall: 0.9965 - val_accuracy: 0.0355 - val_loss: 0.0033 - val_precision: 0.8745 - val_recall: 0.9024 - learning_rate: 0.0010\n",
      "Epoch 26/100\n",
      "\u001b[1m3789/3789\u001b[0m \u001b[32m━━━━━━━━━━━━━━━━━━━━\u001b[0m\u001b[37m\u001b[0m \u001b[1m13s\u001b[0m 3ms/step - accuracy: 0.3634 - loss: 3.7725e-06 - precision: 0.9824 - recall: 0.9965 - val_accuracy: 0.0480 - val_loss: 0.0035 - val_precision: 0.9126 - val_recall: 0.8664 - learning_rate: 0.0010\n",
      "Epoch 27/100\n",
      "\u001b[1m3789/3789\u001b[0m \u001b[32m━━━━━━━━━━━━━━━━━━━━\u001b[0m\u001b[37m\u001b[0m \u001b[1m13s\u001b[0m 3ms/step - accuracy: 0.3500 - loss: 3.7048e-06 - precision: 0.9830 - recall: 0.9966 - val_accuracy: 0.0283 - val_loss: 0.0032 - val_precision: 0.8782 - val_recall: 0.9053 - learning_rate: 0.0010\n",
      "Epoch 28/100\n",
      "\u001b[1m3789/3789\u001b[0m \u001b[32m━━━━━━━━━━━━━━━━━━━━\u001b[0m\u001b[37m\u001b[0m \u001b[1m13s\u001b[0m 3ms/step - accuracy: 0.3666 - loss: 3.7418e-06 - precision: 0.9828 - recall: 0.9965 - val_accuracy: 0.0347 - val_loss: 0.0029 - val_precision: 0.8884 - val_recall: 0.9105 - learning_rate: 0.0010\n",
      "Epoch 29/100\n",
      "\u001b[1m3789/3789\u001b[0m \u001b[32m━━━━━━━━━━━━━━━━━━━━\u001b[0m\u001b[37m\u001b[0m \u001b[1m13s\u001b[0m 3ms/step - accuracy: 0.3596 - loss: 3.5361e-06 - precision: 0.9838 - recall: 0.9969 - val_accuracy: 0.0343 - val_loss: 0.0036 - val_precision: 0.8876 - val_recall: 0.8868 - learning_rate: 0.0010\n",
      "Epoch 30/100\n",
      "\u001b[1m3789/3789\u001b[0m \u001b[32m━━━━━━━━━━━━━━━━━━━━\u001b[0m\u001b[37m\u001b[0m \u001b[1m13s\u001b[0m 3ms/step - accuracy: 0.3532 - loss: 3.7334e-06 - precision: 0.9830 - recall: 0.9967 - val_accuracy: 0.0705 - val_loss: 0.0034 - val_precision: 0.8754 - val_recall: 0.8826 - learning_rate: 0.0010\n",
      "Epoch 31/100\n",
      "\u001b[1m3789/3789\u001b[0m \u001b[32m━━━━━━━━━━━━━━━━━━━━\u001b[0m\u001b[37m\u001b[0m \u001b[1m13s\u001b[0m 3ms/step - accuracy: 0.3512 - loss: 3.6213e-06 - precision: 0.9837 - recall: 0.9965 - val_accuracy: 0.0179 - val_loss: 0.0028 - val_precision: 0.8870 - val_recall: 0.9038 - learning_rate: 0.0010\n",
      "Epoch 32/100\n",
      "\u001b[1m3789/3789\u001b[0m \u001b[32m━━━━━━━━━━━━━━━━━━━━\u001b[0m\u001b[37m\u001b[0m \u001b[1m13s\u001b[0m 3ms/step - accuracy: 0.3471 - loss: 3.7828e-06 - precision: 0.9829 - recall: 0.9964 - val_accuracy: 0.0321 - val_loss: 0.0026 - val_precision: 0.8985 - val_recall: 0.9203 - learning_rate: 0.0010\n",
      "Epoch 33/100\n",
      "\u001b[1m3789/3789\u001b[0m \u001b[32m━━━━━━━━━━━━━━━━━━━━\u001b[0m\u001b[37m\u001b[0m \u001b[1m13s\u001b[0m 3ms/step - accuracy: 0.3484 - loss: 3.3783e-06 - precision: 0.9846 - recall: 0.9972 - val_accuracy: 0.0565 - val_loss: 0.0024 - val_precision: 0.8944 - val_recall: 0.9229 - learning_rate: 0.0010\n",
      "Epoch 34/100\n",
      "\u001b[1m3789/3789\u001b[0m \u001b[32m━━━━━━━━━━━━━━━━━━━━\u001b[0m\u001b[37m\u001b[0m \u001b[1m13s\u001b[0m 3ms/step - accuracy: 0.3536 - loss: 3.5203e-06 - precision: 0.9844 - recall: 0.9967 - val_accuracy: 0.0584 - val_loss: 0.0029 - val_precision: 0.9085 - val_recall: 0.8859 - learning_rate: 0.0010\n",
      "Epoch 35/100\n",
      "\u001b[1m3789/3789\u001b[0m \u001b[32m━━━━━━━━━━━━━━━━━━━━\u001b[0m\u001b[37m\u001b[0m \u001b[1m13s\u001b[0m 3ms/step - accuracy: 0.3451 - loss: 3.5138e-06 - precision: 0.9840 - recall: 0.9969 - val_accuracy: 0.0860 - val_loss: 0.0028 - val_precision: 0.8819 - val_recall: 0.9113 - learning_rate: 0.0010\n",
      "Epoch 36/100\n",
      "\u001b[1m3789/3789\u001b[0m \u001b[32m━━━━━━━━━━━━━━━━━━━━\u001b[0m\u001b[37m\u001b[0m \u001b[1m20s\u001b[0m 3ms/step - accuracy: 0.3600 - loss: 3.5646e-06 - precision: 0.9838 - recall: 0.9968 - val_accuracy: 0.0672 - val_loss: 0.0029 - val_precision: 0.8886 - val_recall: 0.9093 - learning_rate: 0.0010\n",
      "\u001b[1m22/22\u001b[0m \u001b[32m━━━━━━━━━━━━━━━━━━━━\u001b[0m\u001b[37m\u001b[0m \u001b[1m0s\u001b[0m 2ms/step - accuracy: 0.2525 - loss: 0.0056 - precision: 0.9528 - recall: 0.8754 \n",
      "\u001b[1m22/22\u001b[0m \u001b[32m━━━━━━━━━━━━━━━━━━━━\u001b[0m\u001b[37m\u001b[0m \u001b[1m0s\u001b[0m 2ms/step \n",
      "{'precision': '0.9743', 'recall': '0.9544', 'f1': '0.9643', 'hammingloss': '0.0013', 'Jaccard Index': '0.8820', 'accuracy': '0.7932'}\n",
      "\u001b[1m1/1\u001b[0m \u001b[32m━━━━━━━━━━━━━━━━━━━━\u001b[0m\u001b[37m\u001b[0m \u001b[1m0s\u001b[0m 40ms/step\n",
      "[{'vocab_type': 'AODN Discovery Parameter Vocabulary', 'value': 'abundance of biota', 'url': 'http://vocab.aodn.org.au/def/discovery_parameter/entity/488'}]\n"
     ]
    }
   ],
   "source": [
    "scenario1_pipeline = KeywordClassifierPipeline(\n",
    "        isDataChanged=True,\n",
    "        usePretrainedModel=False,\n",
    "        model_name=\"experimental\",\n",
    "    )\n",
    "scenario1_pipeline.pipeline(description=item_description)"
   ]
  },
  {
   "cell_type": "markdown",
   "metadata": {},
   "source": [
    "So it go through the whole pipeline: including data preprocessing, training, and prediction. Once we have fetched data, with minimal data change, we can directly train/retrain the model:"
   ]
  },
  {
   "cell_type": "code",
   "execution_count": 3,
   "metadata": {},
   "outputs": [
    {
     "name": "stdout",
     "output_type": "stream",
     "text": [
      " ======== After Resampling ========\n",
      "Total samples: 3468\n",
      "Dimension: 768\n",
      "No. of labels: 526\n",
      "X resampled set size: 3468\n",
      "Y resampled set size: 3468\n",
      " ======== After Resampling ========\n",
      "Total samples: 150150\n",
      "Dimension: 768\n",
      "No. of labels: 526\n",
      "X resampled set size: 150150\n",
      "Y resampled set size: 150150\n"
     ]
    },
    {
     "data": {
      "text/html": [
       "<pre style=\"white-space:pre;overflow-x:auto;line-height:normal;font-family:Menlo,'DejaVu Sans Mono',consolas,'Courier New',monospace\"><span style=\"font-weight: bold\">Model: \"sequential\"</span>\n",
       "</pre>\n"
      ],
      "text/plain": [
       "\u001b[1mModel: \"sequential\"\u001b[0m\n"
      ]
     },
     "metadata": {},
     "output_type": "display_data"
    },
    {
     "data": {
      "text/html": [
       "<pre style=\"white-space:pre;overflow-x:auto;line-height:normal;font-family:Menlo,'DejaVu Sans Mono',consolas,'Courier New',monospace\">┏━━━━━━━━━━━━━━━━━━━━━━━━━━━━━━━━━┳━━━━━━━━━━━━━━━━━━━━━━━━┳━━━━━━━━━━━━━━━┓\n",
       "┃<span style=\"font-weight: bold\"> Layer (type)                    </span>┃<span style=\"font-weight: bold\"> Output Shape           </span>┃<span style=\"font-weight: bold\">       Param # </span>┃\n",
       "┡━━━━━━━━━━━━━━━━━━━━━━━━━━━━━━━━━╇━━━━━━━━━━━━━━━━━━━━━━━━╇━━━━━━━━━━━━━━━┩\n",
       "│ dense (<span style=\"color: #0087ff; text-decoration-color: #0087ff\">Dense</span>)                   │ (<span style=\"color: #00d7ff; text-decoration-color: #00d7ff\">None</span>, <span style=\"color: #00af00; text-decoration-color: #00af00\">128</span>)            │        <span style=\"color: #00af00; text-decoration-color: #00af00\">98,432</span> │\n",
       "├─────────────────────────────────┼────────────────────────┼───────────────┤\n",
       "│ dropout (<span style=\"color: #0087ff; text-decoration-color: #0087ff\">Dropout</span>)               │ (<span style=\"color: #00d7ff; text-decoration-color: #00d7ff\">None</span>, <span style=\"color: #00af00; text-decoration-color: #00af00\">128</span>)            │             <span style=\"color: #00af00; text-decoration-color: #00af00\">0</span> │\n",
       "├─────────────────────────────────┼────────────────────────┼───────────────┤\n",
       "│ dense_1 (<span style=\"color: #0087ff; text-decoration-color: #0087ff\">Dense</span>)                 │ (<span style=\"color: #00d7ff; text-decoration-color: #00d7ff\">None</span>, <span style=\"color: #00af00; text-decoration-color: #00af00\">526</span>)            │        <span style=\"color: #00af00; text-decoration-color: #00af00\">67,854</span> │\n",
       "└─────────────────────────────────┴────────────────────────┴───────────────┘\n",
       "</pre>\n"
      ],
      "text/plain": [
       "┏━━━━━━━━━━━━━━━━━━━━━━━━━━━━━━━━━┳━━━━━━━━━━━━━━━━━━━━━━━━┳━━━━━━━━━━━━━━━┓\n",
       "┃\u001b[1m \u001b[0m\u001b[1mLayer (type)                   \u001b[0m\u001b[1m \u001b[0m┃\u001b[1m \u001b[0m\u001b[1mOutput Shape          \u001b[0m\u001b[1m \u001b[0m┃\u001b[1m \u001b[0m\u001b[1m      Param #\u001b[0m\u001b[1m \u001b[0m┃\n",
       "┡━━━━━━━━━━━━━━━━━━━━━━━━━━━━━━━━━╇━━━━━━━━━━━━━━━━━━━━━━━━╇━━━━━━━━━━━━━━━┩\n",
       "│ dense (\u001b[38;5;33mDense\u001b[0m)                   │ (\u001b[38;5;45mNone\u001b[0m, \u001b[38;5;34m128\u001b[0m)            │        \u001b[38;5;34m98,432\u001b[0m │\n",
       "├─────────────────────────────────┼────────────────────────┼───────────────┤\n",
       "│ dropout (\u001b[38;5;33mDropout\u001b[0m)               │ (\u001b[38;5;45mNone\u001b[0m, \u001b[38;5;34m128\u001b[0m)            │             \u001b[38;5;34m0\u001b[0m │\n",
       "├─────────────────────────────────┼────────────────────────┼───────────────┤\n",
       "│ dense_1 (\u001b[38;5;33mDense\u001b[0m)                 │ (\u001b[38;5;45mNone\u001b[0m, \u001b[38;5;34m526\u001b[0m)            │        \u001b[38;5;34m67,854\u001b[0m │\n",
       "└─────────────────────────────────┴────────────────────────┴───────────────┘\n"
      ]
     },
     "metadata": {},
     "output_type": "display_data"
    },
    {
     "data": {
      "text/html": [
       "<pre style=\"white-space:pre;overflow-x:auto;line-height:normal;font-family:Menlo,'DejaVu Sans Mono',consolas,'Courier New',monospace\"><span style=\"font-weight: bold\"> Total params: </span><span style=\"color: #00af00; text-decoration-color: #00af00\">166,286</span> (649.55 KB)\n",
       "</pre>\n"
      ],
      "text/plain": [
       "\u001b[1m Total params: \u001b[0m\u001b[38;5;34m166,286\u001b[0m (649.55 KB)\n"
      ]
     },
     "metadata": {},
     "output_type": "display_data"
    },
    {
     "data": {
      "text/html": [
       "<pre style=\"white-space:pre;overflow-x:auto;line-height:normal;font-family:Menlo,'DejaVu Sans Mono',consolas,'Courier New',monospace\"><span style=\"font-weight: bold\"> Trainable params: </span><span style=\"color: #00af00; text-decoration-color: #00af00\">166,286</span> (649.55 KB)\n",
       "</pre>\n"
      ],
      "text/plain": [
       "\u001b[1m Trainable params: \u001b[0m\u001b[38;5;34m166,286\u001b[0m (649.55 KB)\n"
      ]
     },
     "metadata": {},
     "output_type": "display_data"
    },
    {
     "data": {
      "text/html": [
       "<pre style=\"white-space:pre;overflow-x:auto;line-height:normal;font-family:Menlo,'DejaVu Sans Mono',consolas,'Courier New',monospace\"><span style=\"font-weight: bold\"> Non-trainable params: </span><span style=\"color: #00af00; text-decoration-color: #00af00\">0</span> (0.00 B)\n",
       "</pre>\n"
      ],
      "text/plain": [
       "\u001b[1m Non-trainable params: \u001b[0m\u001b[38;5;34m0\u001b[0m (0.00 B)\n"
      ]
     },
     "metadata": {},
     "output_type": "display_data"
    },
    {
     "name": "stdout",
     "output_type": "stream",
     "text": [
      "Epoch 1/100\n",
      "\u001b[1m3754/3754\u001b[0m \u001b[32m━━━━━━━━━━━━━━━━━━━━\u001b[0m\u001b[37m\u001b[0m \u001b[1m19s\u001b[0m 5ms/step - accuracy: 0.1682 - loss: 3.4296e-04 - precision: 0.5254 - recall: 0.5778 - val_accuracy: 0.0000e+00 - val_loss: 0.0192 - val_precision: 0.6009 - val_recall: 0.2793 - learning_rate: 0.0010\n",
      "Epoch 2/100\n",
      "\u001b[1m3754/3754\u001b[0m \u001b[32m━━━━━━━━━━━━━━━━━━━━\u001b[0m\u001b[37m\u001b[0m \u001b[1m15s\u001b[0m 4ms/step - accuracy: 0.3233 - loss: 3.4273e-05 - precision: 0.9205 - recall: 0.9653 - val_accuracy: 0.0000e+00 - val_loss: 0.0123 - val_precision: 0.7212 - val_recall: 0.4675 - learning_rate: 0.0010\n",
      "Epoch 3/100\n",
      "\u001b[1m3754/3754\u001b[0m \u001b[32m━━━━━━━━━━━━━━━━━━━━\u001b[0m\u001b[37m\u001b[0m \u001b[1m14s\u001b[0m 4ms/step - accuracy: 0.3396 - loss: 2.0940e-05 - precision: 0.9457 - recall: 0.9811 - val_accuracy: 0.0015 - val_loss: 0.0109 - val_precision: 0.7827 - val_recall: 0.5360 - learning_rate: 0.0010\n",
      "Epoch 4/100\n",
      "\u001b[1m3754/3754\u001b[0m \u001b[32m━━━━━━━━━━━━━━━━━━━━\u001b[0m\u001b[37m\u001b[0m \u001b[1m14s\u001b[0m 4ms/step - accuracy: 0.3529 - loss: 1.4593e-05 - precision: 0.9597 - recall: 0.9877 - val_accuracy: 0.0530 - val_loss: 0.0093 - val_precision: 0.8198 - val_recall: 0.6311 - learning_rate: 0.0010\n",
      "Epoch 5/100\n",
      "\u001b[1m3754/3754\u001b[0m \u001b[32m━━━━━━━━━━━━━━━━━━━━\u001b[0m\u001b[37m\u001b[0m \u001b[1m14s\u001b[0m 4ms/step - accuracy: 0.3562 - loss: 1.2252e-05 - precision: 0.9647 - recall: 0.9901 - val_accuracy: 0.0311 - val_loss: 0.0076 - val_precision: 0.8281 - val_recall: 0.7133 - learning_rate: 0.0010\n",
      "Epoch 6/100\n",
      "\u001b[1m3754/3754\u001b[0m \u001b[32m━━━━━━━━━━━━━━━━━━━━\u001b[0m\u001b[37m\u001b[0m \u001b[1m15s\u001b[0m 4ms/step - accuracy: 0.3594 - loss: 1.0964e-05 - precision: 0.9682 - recall: 0.9913 - val_accuracy: 0.0384 - val_loss: 0.0078 - val_precision: 0.8494 - val_recall: 0.7535 - learning_rate: 0.0010\n",
      "Epoch 7/100\n",
      "\u001b[1m3754/3754\u001b[0m \u001b[32m━━━━━━━━━━━━━━━━━━━━\u001b[0m\u001b[37m\u001b[0m \u001b[1m14s\u001b[0m 4ms/step - accuracy: 0.3636 - loss: 9.0556e-06 - precision: 0.9733 - recall: 0.9931 - val_accuracy: 0.0086 - val_loss: 0.0068 - val_precision: 0.8234 - val_recall: 0.7211 - learning_rate: 0.0010\n",
      "Epoch 8/100\n",
      "\u001b[1m3754/3754\u001b[0m \u001b[32m━━━━━━━━━━━━━━━━━━━━\u001b[0m\u001b[37m\u001b[0m \u001b[1m15s\u001b[0m 4ms/step - accuracy: 0.3610 - loss: 8.3067e-06 - precision: 0.9754 - recall: 0.9938 - val_accuracy: 0.0450 - val_loss: 0.0056 - val_precision: 0.8486 - val_recall: 0.8005 - learning_rate: 0.0010\n",
      "Epoch 9/100\n",
      "\u001b[1m3754/3754\u001b[0m \u001b[32m━━━━━━━━━━━━━━━━━━━━\u001b[0m\u001b[37m\u001b[0m \u001b[1m14s\u001b[0m 4ms/step - accuracy: 0.3546 - loss: 8.0356e-06 - precision: 0.9766 - recall: 0.9944 - val_accuracy: 0.0612 - val_loss: 0.0054 - val_precision: 0.8488 - val_recall: 0.8020 - learning_rate: 0.0010\n",
      "Epoch 10/100\n",
      "\u001b[1m3754/3754\u001b[0m \u001b[32m━━━━━━━━━━━━━━━━━━━━\u001b[0m\u001b[37m\u001b[0m \u001b[1m15s\u001b[0m 4ms/step - accuracy: 0.3691 - loss: 7.3392e-06 - precision: 0.9784 - recall: 0.9949 - val_accuracy: 0.0443 - val_loss: 0.0058 - val_precision: 0.8585 - val_recall: 0.7861 - learning_rate: 0.0010\n",
      "Epoch 11/100\n",
      "\u001b[1m3754/3754\u001b[0m \u001b[32m━━━━━━━━━━━━━━━━━━━━\u001b[0m\u001b[37m\u001b[0m \u001b[1m17s\u001b[0m 4ms/step - accuracy: 0.3655 - loss: 6.9377e-06 - precision: 0.9794 - recall: 0.9952 - val_accuracy: 0.0511 - val_loss: 0.0046 - val_precision: 0.8576 - val_recall: 0.8111 - learning_rate: 0.0010\n",
      "Epoch 12/100\n",
      "\u001b[1m3754/3754\u001b[0m \u001b[32m━━━━━━━━━━━━━━━━━━━━\u001b[0m\u001b[37m\u001b[0m \u001b[1m15s\u001b[0m 4ms/step - accuracy: 0.3636 - loss: 6.3392e-06 - precision: 0.9813 - recall: 0.9957 - val_accuracy: 0.0341 - val_loss: 0.0047 - val_precision: 0.8651 - val_recall: 0.8042 - learning_rate: 0.0010\n",
      "Epoch 13/100\n",
      "\u001b[1m3754/3754\u001b[0m \u001b[32m━━━━━━━━━━━━━━━━━━━━\u001b[0m\u001b[37m\u001b[0m \u001b[1m14s\u001b[0m 4ms/step - accuracy: 0.3679 - loss: 5.9312e-06 - precision: 0.9818 - recall: 0.9961 - val_accuracy: 0.0552 - val_loss: 0.0040 - val_precision: 0.8597 - val_recall: 0.8124 - learning_rate: 0.0010\n",
      "Epoch 14/100\n",
      "\u001b[1m3754/3754\u001b[0m \u001b[32m━━━━━━━━━━━━━━━━━━━━\u001b[0m\u001b[37m\u001b[0m \u001b[1m14s\u001b[0m 4ms/step - accuracy: 0.3695 - loss: 5.8457e-06 - precision: 0.9825 - recall: 0.9961 - val_accuracy: 0.0646 - val_loss: 0.0037 - val_precision: 0.8658 - val_recall: 0.8390 - learning_rate: 0.0010\n",
      "Epoch 15/100\n",
      "\u001b[1m3754/3754\u001b[0m \u001b[32m━━━━━━━━━━━━━━━━━━━━\u001b[0m\u001b[37m\u001b[0m \u001b[1m15s\u001b[0m 4ms/step - accuracy: 0.3691 - loss: 6.0597e-06 - precision: 0.9824 - recall: 0.9960 - val_accuracy: 0.0365 - val_loss: 0.0041 - val_precision: 0.8944 - val_recall: 0.8234 - learning_rate: 0.0010\n",
      "Epoch 16/100\n",
      "\u001b[1m3754/3754\u001b[0m \u001b[32m━━━━━━━━━━━━━━━━━━━━\u001b[0m\u001b[37m\u001b[0m \u001b[1m14s\u001b[0m 4ms/step - accuracy: 0.3702 - loss: 5.8352e-06 - precision: 0.9824 - recall: 0.9961 - val_accuracy: 0.0419 - val_loss: 0.0034 - val_precision: 0.8517 - val_recall: 0.8505 - learning_rate: 0.0010\n",
      "Epoch 17/100\n",
      "\u001b[1m3754/3754\u001b[0m \u001b[32m━━━━━━━━━━━━━━━━━━━━\u001b[0m\u001b[37m\u001b[0m \u001b[1m14s\u001b[0m 4ms/step - accuracy: 0.3698 - loss: 5.4475e-06 - precision: 0.9838 - recall: 0.9965 - val_accuracy: 0.0370 - val_loss: 0.0040 - val_precision: 0.8687 - val_recall: 0.8133 - learning_rate: 0.0010\n",
      "Epoch 18/100\n",
      "\u001b[1m3754/3754\u001b[0m \u001b[32m━━━━━━━━━━━━━━━━━━━━\u001b[0m\u001b[37m\u001b[0m \u001b[1m14s\u001b[0m 4ms/step - accuracy: 0.3640 - loss: 5.4469e-06 - precision: 0.9841 - recall: 0.9965 - val_accuracy: 0.0620 - val_loss: 0.0033 - val_precision: 0.8726 - val_recall: 0.8500 - learning_rate: 0.0010\n",
      "Epoch 19/100\n",
      "\u001b[1m3754/3754\u001b[0m \u001b[32m━━━━━━━━━━━━━━━━━━━━\u001b[0m\u001b[37m\u001b[0m \u001b[1m14s\u001b[0m 4ms/step - accuracy: 0.3639 - loss: 5.1149e-06 - precision: 0.9851 - recall: 0.9967 - val_accuracy: 0.0772 - val_loss: 0.0030 - val_precision: 0.8786 - val_recall: 0.8463 - learning_rate: 0.0010\n",
      "Epoch 20/100\n",
      "\u001b[1m3754/3754\u001b[0m \u001b[32m━━━━━━━━━━━━━━━━━━━━\u001b[0m\u001b[37m\u001b[0m \u001b[1m16s\u001b[0m 4ms/step - accuracy: 0.3724 - loss: 4.7578e-06 - precision: 0.9857 - recall: 0.9968 - val_accuracy: 0.0394 - val_loss: 0.0034 - val_precision: 0.8706 - val_recall: 0.8311 - learning_rate: 0.0010\n",
      "Epoch 21/100\n",
      "\u001b[1m3754/3754\u001b[0m \u001b[32m━━━━━━━━━━━━━━━━━━━━\u001b[0m\u001b[37m\u001b[0m \u001b[1m21s\u001b[0m 6ms/step - accuracy: 0.3758 - loss: 4.6568e-06 - precision: 0.9861 - recall: 0.9971 - val_accuracy: 0.0622 - val_loss: 0.0028 - val_precision: 0.9012 - val_recall: 0.8582 - learning_rate: 0.0010\n",
      "Epoch 22/100\n",
      "\u001b[1m3754/3754\u001b[0m \u001b[32m━━━━━━━━━━━━━━━━━━━━\u001b[0m\u001b[37m\u001b[0m \u001b[1m18s\u001b[0m 5ms/step - accuracy: 0.3723 - loss: 4.7327e-06 - precision: 0.9864 - recall: 0.9970 - val_accuracy: 0.0336 - val_loss: 0.0029 - val_precision: 0.8735 - val_recall: 0.8668 - learning_rate: 0.0010\n",
      "Epoch 23/100\n",
      "\u001b[1m3754/3754\u001b[0m \u001b[32m━━━━━━━━━━━━━━━━━━━━\u001b[0m\u001b[37m\u001b[0m \u001b[1m20s\u001b[0m 5ms/step - accuracy: 0.3646 - loss: 4.8437e-06 - precision: 0.9859 - recall: 0.9970 - val_accuracy: 0.0643 - val_loss: 0.0027 - val_precision: 0.9012 - val_recall: 0.8424 - learning_rate: 0.0010\n",
      "Epoch 24/100\n",
      "\u001b[1m3754/3754\u001b[0m \u001b[32m━━━━━━━━━━━━━━━━━━━━\u001b[0m\u001b[37m\u001b[0m \u001b[1m20s\u001b[0m 5ms/step - accuracy: 0.3770 - loss: 4.3330e-06 - precision: 0.9871 - recall: 0.9973 - val_accuracy: 0.0386 - val_loss: 0.0028 - val_precision: 0.9074 - val_recall: 0.8604 - learning_rate: 0.0010\n",
      "Epoch 25/100\n",
      "\u001b[1m3754/3754\u001b[0m \u001b[32m━━━━━━━━━━━━━━━━━━━━\u001b[0m\u001b[37m\u001b[0m \u001b[1m21s\u001b[0m 6ms/step - accuracy: 0.3659 - loss: 4.3204e-06 - precision: 0.9871 - recall: 0.9974 - val_accuracy: 0.0247 - val_loss: 0.0028 - val_precision: 0.8842 - val_recall: 0.8477 - learning_rate: 0.0010\n",
      "Epoch 26/100\n",
      "\u001b[1m3754/3754\u001b[0m \u001b[32m━━━━━━━━━━━━━━━━━━━━\u001b[0m\u001b[37m\u001b[0m \u001b[1m15s\u001b[0m 4ms/step - accuracy: 0.3794 - loss: 4.0885e-06 - precision: 0.9878 - recall: 0.9974 - val_accuracy: 0.0615 - val_loss: 0.0028 - val_precision: 0.8859 - val_recall: 0.8625 - learning_rate: 0.0010\n",
      "\u001b[1m22/22\u001b[0m \u001b[32m━━━━━━━━━━━━━━━━━━━━\u001b[0m\u001b[37m\u001b[0m \u001b[1m0s\u001b[0m 2ms/step - accuracy: 0.3367 - loss: 0.0060 - precision: 0.9539 - recall: 0.8626 \n",
      "\u001b[1m22/22\u001b[0m \u001b[32m━━━━━━━━━━━━━━━━━━━━\u001b[0m\u001b[37m\u001b[0m \u001b[1m0s\u001b[0m 2ms/step \n",
      "{'precision': '0.9744', 'recall': '0.9489', 'f1': '0.9615', 'hammingloss': '0.0014', 'Jaccard Index': '0.8764', 'accuracy': '0.8006'}\n",
      "\u001b[1m1/1\u001b[0m \u001b[32m━━━━━━━━━━━━━━━━━━━━\u001b[0m\u001b[37m\u001b[0m \u001b[1m0s\u001b[0m 35ms/step\n",
      "[{'vocab_type': 'AODN Discovery Parameter Vocabulary', 'value': 'abundance of biota', 'url': 'http://vocab.aodn.org.au/def/discovery_parameter/entity/488'}, {'vocab_type': 'AODN Discovery Parameter Vocabulary', 'value': 'biotic taxonomic identification', 'url': '16a5b7ad-7c1e-4ede-b8d5-c5487b7e57d4:concept:489'}]\n"
     ]
    }
   ],
   "source": [
    "scenario2_pipeline = KeywordClassifierPipeline(\n",
    "        isDataChanged=False,\n",
    "        usePretrainedModel=False,\n",
    "        model_name=\"development\",\n",
    "    )\n",
    "scenario2_pipeline.pipeline(description=item_description)"
   ]
  },
  {
   "cell_type": "markdown",
   "metadata": {},
   "source": [
    "Last, we already have two pretrained model named `experimental` and `development`, we can directly use them for prediction."
   ]
  },
  {
   "cell_type": "code",
   "execution_count": 4,
   "metadata": {},
   "outputs": [
    {
     "name": "stdout",
     "output_type": "stream",
     "text": [
      "\u001b[1m1/1\u001b[0m \u001b[32m━━━━━━━━━━━━━━━━━━━━\u001b[0m\u001b[37m\u001b[0m \u001b[1m0s\u001b[0m 42ms/step\n",
      "[{'vocab_type': 'AODN Discovery Parameter Vocabulary', 'value': 'abundance of biota', 'url': 'http://vocab.aodn.org.au/def/discovery_parameter/entity/488'}, {'vocab_type': 'AODN Discovery Parameter Vocabulary', 'value': 'biotic taxonomic identification', 'url': '16a5b7ad-7c1e-4ede-b8d5-c5487b7e57d4:concept:489'}]\n"
     ]
    }
   ],
   "source": [
    "scenario3_pipeline = KeywordClassifierPipeline(\n",
    "        isDataChanged=False,\n",
    "        usePretrainedModel=True,\n",
    "        model_name=\"development\",\n",
    "    )\n",
    "scenario3_pipeline.pipeline(description=item_description)"
   ]
  }
 ],
 "metadata": {
  "kernelspec": {
   "display_name": "base",
   "language": "python",
   "name": "python3"
  },
  "language_info": {
   "codemirror_mode": {
    "name": "ipython",
    "version": 3
   },
   "file_extension": ".py",
   "mimetype": "text/x-python",
   "name": "python",
   "nbconvert_exporter": "python",
   "pygments_lexer": "ipython3",
   "version": "3.10.14"
  }
 },
 "nbformat": 4,
 "nbformat_minor": 2
}
