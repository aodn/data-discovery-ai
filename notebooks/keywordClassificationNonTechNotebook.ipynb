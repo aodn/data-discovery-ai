{
 "cells": [
  {
   "cell_type": "markdown",
   "metadata": {},
   "source": [
    "# ML model for Keyword Classification - Non-tech Notebook\n",
    "This notebook introduces how to use this trained ML model, for non-technical audiences. For how to preprocessing raw data, and the details of training a keyword classification model, please refer to [keywordClassificationTechNotebook.ipynb](KeywordClassificationTechNotebook.ipynb). Please note that methods provided in [keywordClassificationTechNotebook.ipynb](KeywordClassificationTechNotebook.ipynb) are breakdown. For better use the code as a pipeline, we use embedded functions provided in `pipeline.py`."
   ]
  },
  {
   "cell_type": "markdown",
   "metadata": {},
   "source": [
    "First, let's define an unlabelled item with its title and abstract. We will use it as an example to show how we use the pipelines along with different parameters to make keyword classification."
   ]
  },
  {
   "cell_type": "code",
   "execution_count": 8,
   "metadata": {},
   "outputs": [
    {
     "data": {
      "text/plain": [
       "'Corals and coral communities of Lord Howe Island, Australia: Ecological and taxonomic surveys of hermatypic scleractinian corals were carried out at approximately 100 sites around Lord Howe Island. Sixty-six of these sites were located on reefs in the lagoon, which extends for two-thirds of the length of the island on the western side. Each survey site consisted of a section of reef surface, which appeared to be topographically and faunistically homogeneous. The dimensions of the sites surveyed were generally of the order of 20m by 20m. Where possible, sites were arranged contiguously along a band up the reef slope and across the flat. The cover of each species was graded on a five-point scale of percentage relative cover. Other site attributes recorded were depth (minimum and maximum corrected to datum), slope (estimated), substrate type, total estimated cover of soft coral and algae (macroscopic and encrusting coralline). Coral data from the lagoon and its reef (66 sites) were used to define a small number of site groups which characterize most of this area.Throughout the survey, corals of taxonomic interest or difficulty were collected, and an extensive photographic record was made to augment survey data. A collection of the full range of form of all coral species was made during the survey and an identified reference series was deposited in the Australian Museum.In addition, less detailed descriptive data pertaining to coral communities and topography were recorded on 12 reconnaissance transects, the authors recording changes seen while being towed behind a boat.\\n The purpose of this study was to describe the corals of Lord Howe Island (the southernmost Indo-Pacific reef) at species and community level using methods that would allow differentiation of community types and allow comparisons with coral communities in other geographic locations.'"
      ]
     },
     "execution_count": 8,
     "metadata": {},
     "output_type": "execute_result"
    }
   ],
   "source": [
    "item_title = \"Corals and coral communities of Lord Howe Island, Australia\"\n",
    "item_abstract = \"\"\"Ecological and taxonomic surveys of hermatypic scleractinian corals were carried out at approximately 100 sites around Lord Howe Island. Sixty-six of these sites were located on reefs in the lagoon, which extends for two-thirds of the length of the island on the western side. Each survey site consisted of a section of reef surface, which appeared to be topographically and faunistically homogeneous. The dimensions of the sites surveyed were generally of the order of 20m by 20m. Where possible, sites were arranged contiguously along a band up the reef slope and across the flat. The cover of each species was graded on a five-point scale of percentage relative cover. Other site attributes recorded were depth (minimum and maximum corrected to datum), slope (estimated), substrate type, total estimated cover of soft coral and algae (macroscopic and encrusting coralline). Coral data from the lagoon and its reef (66 sites) were used to define a small number of site groups which characterize most of this area.Throughout the survey, corals of taxonomic interest or difficulty were collected, and an extensive photographic record was made to augment survey data. A collection of the full range of form of all coral species was made during the survey and an identified reference series was deposited in the Australian Museum.In addition, less detailed descriptive data pertaining to coral communities and topography were recorded on 12 reconnaissance transects, the authors recording changes seen while being towed behind a boat.\n",
    " The purpose of this study was to describe the corals of Lord Howe Island (the southernmost Indo-Pacific reef) at species and community level using methods that would allow differentiation of community types and allow comparisons with coral communities in other geographic locations.\"\"\"\n",
    "item_description = f\"{item_title}: {item_abstract}\"\n",
    "item_description"
   ]
  },
  {
   "cell_type": "code",
   "execution_count": null,
   "metadata": {},
   "outputs": [],
   "source": [
    "# add module path for notebook to use\n",
    "import sys\n",
    "import os\n",
    "\n",
    "project_root = os.path.abspath(os.path.join(os.getcwd(), os.pardir))\n",
    "sys.path.append(project_root)\n",
    "\n",
    "# import customised modules\n",
    "from data_discovery_ai.pipeline import pipeline"
   ]
  },
  {
   "cell_type": "markdown",
   "metadata": {},
   "source": [
    "The `pipeline()` function in `pipeline` module contains four parameters:\n",
    "\n",
    "1. `isDataChanged`: bool. The indicator to call the data preprocessing module or not.\n",
    "2. `usePretrainedModel`: bool. The indicator to use the pretrained model or not.\n",
    "3. `description`: The item description which is used for making prediction. It should be the title and abstract in a string format as `item_title: item_abstract`, to align with the format of training set.\n",
    "4. `selected_model`: The model name for a selected pretrained model. It is strictly controlled with these options: `development`,`experimental`, `staging`, `production`, `benchmark`.\n",
    "\n",
    "| Option | Purpose | Typical Use |\n",
    "| ---- | ---- | ---- |\n",
    "| `development` | Dedicated to active model development, testing, and iteration. | Building and refining new model versions, features, or datasets. |\n",
    "| `experimental` | Supports exploratory work for new techniques or fine-tuning. | Experimenting with new architectures, features, or hyperparameter tuning. |\n",
    "| `staging` | Prepares the model for production with real-use evaluations. | Conducting final testing in a production-like environment to verify stability and performance. |\n",
    "| `production` | Deployment environment for live model usage in real-world scenarios. | Running and monitoring models in active use by API. |\n",
    "| `benchmark` | Baseline model used to assess improvements or changes. | Comparing performance metrics against new models. |"
   ]
  },
  {
   "cell_type": "markdown",
   "metadata": {},
   "source": [
    "With fixed `description` and `selected_model`, there are three combinations of `isDataChanged` and `usePretrainedModel` that cover three typical scenarios:\n",
    "\n",
    "1. `isDataChanged=True` and `usePretrainedModel=False`\n",
    "\n",
    "    This setup is commonly used when a new environment is established, such as during the initial deployment of an ML system. It is also appropriate when the raw data has undergone significant changes, requiring the pipeline to be reapplied. However, use caution when applying this pipeline for end-users, as it can be time-consuming.\n",
    "\n",
    "2. `isDataChanged=False` and `usePretrainedModel=True`\n",
    "\n",
    "    This setup is suitable when we adjust the model through hyperparameter tuning without changing the raw data, or when the raw data has not undergone significant changes. This should be only used for developers conducting experiments.\n",
    "\n",
    "3. `isDataChanged=False` and `usePretrainedModel=False`\n",
    "\n",
    "    This setup is used to employ a pretrained model for prediction. It is designed to provide a keyword classification suggestion service for end-users, enabling efficient and reliable functionality."
   ]
  },
  {
   "cell_type": "code",
   "execution_count": 10,
   "metadata": {},
   "outputs": [
    {
     "name": "stderr",
     "output_type": "stream",
     "text": [
      "searching elasticsearch: 100%|██████████| 67/67 [06:06<00:00,  5.47s/it]\n",
      "100%|██████████| 1055/1055 [24:21<00:00,  1.39s/it]\n",
      "INFO:data_discovery_ai.utils.preprocessor:Saved to C:\\Users\\yhu12\\AppData\\Local\\Temp\\tmpzknlp5xo\\keyword_sample.pkl\n",
      "INFO:data_discovery_ai.utils.preprocessor:Saved to C:\\Users\\yhu12\\OneDrive - University of Tasmania\\IMOS\\DataDiscovery\\data-discovery-ai\\data_discovery_ai\\resources\\keyword_sample.pkl\n",
      "INFO:data_discovery_ai.utils.preprocessor:Saved to C:\\Users\\yhu12\\AppData\\Local\\Temp\\tmpzknlp5xo\\keyword_label.pkl\n"
     ]
    },
    {
     "name": "stdout",
     "output_type": "stream",
     "text": [
      " ======== After Resampling ========\n",
      "Total samples: 2793\n",
      "Dimension: 768\n",
      "No. of labels: 456\n",
      "X resampled set size: 2793\n",
      "Y resampled set size: 2793\n"
     ]
    },
    {
     "name": "stderr",
     "output_type": "stream",
     "text": [
      "INFO:data_discovery_ai.utils.preprocessor:Total samples: 2793\n",
      "INFO:data_discovery_ai.utils.preprocessor:Dimension: 768\n",
      "INFO:data_discovery_ai.utils.preprocessor:No. of labels: 456\n",
      "INFO:data_discovery_ai.utils.preprocessor:Train set size: 2240 (80.20%)\n",
      "INFO:data_discovery_ai.utils.preprocessor:Test set size: 553 (19.80%)\n",
      "INFO:data_discovery_ai.utils.preprocessor:Saved to C:\\Users\\yhu12\\OneDrive - University of Tasmania\\IMOS\\DataDiscovery\\data-discovery-ai\\data_discovery_ai\\resources\\keyword_label.pkl\n"
     ]
    },
    {
     "name": "stdout",
     "output_type": "stream",
     "text": [
      " ======== After Resampling ========\n",
      "Total samples: 74277\n",
      "Dimension: 768\n",
      "No. of labels: 456\n",
      "X resampled set size: 74277\n",
      "Y resampled set size: 74277\n"
     ]
    },
    {
     "data": {
      "text/html": [
       "<pre style=\"white-space:pre;overflow-x:auto;line-height:normal;font-family:Menlo,'DejaVu Sans Mono',consolas,'Courier New',monospace\"><span style=\"font-weight: bold\">Model: \"sequential\"</span>\n",
       "</pre>\n"
      ],
      "text/plain": [
       "\u001b[1mModel: \"sequential\"\u001b[0m\n"
      ]
     },
     "metadata": {},
     "output_type": "display_data"
    },
    {
     "data": {
      "text/html": [
       "<pre style=\"white-space:pre;overflow-x:auto;line-height:normal;font-family:Menlo,'DejaVu Sans Mono',consolas,'Courier New',monospace\">┏━━━━━━━━━━━━━━━━━━━━━━━━━━━━━━━━━┳━━━━━━━━━━━━━━━━━━━━━━━━┳━━━━━━━━━━━━━━━┓\n",
       "┃<span style=\"font-weight: bold\"> Layer (type)                    </span>┃<span style=\"font-weight: bold\"> Output Shape           </span>┃<span style=\"font-weight: bold\">       Param # </span>┃\n",
       "┡━━━━━━━━━━━━━━━━━━━━━━━━━━━━━━━━━╇━━━━━━━━━━━━━━━━━━━━━━━━╇━━━━━━━━━━━━━━━┩\n",
       "│ dense (<span style=\"color: #0087ff; text-decoration-color: #0087ff\">Dense</span>)                   │ (<span style=\"color: #00d7ff; text-decoration-color: #00d7ff\">None</span>, <span style=\"color: #00af00; text-decoration-color: #00af00\">128</span>)            │        <span style=\"color: #00af00; text-decoration-color: #00af00\">98,432</span> │\n",
       "├─────────────────────────────────┼────────────────────────┼───────────────┤\n",
       "│ dropout (<span style=\"color: #0087ff; text-decoration-color: #0087ff\">Dropout</span>)               │ (<span style=\"color: #00d7ff; text-decoration-color: #00d7ff\">None</span>, <span style=\"color: #00af00; text-decoration-color: #00af00\">128</span>)            │             <span style=\"color: #00af00; text-decoration-color: #00af00\">0</span> │\n",
       "├─────────────────────────────────┼────────────────────────┼───────────────┤\n",
       "│ dense_1 (<span style=\"color: #0087ff; text-decoration-color: #0087ff\">Dense</span>)                 │ (<span style=\"color: #00d7ff; text-decoration-color: #00d7ff\">None</span>, <span style=\"color: #00af00; text-decoration-color: #00af00\">456</span>)            │        <span style=\"color: #00af00; text-decoration-color: #00af00\">58,824</span> │\n",
       "└─────────────────────────────────┴────────────────────────┴───────────────┘\n",
       "</pre>\n"
      ],
      "text/plain": [
       "┏━━━━━━━━━━━━━━━━━━━━━━━━━━━━━━━━━┳━━━━━━━━━━━━━━━━━━━━━━━━┳━━━━━━━━━━━━━━━┓\n",
       "┃\u001b[1m \u001b[0m\u001b[1mLayer (type)                   \u001b[0m\u001b[1m \u001b[0m┃\u001b[1m \u001b[0m\u001b[1mOutput Shape          \u001b[0m\u001b[1m \u001b[0m┃\u001b[1m \u001b[0m\u001b[1m      Param #\u001b[0m\u001b[1m \u001b[0m┃\n",
       "┡━━━━━━━━━━━━━━━━━━━━━━━━━━━━━━━━━╇━━━━━━━━━━━━━━━━━━━━━━━━╇━━━━━━━━━━━━━━━┩\n",
       "│ dense (\u001b[38;5;33mDense\u001b[0m)                   │ (\u001b[38;5;45mNone\u001b[0m, \u001b[38;5;34m128\u001b[0m)            │        \u001b[38;5;34m98,432\u001b[0m │\n",
       "├─────────────────────────────────┼────────────────────────┼───────────────┤\n",
       "│ dropout (\u001b[38;5;33mDropout\u001b[0m)               │ (\u001b[38;5;45mNone\u001b[0m, \u001b[38;5;34m128\u001b[0m)            │             \u001b[38;5;34m0\u001b[0m │\n",
       "├─────────────────────────────────┼────────────────────────┼───────────────┤\n",
       "│ dense_1 (\u001b[38;5;33mDense\u001b[0m)                 │ (\u001b[38;5;45mNone\u001b[0m, \u001b[38;5;34m456\u001b[0m)            │        \u001b[38;5;34m58,824\u001b[0m │\n",
       "└─────────────────────────────────┴────────────────────────┴───────────────┘\n"
      ]
     },
     "metadata": {},
     "output_type": "display_data"
    },
    {
     "data": {
      "text/html": [
       "<pre style=\"white-space:pre;overflow-x:auto;line-height:normal;font-family:Menlo,'DejaVu Sans Mono',consolas,'Courier New',monospace\"><span style=\"font-weight: bold\"> Total params: </span><span style=\"color: #00af00; text-decoration-color: #00af00\">157,256</span> (614.28 KB)\n",
       "</pre>\n"
      ],
      "text/plain": [
       "\u001b[1m Total params: \u001b[0m\u001b[38;5;34m157,256\u001b[0m (614.28 KB)\n"
      ]
     },
     "metadata": {},
     "output_type": "display_data"
    },
    {
     "data": {
      "text/html": [
       "<pre style=\"white-space:pre;overflow-x:auto;line-height:normal;font-family:Menlo,'DejaVu Sans Mono',consolas,'Courier New',monospace\"><span style=\"font-weight: bold\"> Trainable params: </span><span style=\"color: #00af00; text-decoration-color: #00af00\">157,256</span> (614.28 KB)\n",
       "</pre>\n"
      ],
      "text/plain": [
       "\u001b[1m Trainable params: \u001b[0m\u001b[38;5;34m157,256\u001b[0m (614.28 KB)\n"
      ]
     },
     "metadata": {},
     "output_type": "display_data"
    },
    {
     "data": {
      "text/html": [
       "<pre style=\"white-space:pre;overflow-x:auto;line-height:normal;font-family:Menlo,'DejaVu Sans Mono',consolas,'Courier New',monospace\"><span style=\"font-weight: bold\"> Non-trainable params: </span><span style=\"color: #00af00; text-decoration-color: #00af00\">0</span> (0.00 B)\n",
       "</pre>\n"
      ],
      "text/plain": [
       "\u001b[1m Non-trainable params: \u001b[0m\u001b[38;5;34m0\u001b[0m (0.00 B)\n"
      ]
     },
     "metadata": {},
     "output_type": "display_data"
    },
    {
     "name": "stdout",
     "output_type": "stream",
     "text": [
      "Epoch 1/100\n",
      "\u001b[1m1857/1857\u001b[0m \u001b[32m━━━━━━━━━━━━━━━━━━━━\u001b[0m\u001b[37m\u001b[0m \u001b[1m6s\u001b[0m 3ms/step - accuracy: 0.1507 - loss: 4.2403e-04 - precision: 0.3715 - recall: 0.4629 - val_accuracy: 0.0000e+00 - val_loss: 0.0284 - val_precision: 0.5911 - val_recall: 0.1440 - learning_rate: 0.0010\n",
      "Epoch 2/100\n",
      "\u001b[1m1857/1857\u001b[0m \u001b[32m━━━━━━━━━━━━━━━━━━━━\u001b[0m\u001b[37m\u001b[0m \u001b[1m4s\u001b[0m 2ms/step - accuracy: 0.3633 - loss: 3.7228e-05 - precision: 0.9092 - recall: 0.9495 - val_accuracy: 0.0000e+00 - val_loss: 0.0157 - val_precision: 0.6533 - val_recall: 0.4812 - learning_rate: 0.0010\n",
      "Epoch 3/100\n",
      "\u001b[1m1857/1857\u001b[0m \u001b[32m━━━━━━━━━━━━━━━━━━━━\u001b[0m\u001b[37m\u001b[0m \u001b[1m4s\u001b[0m 2ms/step - accuracy: 0.3852 - loss: 1.8292e-05 - precision: 0.9446 - recall: 0.9792 - val_accuracy: 0.0000e+00 - val_loss: 0.0127 - val_precision: 0.7065 - val_recall: 0.5794 - learning_rate: 0.0010\n",
      "Epoch 4/100\n",
      "\u001b[1m1857/1857\u001b[0m \u001b[32m━━━━━━━━━━━━━━━━━━━━\u001b[0m\u001b[37m\u001b[0m \u001b[1m4s\u001b[0m 2ms/step - accuracy: 0.4001 - loss: 1.3349e-05 - precision: 0.9573 - recall: 0.9872 - val_accuracy: 0.0000e+00 - val_loss: 0.0138 - val_precision: 0.6978 - val_recall: 0.6785 - learning_rate: 0.0010\n",
      "Epoch 5/100\n",
      "\u001b[1m1857/1857\u001b[0m \u001b[32m━━━━━━━━━━━━━━━━━━━━\u001b[0m\u001b[37m\u001b[0m \u001b[1m5s\u001b[0m 2ms/step - accuracy: 0.3953 - loss: 1.0001e-05 - precision: 0.9674 - recall: 0.9911 - val_accuracy: 0.0000e+00 - val_loss: 0.0102 - val_precision: 0.7371 - val_recall: 0.7346 - learning_rate: 0.0010\n",
      "Epoch 6/100\n",
      "\u001b[1m1857/1857\u001b[0m \u001b[32m━━━━━━━━━━━━━━━━━━━━\u001b[0m\u001b[37m\u001b[0m \u001b[1m4s\u001b[0m 2ms/step - accuracy: 0.3991 - loss: 7.8173e-06 - precision: 0.9726 - recall: 0.9936 - val_accuracy: 0.0781 - val_loss: 0.0094 - val_precision: 0.7685 - val_recall: 0.7720 - learning_rate: 0.0010\n",
      "Epoch 7/100\n",
      "\u001b[1m1857/1857\u001b[0m \u001b[32m━━━━━━━━━━━━━━━━━━━━\u001b[0m\u001b[37m\u001b[0m \u001b[1m4s\u001b[0m 2ms/step - accuracy: 0.4032 - loss: 7.1294e-06 - precision: 0.9752 - recall: 0.9938 - val_accuracy: 0.0264 - val_loss: 0.0075 - val_precision: 0.7859 - val_recall: 0.8069 - learning_rate: 0.0010\n",
      "Epoch 8/100\n",
      "\u001b[1m1857/1857\u001b[0m \u001b[32m━━━━━━━━━━━━━━━━━━━━\u001b[0m\u001b[37m\u001b[0m \u001b[1m5s\u001b[0m 2ms/step - accuracy: 0.4040 - loss: 6.4356e-06 - precision: 0.9773 - recall: 0.9948 - val_accuracy: 0.0743 - val_loss: 0.0072 - val_precision: 0.8290 - val_recall: 0.7624 - learning_rate: 0.0010\n",
      "Epoch 9/100\n",
      "\u001b[1m1857/1857\u001b[0m \u001b[32m━━━━━━━━━━━━━━━━━━━━\u001b[0m\u001b[37m\u001b[0m \u001b[1m6s\u001b[0m 3ms/step - accuracy: 0.3981 - loss: 5.9663e-06 - precision: 0.9779 - recall: 0.9951 - val_accuracy: 0.0743 - val_loss: 0.0051 - val_precision: 0.8636 - val_recall: 0.8418 - learning_rate: 0.0010\n",
      "Epoch 10/100\n",
      "\u001b[1m1857/1857\u001b[0m \u001b[32m━━━━━━━━━━━━━━━━━━━━\u001b[0m\u001b[37m\u001b[0m \u001b[1m8s\u001b[0m 2ms/step - accuracy: 0.3983 - loss: 5.4192e-06 - precision: 0.9805 - recall: 0.9955 - val_accuracy: 0.0237 - val_loss: 0.0052 - val_precision: 0.8185 - val_recall: 0.8450 - learning_rate: 0.0010\n",
      "Epoch 11/100\n",
      "\u001b[1m1857/1857\u001b[0m \u001b[32m━━━━━━━━━━━━━━━━━━━━\u001b[0m\u001b[37m\u001b[0m \u001b[1m4s\u001b[0m 2ms/step - accuracy: 0.3986 - loss: 4.9376e-06 - precision: 0.9821 - recall: 0.9962 - val_accuracy: 0.0501 - val_loss: 0.0054 - val_precision: 0.8536 - val_recall: 0.8395 - learning_rate: 0.0010\n",
      "Epoch 12/100\n",
      "\u001b[1m1857/1857\u001b[0m \u001b[32m━━━━━━━━━━━━━━━━━━━━\u001b[0m\u001b[37m\u001b[0m \u001b[1m5s\u001b[0m 3ms/step - accuracy: 0.3911 - loss: 4.7503e-06 - precision: 0.9827 - recall: 0.9962 - val_accuracy: 0.0237 - val_loss: 0.0048 - val_precision: 0.9127 - val_recall: 0.8277 - learning_rate: 0.0010\n",
      "Epoch 13/100\n",
      "\u001b[1m1857/1857\u001b[0m \u001b[32m━━━━━━━━━━━━━━━━━━━━\u001b[0m\u001b[37m\u001b[0m \u001b[1m5s\u001b[0m 3ms/step - accuracy: 0.3964 - loss: 3.9569e-06 - precision: 0.9856 - recall: 0.9970 - val_accuracy: 0.0495 - val_loss: 0.0052 - val_precision: 0.8649 - val_recall: 0.8001 - learning_rate: 0.0010\n",
      "Epoch 14/100\n",
      "\u001b[1m1857/1857\u001b[0m \u001b[32m━━━━━━━━━━━━━━━━━━━━\u001b[0m\u001b[37m\u001b[0m \u001b[1m6s\u001b[0m 3ms/step - accuracy: 0.3907 - loss: 3.7151e-06 - precision: 0.9861 - recall: 0.9973 - val_accuracy: 0.0754 - val_loss: 0.0037 - val_precision: 0.8330 - val_recall: 0.8787 - learning_rate: 0.0010\n",
      "Epoch 15/100\n",
      "\u001b[1m1857/1857\u001b[0m \u001b[32m━━━━━━━━━━━━━━━━━━━━\u001b[0m\u001b[37m\u001b[0m \u001b[1m5s\u001b[0m 3ms/step - accuracy: 0.3903 - loss: 3.8136e-06 - precision: 0.9858 - recall: 0.9975 - val_accuracy: 0.0264 - val_loss: 0.0037 - val_precision: 0.8386 - val_recall: 0.8866 - learning_rate: 0.0010\n",
      "Epoch 16/100\n",
      "\u001b[1m1857/1857\u001b[0m \u001b[32m━━━━━━━━━━━━━━━━━━━━\u001b[0m\u001b[37m\u001b[0m \u001b[1m5s\u001b[0m 3ms/step - accuracy: 0.3896 - loss: 3.6100e-06 - precision: 0.9862 - recall: 0.9975 - val_accuracy: 0.0000e+00 - val_loss: 0.0035 - val_precision: 0.8358 - val_recall: 0.8902 - learning_rate: 0.0010\n",
      "Epoch 17/100\n",
      "\u001b[1m1857/1857\u001b[0m \u001b[32m━━━━━━━━━━━━━━━━━━━━\u001b[0m\u001b[37m\u001b[0m \u001b[1m6s\u001b[0m 3ms/step - accuracy: 0.3820 - loss: 3.5636e-06 - precision: 0.9867 - recall: 0.9976 - val_accuracy: 0.0770 - val_loss: 0.0036 - val_precision: 0.8765 - val_recall: 0.8985 - learning_rate: 0.0010\n",
      "Epoch 18/100\n",
      "\u001b[1m1857/1857\u001b[0m \u001b[32m━━━━━━━━━━━━━━━━━━━━\u001b[0m\u001b[37m\u001b[0m \u001b[1m7s\u001b[0m 3ms/step - accuracy: 0.3794 - loss: 3.7727e-06 - precision: 0.9866 - recall: 0.9973 - val_accuracy: 0.0775 - val_loss: 0.0037 - val_precision: 0.9228 - val_recall: 0.8149 - learning_rate: 0.0010\n",
      "Epoch 19/100\n",
      "\u001b[1m1857/1857\u001b[0m \u001b[32m━━━━━━━━━━━━━━━━━━━━\u001b[0m\u001b[37m\u001b[0m \u001b[1m9s\u001b[0m 5ms/step - accuracy: 0.3891 - loss: 3.3430e-06 - precision: 0.9883 - recall: 0.9977 - val_accuracy: 0.1034 - val_loss: 0.0029 - val_precision: 0.8539 - val_recall: 0.9120 - learning_rate: 0.0010\n",
      "Epoch 20/100\n",
      "\u001b[1m1857/1857\u001b[0m \u001b[32m━━━━━━━━━━━━━━━━━━━━\u001b[0m\u001b[37m\u001b[0m \u001b[1m8s\u001b[0m 4ms/step - accuracy: 0.3754 - loss: 3.5137e-06 - precision: 0.9874 - recall: 0.9975 - val_accuracy: 0.0765 - val_loss: 0.0027 - val_precision: 0.9293 - val_recall: 0.9255 - learning_rate: 0.0010\n",
      "Epoch 21/100\n",
      "\u001b[1m1857/1857\u001b[0m \u001b[32m━━━━━━━━━━━━━━━━━━━━\u001b[0m\u001b[37m\u001b[0m \u001b[1m7s\u001b[0m 4ms/step - accuracy: 0.3983 - loss: 3.1982e-06 - precision: 0.9881 - recall: 0.9980 - val_accuracy: 0.1002 - val_loss: 0.0027 - val_precision: 0.8754 - val_recall: 0.9130 - learning_rate: 0.0010\n",
      "Epoch 22/100\n",
      "\u001b[1m1857/1857\u001b[0m \u001b[32m━━━━━━━━━━━━━━━━━━━━\u001b[0m\u001b[37m\u001b[0m \u001b[1m7s\u001b[0m 4ms/step - accuracy: 0.3780 - loss: 3.1282e-06 - precision: 0.9888 - recall: 0.9980 - val_accuracy: 0.0765 - val_loss: 0.0025 - val_precision: 0.8651 - val_recall: 0.9086 - learning_rate: 0.0010\n",
      "Epoch 23/100\n",
      "\u001b[1m1857/1857\u001b[0m \u001b[32m━━━━━━━━━━━━━━━━━━━━\u001b[0m\u001b[37m\u001b[0m \u001b[1m7s\u001b[0m 4ms/step - accuracy: 0.3923 - loss: 3.0828e-06 - precision: 0.9887 - recall: 0.9979 - val_accuracy: 0.1029 - val_loss: 0.0027 - val_precision: 0.8427 - val_recall: 0.9088 - learning_rate: 0.0010\n",
      "Epoch 24/100\n",
      "\u001b[1m1857/1857\u001b[0m \u001b[32m━━━━━━━━━━━━━━━━━━━━\u001b[0m\u001b[37m\u001b[0m \u001b[1m6s\u001b[0m 3ms/step - accuracy: 0.3818 - loss: 2.7596e-06 - precision: 0.9897 - recall: 0.9983 - val_accuracy: 0.0258 - val_loss: 0.0023 - val_precision: 0.8526 - val_recall: 0.9213 - learning_rate: 0.0010\n",
      "Epoch 25/100\n",
      "\u001b[1m1857/1857\u001b[0m \u001b[32m━━━━━━━━━━━━━━━━━━━━\u001b[0m\u001b[37m\u001b[0m \u001b[1m6s\u001b[0m 3ms/step - accuracy: 0.3883 - loss: 2.8795e-06 - precision: 0.9895 - recall: 0.9981 - val_accuracy: 0.0545 - val_loss: 0.0037 - val_precision: 0.9406 - val_recall: 0.8198 - learning_rate: 0.0010\n",
      "Epoch 26/100\n",
      "\u001b[1m1857/1857\u001b[0m \u001b[32m━━━━━━━━━━━━━━━━━━━━\u001b[0m\u001b[37m\u001b[0m \u001b[1m6s\u001b[0m 3ms/step - accuracy: 0.3829 - loss: 2.7517e-06 - precision: 0.9900 - recall: 0.9981 - val_accuracy: 0.0242 - val_loss: 0.0022 - val_precision: 0.9239 - val_recall: 0.9407 - learning_rate: 0.0010\n",
      "Epoch 27/100\n",
      "\u001b[1m1857/1857\u001b[0m \u001b[32m━━━━━━━━━━━━━━━━━━━━\u001b[0m\u001b[37m\u001b[0m \u001b[1m6s\u001b[0m 3ms/step - accuracy: 0.3742 - loss: 2.5957e-06 - precision: 0.9902 - recall: 0.9983 - val_accuracy: 0.0506 - val_loss: 0.0019 - val_precision: 0.9329 - val_recall: 0.9428 - learning_rate: 0.0010\n",
      "Epoch 28/100\n",
      "\u001b[1m1857/1857\u001b[0m \u001b[32m━━━━━━━━━━━━━━━━━━━━\u001b[0m\u001b[37m\u001b[0m \u001b[1m6s\u001b[0m 3ms/step - accuracy: 0.3814 - loss: 2.5014e-06 - precision: 0.9905 - recall: 0.9985 - val_accuracy: 0.0000e+00 - val_loss: 0.0019 - val_precision: 0.9246 - val_recall: 0.9450 - learning_rate: 0.0010\n",
      "Epoch 29/100\n",
      "\u001b[1m1857/1857\u001b[0m \u001b[32m━━━━━━━━━━━━━━━━━━━━\u001b[0m\u001b[37m\u001b[0m \u001b[1m5s\u001b[0m 3ms/step - accuracy: 0.3820 - loss: 2.4601e-06 - precision: 0.9911 - recall: 0.9983 - val_accuracy: 0.0920 - val_loss: 0.0022 - val_precision: 0.8459 - val_recall: 0.9466 - learning_rate: 0.0010\n",
      "Epoch 30/100\n",
      "\u001b[1m1857/1857\u001b[0m \u001b[32m━━━━━━━━━━━━━━━━━━━━\u001b[0m\u001b[37m\u001b[0m \u001b[1m5s\u001b[0m 3ms/step - accuracy: 0.3917 - loss: 2.5463e-06 - precision: 0.9908 - recall: 0.9983 - val_accuracy: 0.1007 - val_loss: 0.0020 - val_precision: 0.8710 - val_recall: 0.9244 - learning_rate: 0.0010\n",
      "Epoch 31/100\n",
      "\u001b[1m1857/1857\u001b[0m \u001b[32m━━━━━━━━━━━━━━━━━━━━\u001b[0m\u001b[37m\u001b[0m \u001b[1m5s\u001b[0m 3ms/step - accuracy: 0.3853 - loss: 2.7124e-06 - precision: 0.9901 - recall: 0.9983 - val_accuracy: 0.0812 - val_loss: 0.0018 - val_precision: 0.9216 - val_recall: 0.9459 - learning_rate: 0.0010\n",
      "Epoch 32/100\n",
      "\u001b[1m1857/1857\u001b[0m \u001b[32m━━━━━━━━━━━━━━━━━━━━\u001b[0m\u001b[37m\u001b[0m \u001b[1m5s\u001b[0m 3ms/step - accuracy: 0.3921 - loss: 2.4025e-06 - precision: 0.9913 - recall: 0.9984 - val_accuracy: 0.0258 - val_loss: 0.0018 - val_precision: 0.8517 - val_recall: 0.9329 - learning_rate: 0.0010\n",
      "Epoch 33/100\n",
      "\u001b[1m1857/1857\u001b[0m \u001b[32m━━━━━━━━━━━━━━━━━━━━\u001b[0m\u001b[37m\u001b[0m \u001b[1m5s\u001b[0m 3ms/step - accuracy: 0.3885 - loss: 2.5103e-06 - precision: 0.9909 - recall: 0.9985 - val_accuracy: 0.0765 - val_loss: 0.0019 - val_precision: 0.9162 - val_recall: 0.9414 - learning_rate: 0.0010\n",
      "Epoch 34/100\n",
      "\u001b[1m1857/1857\u001b[0m \u001b[32m━━━━━━━━━━━━━━━━━━━━\u001b[0m\u001b[37m\u001b[0m \u001b[1m6s\u001b[0m 3ms/step - accuracy: 0.3917 - loss: 2.2587e-06 - precision: 0.9914 - recall: 0.9983 - val_accuracy: 0.0264 - val_loss: 0.0019 - val_precision: 0.9442 - val_recall: 0.9311 - learning_rate: 0.0010\n",
      "Epoch 35/100\n",
      "\u001b[1m1857/1857\u001b[0m \u001b[32m━━━━━━━━━━━━━━━━━━━━\u001b[0m\u001b[37m\u001b[0m \u001b[1m5s\u001b[0m 3ms/step - accuracy: 0.3877 - loss: 2.3188e-06 - precision: 0.9917 - recall: 0.9985 - val_accuracy: 0.0479 - val_loss: 0.0017 - val_precision: 0.9304 - val_recall: 0.9511 - learning_rate: 0.0010\n",
      "Epoch 36/100\n",
      "\u001b[1m1857/1857\u001b[0m \u001b[32m━━━━━━━━━━━━━━━━━━━━\u001b[0m\u001b[37m\u001b[0m \u001b[1m5s\u001b[0m 3ms/step - accuracy: 0.3906 - loss: 2.2786e-06 - precision: 0.9914 - recall: 0.9984 - val_accuracy: 0.0485 - val_loss: 0.0021 - val_precision: 0.9294 - val_recall: 0.9405 - learning_rate: 0.0010\n",
      "Epoch 37/100\n",
      "\u001b[1m1857/1857\u001b[0m \u001b[32m━━━━━━━━━━━━━━━━━━━━\u001b[0m\u001b[37m\u001b[0m \u001b[1m5s\u001b[0m 3ms/step - accuracy: 0.3967 - loss: 2.2016e-06 - precision: 0.9917 - recall: 0.9986 - val_accuracy: 0.1128 - val_loss: 0.0015 - val_precision: 0.9522 - val_recall: 0.9548 - learning_rate: 0.0010\n",
      "Epoch 38/100\n",
      "\u001b[1m1857/1857\u001b[0m \u001b[32m━━━━━━━━━━━━━━━━━━━━\u001b[0m\u001b[37m\u001b[0m \u001b[1m5s\u001b[0m 3ms/step - accuracy: 0.3800 - loss: 2.3588e-06 - precision: 0.9913 - recall: 0.9984 - val_accuracy: 0.0000e+00 - val_loss: 0.0018 - val_precision: 0.8809 - val_recall: 0.9457 - learning_rate: 0.0010\n",
      "Epoch 39/100\n",
      "\u001b[1m1857/1857\u001b[0m \u001b[32m━━━━━━━━━━━━━━━━━━━━\u001b[0m\u001b[37m\u001b[0m \u001b[1m6s\u001b[0m 3ms/step - accuracy: 0.3838 - loss: 2.2685e-06 - precision: 0.9919 - recall: 0.9985 - val_accuracy: 0.0522 - val_loss: 0.0015 - val_precision: 0.9334 - val_recall: 0.9577 - learning_rate: 0.0010\n",
      "Epoch 40/100\n",
      "\u001b[1m1857/1857\u001b[0m \u001b[32m━━━━━━━━━━━━━━━━━━━━\u001b[0m\u001b[37m\u001b[0m \u001b[1m6s\u001b[0m 3ms/step - accuracy: 0.3840 - loss: 2.2747e-06 - precision: 0.9918 - recall: 0.9984 - val_accuracy: 0.0539 - val_loss: 0.0015 - val_precision: 0.8905 - val_recall: 0.9643 - learning_rate: 0.0010\n",
      "Epoch 41/100\n",
      "\u001b[1m1857/1857\u001b[0m \u001b[32m━━━━━━━━━━━━━━━━━━━━\u001b[0m\u001b[37m\u001b[0m \u001b[1m5s\u001b[0m 3ms/step - accuracy: 0.3817 - loss: 2.1017e-06 - precision: 0.9923 - recall: 0.9985 - val_accuracy: 0.0826 - val_loss: 0.0015 - val_precision: 0.9359 - val_recall: 0.9547 - learning_rate: 0.0010\n",
      "Epoch 42/100\n",
      "\u001b[1m1857/1857\u001b[0m \u001b[32m━━━━━━━━━━━━━━━━━━━━\u001b[0m\u001b[37m\u001b[0m \u001b[1m5s\u001b[0m 3ms/step - accuracy: 0.3891 - loss: 1.9931e-06 - precision: 0.9925 - recall: 0.9988 - val_accuracy: 0.0479 - val_loss: 0.0015 - val_precision: 0.9359 - val_recall: 0.9591 - learning_rate: 0.0010\n",
      "\u001b[1m18/18\u001b[0m \u001b[32m━━━━━━━━━━━━━━━━━━━━\u001b[0m\u001b[37m\u001b[0m \u001b[1m0s\u001b[0m 1ms/step - accuracy: 0.2136 - loss: 0.0063 - precision: 0.9770 - recall: 0.9024 \n",
      "\u001b[1m18/18\u001b[0m \u001b[32m━━━━━━━━━━━━━━━━━━━━\u001b[0m\u001b[37m\u001b[0m \u001b[1m0s\u001b[0m 3ms/step\n",
      "{'precision': '0.9942', 'recall': '0.9855', 'f1': '0.9898', 'hammingloss': '0.0008', 'Jaccard Index': '0.9175', 'accuracy': '0.8788'}\n",
      "\u001b[1m1/1\u001b[0m \u001b[32m━━━━━━━━━━━━━━━━━━━━\u001b[0m\u001b[37m\u001b[0m \u001b[1m0s\u001b[0m 25ms/step\n",
      "[{'vocab_type': 'AODN Platform Vocabulary', 'value': 'research vessel', 'url': 'http://vocab.nerc.ac.uk/collection/L06/current/31'}, {'vocab_type': 'AODN Discovery Parameter Vocabulary', 'value': 'abundance of biota', 'url': 'http://vocab.aodn.org.au/def/discovery_parameter/entity/488'}]\n"
     ]
    }
   ],
   "source": [
    "pipeline(\n",
    "        isDataChanged=True,\n",
    "        usePretrainedModel=False,\n",
    "        description=item_description,\n",
    "        selected_model=\"experimental\",\n",
    "    )"
   ]
  },
  {
   "cell_type": "markdown",
   "metadata": {},
   "source": [
    "So it go through the whole pipeline: including data preprocessing, training, and prediction. Once we have fetched data, with minimal data change, we can directly train/retrain the model:"
   ]
  },
  {
   "cell_type": "code",
   "execution_count": 13,
   "metadata": {},
   "outputs": [
    {
     "name": "stderr",
     "output_type": "stream",
     "text": [
      "INFO:data_discovery_ai.utils.preprocessor:Load from C:\\Users\\yhu12\\OneDrive - University of Tasmania\\IMOS\\DataDiscovery\\data-discovery-ai\\data_discovery_ai\\resources\\keyword_sample.pkl\n",
      "INFO:data_discovery_ai.utils.preprocessor:Saved to C:\\Users\\yhu12\\AppData\\Local\\Temp\\tmp2vvpgtjw\\keyword_label.pkl\n"
     ]
    },
    {
     "name": "stdout",
     "output_type": "stream",
     "text": [
      " ======== After Resampling ========\n",
      "Total samples: 2793\n",
      "Dimension: 768\n",
      "No. of labels: 456\n",
      "X resampled set size: 2793\n",
      "Y resampled set size: 2793\n"
     ]
    },
    {
     "name": "stderr",
     "output_type": "stream",
     "text": [
      "INFO:data_discovery_ai.utils.preprocessor:Total samples: 2793\n",
      "INFO:data_discovery_ai.utils.preprocessor:Dimension: 768\n",
      "INFO:data_discovery_ai.utils.preprocessor:No. of labels: 456\n",
      "INFO:data_discovery_ai.utils.preprocessor:Train set size: 2240 (80.20%)\n",
      "INFO:data_discovery_ai.utils.preprocessor:Test set size: 553 (19.80%)\n",
      "INFO:data_discovery_ai.utils.preprocessor:Saved to C:\\Users\\yhu12\\OneDrive - University of Tasmania\\IMOS\\DataDiscovery\\data-discovery-ai\\data_discovery_ai\\resources\\keyword_label.pkl\n"
     ]
    },
    {
     "name": "stdout",
     "output_type": "stream",
     "text": [
      " ======== After Resampling ========\n",
      "Total samples: 74277\n",
      "Dimension: 768\n",
      "No. of labels: 456\n",
      "X resampled set size: 74277\n",
      "Y resampled set size: 74277\n"
     ]
    },
    {
     "data": {
      "text/html": [
       "<pre style=\"white-space:pre;overflow-x:auto;line-height:normal;font-family:Menlo,'DejaVu Sans Mono',consolas,'Courier New',monospace\"><span style=\"font-weight: bold\">Model: \"sequential_2\"</span>\n",
       "</pre>\n"
      ],
      "text/plain": [
       "\u001b[1mModel: \"sequential_2\"\u001b[0m\n"
      ]
     },
     "metadata": {},
     "output_type": "display_data"
    },
    {
     "data": {
      "text/html": [
       "<pre style=\"white-space:pre;overflow-x:auto;line-height:normal;font-family:Menlo,'DejaVu Sans Mono',consolas,'Courier New',monospace\">┏━━━━━━━━━━━━━━━━━━━━━━━━━━━━━━━━━┳━━━━━━━━━━━━━━━━━━━━━━━━┳━━━━━━━━━━━━━━━┓\n",
       "┃<span style=\"font-weight: bold\"> Layer (type)                    </span>┃<span style=\"font-weight: bold\"> Output Shape           </span>┃<span style=\"font-weight: bold\">       Param # </span>┃\n",
       "┡━━━━━━━━━━━━━━━━━━━━━━━━━━━━━━━━━╇━━━━━━━━━━━━━━━━━━━━━━━━╇━━━━━━━━━━━━━━━┩\n",
       "│ dense_4 (<span style=\"color: #0087ff; text-decoration-color: #0087ff\">Dense</span>)                 │ (<span style=\"color: #00d7ff; text-decoration-color: #00d7ff\">None</span>, <span style=\"color: #00af00; text-decoration-color: #00af00\">128</span>)            │        <span style=\"color: #00af00; text-decoration-color: #00af00\">98,432</span> │\n",
       "├─────────────────────────────────┼────────────────────────┼───────────────┤\n",
       "│ dropout_2 (<span style=\"color: #0087ff; text-decoration-color: #0087ff\">Dropout</span>)             │ (<span style=\"color: #00d7ff; text-decoration-color: #00d7ff\">None</span>, <span style=\"color: #00af00; text-decoration-color: #00af00\">128</span>)            │             <span style=\"color: #00af00; text-decoration-color: #00af00\">0</span> │\n",
       "├─────────────────────────────────┼────────────────────────┼───────────────┤\n",
       "│ dense_5 (<span style=\"color: #0087ff; text-decoration-color: #0087ff\">Dense</span>)                 │ (<span style=\"color: #00d7ff; text-decoration-color: #00d7ff\">None</span>, <span style=\"color: #00af00; text-decoration-color: #00af00\">456</span>)            │        <span style=\"color: #00af00; text-decoration-color: #00af00\">58,824</span> │\n",
       "└─────────────────────────────────┴────────────────────────┴───────────────┘\n",
       "</pre>\n"
      ],
      "text/plain": [
       "┏━━━━━━━━━━━━━━━━━━━━━━━━━━━━━━━━━┳━━━━━━━━━━━━━━━━━━━━━━━━┳━━━━━━━━━━━━━━━┓\n",
       "┃\u001b[1m \u001b[0m\u001b[1mLayer (type)                   \u001b[0m\u001b[1m \u001b[0m┃\u001b[1m \u001b[0m\u001b[1mOutput Shape          \u001b[0m\u001b[1m \u001b[0m┃\u001b[1m \u001b[0m\u001b[1m      Param #\u001b[0m\u001b[1m \u001b[0m┃\n",
       "┡━━━━━━━━━━━━━━━━━━━━━━━━━━━━━━━━━╇━━━━━━━━━━━━━━━━━━━━━━━━╇━━━━━━━━━━━━━━━┩\n",
       "│ dense_4 (\u001b[38;5;33mDense\u001b[0m)                 │ (\u001b[38;5;45mNone\u001b[0m, \u001b[38;5;34m128\u001b[0m)            │        \u001b[38;5;34m98,432\u001b[0m │\n",
       "├─────────────────────────────────┼────────────────────────┼───────────────┤\n",
       "│ dropout_2 (\u001b[38;5;33mDropout\u001b[0m)             │ (\u001b[38;5;45mNone\u001b[0m, \u001b[38;5;34m128\u001b[0m)            │             \u001b[38;5;34m0\u001b[0m │\n",
       "├─────────────────────────────────┼────────────────────────┼───────────────┤\n",
       "│ dense_5 (\u001b[38;5;33mDense\u001b[0m)                 │ (\u001b[38;5;45mNone\u001b[0m, \u001b[38;5;34m456\u001b[0m)            │        \u001b[38;5;34m58,824\u001b[0m │\n",
       "└─────────────────────────────────┴────────────────────────┴───────────────┘\n"
      ]
     },
     "metadata": {},
     "output_type": "display_data"
    },
    {
     "data": {
      "text/html": [
       "<pre style=\"white-space:pre;overflow-x:auto;line-height:normal;font-family:Menlo,'DejaVu Sans Mono',consolas,'Courier New',monospace\"><span style=\"font-weight: bold\"> Total params: </span><span style=\"color: #00af00; text-decoration-color: #00af00\">157,256</span> (614.28 KB)\n",
       "</pre>\n"
      ],
      "text/plain": [
       "\u001b[1m Total params: \u001b[0m\u001b[38;5;34m157,256\u001b[0m (614.28 KB)\n"
      ]
     },
     "metadata": {},
     "output_type": "display_data"
    },
    {
     "data": {
      "text/html": [
       "<pre style=\"white-space:pre;overflow-x:auto;line-height:normal;font-family:Menlo,'DejaVu Sans Mono',consolas,'Courier New',monospace\"><span style=\"font-weight: bold\"> Trainable params: </span><span style=\"color: #00af00; text-decoration-color: #00af00\">157,256</span> (614.28 KB)\n",
       "</pre>\n"
      ],
      "text/plain": [
       "\u001b[1m Trainable params: \u001b[0m\u001b[38;5;34m157,256\u001b[0m (614.28 KB)\n"
      ]
     },
     "metadata": {},
     "output_type": "display_data"
    },
    {
     "data": {
      "text/html": [
       "<pre style=\"white-space:pre;overflow-x:auto;line-height:normal;font-family:Menlo,'DejaVu Sans Mono',consolas,'Courier New',monospace\"><span style=\"font-weight: bold\"> Non-trainable params: </span><span style=\"color: #00af00; text-decoration-color: #00af00\">0</span> (0.00 B)\n",
       "</pre>\n"
      ],
      "text/plain": [
       "\u001b[1m Non-trainable params: \u001b[0m\u001b[38;5;34m0\u001b[0m (0.00 B)\n"
      ]
     },
     "metadata": {},
     "output_type": "display_data"
    },
    {
     "name": "stdout",
     "output_type": "stream",
     "text": [
      "Epoch 1/100\n",
      "\u001b[1m1857/1857\u001b[0m \u001b[32m━━━━━━━━━━━━━━━━━━━━\u001b[0m\u001b[37m\u001b[0m \u001b[1m6s\u001b[0m 3ms/step - accuracy: 0.1508 - loss: 4.3564e-04 - precision: 0.3593 - recall: 0.4486 - val_accuracy: 0.0000e+00 - val_loss: 0.0243 - val_precision: 0.5680 - val_recall: 0.1397 - learning_rate: 0.0010\n",
      "Epoch 2/100\n",
      "\u001b[1m1857/1857\u001b[0m \u001b[32m━━━━━━━━━━━━━━━━━━━━\u001b[0m\u001b[37m\u001b[0m \u001b[1m4s\u001b[0m 2ms/step - accuracy: 0.3670 - loss: 3.7261e-05 - precision: 0.9061 - recall: 0.9488 - val_accuracy: 0.0000e+00 - val_loss: 0.0189 - val_precision: 0.6976 - val_recall: 0.4343 - learning_rate: 0.0010\n",
      "Epoch 3/100\n",
      "\u001b[1m1857/1857\u001b[0m \u001b[32m━━━━━━━━━━━━━━━━━━━━\u001b[0m\u001b[37m\u001b[0m \u001b[1m4s\u001b[0m 2ms/step - accuracy: 0.3840 - loss: 1.9359e-05 - precision: 0.9447 - recall: 0.9779 - val_accuracy: 0.0242 - val_loss: 0.0162 - val_precision: 0.7495 - val_recall: 0.6477 - learning_rate: 0.0010\n",
      "Epoch 4/100\n",
      "\u001b[1m1857/1857\u001b[0m \u001b[32m━━━━━━━━━━━━━━━━━━━━\u001b[0m\u001b[37m\u001b[0m \u001b[1m4s\u001b[0m 2ms/step - accuracy: 0.3957 - loss: 1.2444e-05 - precision: 0.9615 - recall: 0.9877 - val_accuracy: 0.0506 - val_loss: 0.0124 - val_precision: 0.7964 - val_recall: 0.6635 - learning_rate: 0.0010\n",
      "Epoch 5/100\n",
      "\u001b[1m1857/1857\u001b[0m \u001b[32m━━━━━━━━━━━━━━━━━━━━\u001b[0m\u001b[37m\u001b[0m \u001b[1m4s\u001b[0m 2ms/step - accuracy: 0.3973 - loss: 9.4610e-06 - precision: 0.9693 - recall: 0.9916 - val_accuracy: 0.0522 - val_loss: 0.0116 - val_precision: 0.7921 - val_recall: 0.5689 - learning_rate: 0.0010\n",
      "Epoch 6/100\n",
      "\u001b[1m1857/1857\u001b[0m \u001b[32m━━━━━━━━━━━━━━━━━━━━\u001b[0m\u001b[37m\u001b[0m \u001b[1m4s\u001b[0m 2ms/step - accuracy: 0.3940 - loss: 7.7416e-06 - precision: 0.9738 - recall: 0.9932 - val_accuracy: 0.0258 - val_loss: 0.0093 - val_precision: 0.8359 - val_recall: 0.7548 - learning_rate: 0.0010\n",
      "Epoch 7/100\n",
      "\u001b[1m1857/1857\u001b[0m \u001b[32m━━━━━━━━━━━━━━━━━━━━\u001b[0m\u001b[37m\u001b[0m \u001b[1m4s\u001b[0m 2ms/step - accuracy: 0.3899 - loss: 7.2107e-06 - precision: 0.9761 - recall: 0.9941 - val_accuracy: 0.0522 - val_loss: 0.0069 - val_precision: 0.8425 - val_recall: 0.7908 - learning_rate: 0.0010\n",
      "Epoch 8/100\n",
      "\u001b[1m1857/1857\u001b[0m \u001b[32m━━━━━━━━━━━━━━━━━━━━\u001b[0m\u001b[37m\u001b[0m \u001b[1m4s\u001b[0m 2ms/step - accuracy: 0.3953 - loss: 5.7447e-06 - precision: 0.9798 - recall: 0.9949 - val_accuracy: 0.0501 - val_loss: 0.0062 - val_precision: 0.8154 - val_recall: 0.8202 - learning_rate: 0.0010\n",
      "Epoch 9/100\n",
      "\u001b[1m1857/1857\u001b[0m \u001b[32m━━━━━━━━━━━━━━━━━━━━\u001b[0m\u001b[37m\u001b[0m \u001b[1m4s\u001b[0m 2ms/step - accuracy: 0.3859 - loss: 5.9023e-06 - precision: 0.9804 - recall: 0.9952 - val_accuracy: 0.0765 - val_loss: 0.0052 - val_precision: 0.8509 - val_recall: 0.8405 - learning_rate: 0.0010\n",
      "Epoch 10/100\n",
      "\u001b[1m1857/1857\u001b[0m \u001b[32m━━━━━━━━━━━━━━━━━━━━\u001b[0m\u001b[37m\u001b[0m \u001b[1m4s\u001b[0m 2ms/step - accuracy: 0.3884 - loss: 4.8705e-06 - precision: 0.9833 - recall: 0.9959 - val_accuracy: 0.0506 - val_loss: 0.0051 - val_precision: 0.9042 - val_recall: 0.8285 - learning_rate: 0.0010\n",
      "Epoch 11/100\n",
      "\u001b[1m1857/1857\u001b[0m \u001b[32m━━━━━━━━━━━━━━━━━━━━\u001b[0m\u001b[37m\u001b[0m \u001b[1m4s\u001b[0m 2ms/step - accuracy: 0.3888 - loss: 4.6588e-06 - precision: 0.9837 - recall: 0.9964 - val_accuracy: 0.0738 - val_loss: 0.0046 - val_precision: 0.8661 - val_recall: 0.8623 - learning_rate: 0.0010\n",
      "Epoch 12/100\n",
      "\u001b[1m1857/1857\u001b[0m \u001b[32m━━━━━━━━━━━━━━━━━━━━\u001b[0m\u001b[37m\u001b[0m \u001b[1m4s\u001b[0m 2ms/step - accuracy: 0.3931 - loss: 4.6832e-06 - precision: 0.9832 - recall: 0.9961 - val_accuracy: 0.0000e+00 - val_loss: 0.0046 - val_precision: 0.8161 - val_recall: 0.8729 - learning_rate: 0.0010\n",
      "Epoch 13/100\n",
      "\u001b[1m1857/1857\u001b[0m \u001b[32m━━━━━━━━━━━━━━━━━━━━\u001b[0m\u001b[37m\u001b[0m \u001b[1m5s\u001b[0m 3ms/step - accuracy: 0.3885 - loss: 4.3993e-06 - precision: 0.9834 - recall: 0.9963 - val_accuracy: 0.0786 - val_loss: 0.0048 - val_precision: 0.8352 - val_recall: 0.8428 - learning_rate: 0.0010\n",
      "Epoch 14/100\n",
      "\u001b[1m1857/1857\u001b[0m \u001b[32m━━━━━━━━━━━━━━━━━━━━\u001b[0m\u001b[37m\u001b[0m \u001b[1m4s\u001b[0m 2ms/step - accuracy: 0.3915 - loss: 3.8562e-06 - precision: 0.9860 - recall: 0.9972 - val_accuracy: 0.0501 - val_loss: 0.0036 - val_precision: 0.9130 - val_recall: 0.8820 - learning_rate: 0.0010\n",
      "Epoch 15/100\n",
      "\u001b[1m1857/1857\u001b[0m \u001b[32m━━━━━━━━━━━━━━━━━━━━\u001b[0m\u001b[37m\u001b[0m \u001b[1m4s\u001b[0m 2ms/step - accuracy: 0.3854 - loss: 3.6533e-06 - precision: 0.9865 - recall: 0.9972 - val_accuracy: 0.0506 - val_loss: 0.0036 - val_precision: 0.9111 - val_recall: 0.8931 - learning_rate: 0.0010\n",
      "Epoch 16/100\n",
      "\u001b[1m1857/1857\u001b[0m \u001b[32m━━━━━━━━━━━━━━━━━━━━\u001b[0m\u001b[37m\u001b[0m \u001b[1m5s\u001b[0m 3ms/step - accuracy: 0.3948 - loss: 3.8185e-06 - precision: 0.9865 - recall: 0.9970 - val_accuracy: 0.0765 - val_loss: 0.0039 - val_precision: 0.8262 - val_recall: 0.8800 - learning_rate: 0.0010\n",
      "Epoch 17/100\n",
      "\u001b[1m1857/1857\u001b[0m \u001b[32m━━━━━━━━━━━━━━━━━━━━\u001b[0m\u001b[37m\u001b[0m \u001b[1m4s\u001b[0m 2ms/step - accuracy: 0.3918 - loss: 3.4525e-06 - precision: 0.9869 - recall: 0.9973 - val_accuracy: 0.0242 - val_loss: 0.0035 - val_precision: 0.9119 - val_recall: 0.8830 - learning_rate: 0.0010\n",
      "Epoch 18/100\n",
      "\u001b[1m1857/1857\u001b[0m \u001b[32m━━━━━━━━━━━━━━━━━━━━\u001b[0m\u001b[37m\u001b[0m \u001b[1m4s\u001b[0m 2ms/step - accuracy: 0.3903 - loss: 3.2582e-06 - precision: 0.9881 - recall: 0.9975 - val_accuracy: 0.0765 - val_loss: 0.0030 - val_precision: 0.8827 - val_recall: 0.9184 - learning_rate: 0.0010\n",
      "Epoch 19/100\n",
      "\u001b[1m1857/1857\u001b[0m \u001b[32m━━━━━━━━━━━━━━━━━━━━\u001b[0m\u001b[37m\u001b[0m \u001b[1m4s\u001b[0m 2ms/step - accuracy: 0.3931 - loss: 3.3374e-06 - precision: 0.9882 - recall: 0.9973 - val_accuracy: 0.0522 - val_loss: 0.0032 - val_precision: 0.8855 - val_recall: 0.8963 - learning_rate: 0.0010\n",
      "Epoch 20/100\n",
      "\u001b[1m1857/1857\u001b[0m \u001b[32m━━━━━━━━━━━━━━━━━━━━\u001b[0m\u001b[37m\u001b[0m \u001b[1m4s\u001b[0m 2ms/step - accuracy: 0.3871 - loss: 3.0529e-06 - precision: 0.9891 - recall: 0.9978 - val_accuracy: 0.1029 - val_loss: 0.0028 - val_precision: 0.8592 - val_recall: 0.8956 - learning_rate: 0.0010\n",
      "Epoch 21/100\n",
      "\u001b[1m1857/1857\u001b[0m \u001b[32m━━━━━━━━━━━━━━━━━━━━\u001b[0m\u001b[37m\u001b[0m \u001b[1m5s\u001b[0m 2ms/step - accuracy: 0.4010 - loss: 2.8402e-06 - precision: 0.9894 - recall: 0.9978 - val_accuracy: 0.0242 - val_loss: 0.0026 - val_precision: 0.8420 - val_recall: 0.9417 - learning_rate: 0.0010\n",
      "Epoch 22/100\n",
      "\u001b[1m1857/1857\u001b[0m \u001b[32m━━━━━━━━━━━━━━━━━━━━\u001b[0m\u001b[37m\u001b[0m \u001b[1m5s\u001b[0m 2ms/step - accuracy: 0.3924 - loss: 3.0627e-06 - precision: 0.9891 - recall: 0.9977 - val_accuracy: 0.0765 - val_loss: 0.0026 - val_precision: 0.9305 - val_recall: 0.9200 - learning_rate: 0.0010\n",
      "Epoch 23/100\n",
      "\u001b[1m1857/1857\u001b[0m \u001b[32m━━━━━━━━━━━━━━━━━━━━\u001b[0m\u001b[37m\u001b[0m \u001b[1m5s\u001b[0m 2ms/step - accuracy: 0.3878 - loss: 2.9641e-06 - precision: 0.9885 - recall: 0.9977 - val_accuracy: 0.1255 - val_loss: 0.0024 - val_precision: 0.9369 - val_recall: 0.9178 - learning_rate: 0.0010\n",
      "Epoch 24/100\n",
      "\u001b[1m1857/1857\u001b[0m \u001b[32m━━━━━━━━━━━━━━━━━━━━\u001b[0m\u001b[37m\u001b[0m \u001b[1m4s\u001b[0m 2ms/step - accuracy: 0.3764 - loss: 2.6996e-06 - precision: 0.9903 - recall: 0.9979 - val_accuracy: 0.1018 - val_loss: 0.0024 - val_precision: 0.8949 - val_recall: 0.9165 - learning_rate: 0.0010\n",
      "Epoch 25/100\n",
      "\u001b[1m1857/1857\u001b[0m \u001b[32m━━━━━━━━━━━━━━━━━━━━\u001b[0m\u001b[37m\u001b[0m \u001b[1m6s\u001b[0m 3ms/step - accuracy: 0.3806 - loss: 2.8821e-06 - precision: 0.9901 - recall: 0.9978 - val_accuracy: 0.0775 - val_loss: 0.0023 - val_precision: 0.9139 - val_recall: 0.9192 - learning_rate: 0.0010\n",
      "Epoch 26/100\n",
      "\u001b[1m1857/1857\u001b[0m \u001b[32m━━━━━━━━━━━━━━━━━━━━\u001b[0m\u001b[37m\u001b[0m \u001b[1m7s\u001b[0m 4ms/step - accuracy: 0.3865 - loss: 2.5786e-06 - precision: 0.9906 - recall: 0.9981 - val_accuracy: 0.0522 - val_loss: 0.0022 - val_precision: 0.9235 - val_recall: 0.9378 - learning_rate: 0.0010\n",
      "Epoch 27/100\n",
      "\u001b[1m1857/1857\u001b[0m \u001b[32m━━━━━━━━━━━━━━━━━━━━\u001b[0m\u001b[37m\u001b[0m \u001b[1m7s\u001b[0m 4ms/step - accuracy: 0.3823 - loss: 2.7059e-06 - precision: 0.9900 - recall: 0.9981 - val_accuracy: 0.1255 - val_loss: 0.0020 - val_precision: 0.9270 - val_recall: 0.9318 - learning_rate: 0.0010\n",
      "Epoch 28/100\n",
      "\u001b[1m1857/1857\u001b[0m \u001b[32m━━━━━━━━━━━━━━━━━━━━\u001b[0m\u001b[37m\u001b[0m \u001b[1m7s\u001b[0m 4ms/step - accuracy: 0.3894 - loss: 2.3681e-06 - precision: 0.9915 - recall: 0.9983 - val_accuracy: 0.1018 - val_loss: 0.0028 - val_precision: 0.9368 - val_recall: 0.8844 - learning_rate: 0.0010\n",
      "Epoch 29/100\n",
      "\u001b[1m1857/1857\u001b[0m \u001b[32m━━━━━━━━━━━━━━━━━━━━\u001b[0m\u001b[37m\u001b[0m \u001b[1m7s\u001b[0m 4ms/step - accuracy: 0.3885 - loss: 2.5079e-06 - precision: 0.9910 - recall: 0.9980 - val_accuracy: 0.0743 - val_loss: 0.0019 - val_precision: 0.9282 - val_recall: 0.9452 - learning_rate: 0.0010\n",
      "Epoch 30/100\n",
      "\u001b[1m1857/1857\u001b[0m \u001b[32m━━━━━━━━━━━━━━━━━━━━\u001b[0m\u001b[37m\u001b[0m \u001b[1m7s\u001b[0m 4ms/step - accuracy: 0.3906 - loss: 2.5216e-06 - precision: 0.9906 - recall: 0.9981 - val_accuracy: 0.0501 - val_loss: 0.0020 - val_precision: 0.9260 - val_recall: 0.9378 - learning_rate: 0.0010\n",
      "Epoch 31/100\n",
      "\u001b[1m1857/1857\u001b[0m \u001b[32m━━━━━━━━━━━━━━━━━━━━\u001b[0m\u001b[37m\u001b[0m \u001b[1m7s\u001b[0m 4ms/step - accuracy: 0.3787 - loss: 2.6268e-06 - precision: 0.9909 - recall: 0.9982 - val_accuracy: 0.0759 - val_loss: 0.0018 - val_precision: 0.8936 - val_recall: 0.9437 - learning_rate: 0.0010\n",
      "Epoch 32/100\n",
      "\u001b[1m1857/1857\u001b[0m \u001b[32m━━━━━━━━━━━━━━━━━━━━\u001b[0m\u001b[37m\u001b[0m \u001b[1m7s\u001b[0m 4ms/step - accuracy: 0.3957 - loss: 2.4000e-06 - precision: 0.9913 - recall: 0.9982 - val_accuracy: 0.0253 - val_loss: 0.0026 - val_precision: 0.8423 - val_recall: 0.9436 - learning_rate: 0.0010\n",
      "Epoch 33/100\n",
      "\u001b[1m1857/1857\u001b[0m \u001b[32m━━━━━━━━━━━━━━━━━━━━\u001b[0m\u001b[37m\u001b[0m \u001b[1m7s\u001b[0m 4ms/step - accuracy: 0.3870 - loss: 2.3813e-06 - precision: 0.9912 - recall: 0.9983 - val_accuracy: 0.0495 - val_loss: 0.0019 - val_precision: 0.8840 - val_recall: 0.9463 - learning_rate: 0.0010\n",
      "Epoch 34/100\n",
      "\u001b[1m1857/1857\u001b[0m \u001b[32m━━━━━━━━━━━━━━━━━━━━\u001b[0m\u001b[37m\u001b[0m \u001b[1m8s\u001b[0m 4ms/step - accuracy: 0.3864 - loss: 2.4897e-06 - precision: 0.9904 - recall: 0.9983 - val_accuracy: 0.1214 - val_loss: 0.0018 - val_precision: 0.9125 - val_recall: 0.9473 - learning_rate: 0.0010\n",
      "Epoch 35/100\n",
      "\u001b[1m1857/1857\u001b[0m \u001b[32m━━━━━━━━━━━━━━━━━━━━\u001b[0m\u001b[37m\u001b[0m \u001b[1m8s\u001b[0m 4ms/step - accuracy: 0.3868 - loss: 2.2861e-06 - precision: 0.9915 - recall: 0.9983 - val_accuracy: 0.0253 - val_loss: 0.0024 - val_precision: 0.8373 - val_recall: 0.9474 - learning_rate: 0.0010\n",
      "Epoch 36/100\n",
      "\u001b[1m1857/1857\u001b[0m \u001b[32m━━━━━━━━━━━━━━━━━━━━\u001b[0m\u001b[37m\u001b[0m \u001b[1m7s\u001b[0m 4ms/step - accuracy: 0.3894 - loss: 2.5049e-06 - precision: 0.9910 - recall: 0.9982 - val_accuracy: 0.0517 - val_loss: 0.0020 - val_precision: 0.8955 - val_recall: 0.9422 - learning_rate: 0.0010\n",
      "\u001b[1m18/18\u001b[0m \u001b[32m━━━━━━━━━━━━━━━━━━━━\u001b[0m\u001b[37m\u001b[0m \u001b[1m0s\u001b[0m 2ms/step - accuracy: 0.2112 - loss: 0.0061 - precision: 0.9796 - recall: 0.9067 \n",
      "WARNING:tensorflow:5 out of the last 21 calls to <function TensorFlowTrainer.make_predict_function.<locals>.one_step_on_data_distributed at 0x000002A839349510> triggered tf.function retracing. Tracing is expensive and the excessive number of tracings could be due to (1) creating @tf.function repeatedly in a loop, (2) passing tensors with different shapes, (3) passing Python objects instead of tensors. For (1), please define your @tf.function outside of the loop. For (2), @tf.function has reduce_retracing=True option that can avoid unnecessary retracing. For (3), please refer to https://www.tensorflow.org/guide/function#controlling_retracing and https://www.tensorflow.org/api_docs/python/tf/function for  more details.\n"
     ]
    },
    {
     "name": "stderr",
     "output_type": "stream",
     "text": [
      "WARNING:tensorflow:5 out of the last 21 calls to <function TensorFlowTrainer.make_predict_function.<locals>.one_step_on_data_distributed at 0x000002A839349510> triggered tf.function retracing. Tracing is expensive and the excessive number of tracings could be due to (1) creating @tf.function repeatedly in a loop, (2) passing tensors with different shapes, (3) passing Python objects instead of tensors. For (1), please define your @tf.function outside of the loop. For (2), @tf.function has reduce_retracing=True option that can avoid unnecessary retracing. For (3), please refer to https://www.tensorflow.org/guide/function#controlling_retracing and https://www.tensorflow.org/api_docs/python/tf/function for  more details.\n"
     ]
    },
    {
     "name": "stdout",
     "output_type": "stream",
     "text": [
      "\u001b[1m18/18\u001b[0m \u001b[32m━━━━━━━━━━━━━━━━━━━━\u001b[0m\u001b[37m\u001b[0m \u001b[1m0s\u001b[0m 3ms/step\n",
      "{'precision': '0.9930', 'recall': '0.9856', 'f1': '0.9893', 'hammingloss': '0.0009', 'Jaccard Index': '0.9219', 'accuracy': '0.8770'}\n",
      "\u001b[1m1/1\u001b[0m \u001b[32m━━━━━━━━━━━━━━━━━━━━\u001b[0m\u001b[37m\u001b[0m \u001b[1m0s\u001b[0m 47ms/step\n",
      "[{'vocab_type': 'AODN Platform Vocabulary', 'value': 'research vessel', 'url': 'http://vocab.nerc.ac.uk/collection/L06/current/31'}, {'vocab_type': 'AODN Discovery Parameter Vocabulary', 'value': 'abundance of biota', 'url': 'http://vocab.aodn.org.au/def/discovery_parameter/entity/488'}, {'vocab_type': 'AODN Discovery Parameter Vocabulary', 'value': 'biotic taxonomic identification', 'url': 'http://vocab.aodn.org.au/def/discovery_parameter/entity/489'}]\n"
     ]
    }
   ],
   "source": [
    "pipeline(\n",
    "        isDataChanged=False,\n",
    "        usePretrainedModel=False,\n",
    "        description=item_description,\n",
    "        selected_model=\"development\",\n",
    "    )"
   ]
  },
  {
   "cell_type": "markdown",
   "metadata": {},
   "source": [
    "Last, we already have two pretrained model named `experimental` and `development`, we can directly use them for prediction."
   ]
  },
  {
   "cell_type": "code",
   "execution_count": 14,
   "metadata": {},
   "outputs": [
    {
     "name": "stderr",
     "output_type": "stream",
     "text": [
      "INFO:data_discovery_ai.utils.preprocessor:Load from C:\\Users\\yhu12\\OneDrive - University of Tasmania\\IMOS\\DataDiscovery\\data-discovery-ai\\data_discovery_ai\\resources\\keyword_sample.pkl\n",
      "INFO:data_discovery_ai.utils.preprocessor:Load from C:\\Users\\yhu12\\OneDrive - University of Tasmania\\IMOS\\DataDiscovery\\data-discovery-ai\\data_discovery_ai\\resources\\keyword_label.pkl\n"
     ]
    },
    {
     "name": "stdout",
     "output_type": "stream",
     "text": [
      "\u001b[1m1/1\u001b[0m \u001b[32m━━━━━━━━━━━━━━━━━━━━\u001b[0m\u001b[37m\u001b[0m \u001b[1m0s\u001b[0m 29ms/step\n",
      "[{'vocab_type': 'AODN Platform Vocabulary', 'value': 'research vessel', 'url': 'http://vocab.nerc.ac.uk/collection/L06/current/31'}, {'vocab_type': 'AODN Discovery Parameter Vocabulary', 'value': 'abundance of biota', 'url': 'http://vocab.aodn.org.au/def/discovery_parameter/entity/488'}, {'vocab_type': 'AODN Discovery Parameter Vocabulary', 'value': 'biotic taxonomic identification', 'url': 'http://vocab.aodn.org.au/def/discovery_parameter/entity/489'}]\n"
     ]
    }
   ],
   "source": [
    "pipeline(\n",
    "        isDataChanged=False,\n",
    "        usePretrainedModel=True,\n",
    "        description=item_description,\n",
    "        selected_model=\"development\",\n",
    "    )"
   ]
  }
 ],
 "metadata": {
  "kernelspec": {
   "display_name": "base",
   "language": "python",
   "name": "python3"
  },
  "language_info": {
   "codemirror_mode": {
    "name": "ipython",
    "version": 3
   },
   "file_extension": ".py",
   "mimetype": "text/x-python",
   "name": "python",
   "nbconvert_exporter": "python",
   "pygments_lexer": "ipython3",
   "version": "3.10.14"
  }
 },
 "nbformat": 4,
 "nbformat_minor": 2
}
