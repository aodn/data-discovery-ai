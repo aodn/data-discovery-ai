{
 "cells": [
  {
   "cell_type": "markdown",
   "metadata": {},
   "source": [
    "# ML model for Keyword Classification - Non-tech Notebook\n",
    "This notebook introduces how to use this trained ML model, for non-technical audiences. For how to preprocessing raw data, and the details of training a keyword classification model, please refer to [keywordClassificationTechNotebook.ipynb](KeywordClassificationTechNotebook.ipynb). Please note that methods provided in [keywordClassificationTechNotebook.ipynb](KeywordClassificationTechNotebook.ipynb) are breakdown. For better use the code as a pipeline, we use embedded functions provided in `keyword_classifier_pipeline.py`."
   ]
  },
  {
   "cell_type": "markdown",
   "metadata": {},
   "source": [
    "First, let's define an unlabelled item with its title and abstract. We will use it as an example to show how we use the pipelines along with different parameters to make keyword classification."
   ]
  },
  {
   "cell_type": "code",
   "execution_count": 1,
   "metadata": {},
   "outputs": [
    {
     "data": {
      "text/plain": [
       "'Corals and coral communities of Lord Howe Island, Australia: Ecological and taxonomic surveys of hermatypic scleractinian corals were carried out at approximately 100 sites around Lord Howe Island. Sixty-six of these sites were located on reefs in the lagoon, which extends for two-thirds of the length of the island on the western side. Each survey site consisted of a section of reef surface, which appeared to be topographically and faunistically homogeneous. The dimensions of the sites surveyed were generally of the order of 20m by 20m. Where possible, sites were arranged contiguously along a band up the reef slope and across the flat. The cover of each species was graded on a five-point scale of percentage relative cover. Other site attributes recorded were depth (minimum and maximum corrected to datum), slope (estimated), substrate type, total estimated cover of soft coral and algae (macroscopic and encrusting coralline). Coral data from the lagoon and its reef (66 sites) were used to define a small number of site groups which characterize most of this area.Throughout the survey, corals of taxonomic interest or difficulty were collected, and an extensive photographic record was made to augment survey data. A collection of the full range of form of all coral species was made during the survey and an identified reference series was deposited in the Australian Museum.In addition, less detailed descriptive data pertaining to coral communities and topography were recorded on 12 reconnaissance transects, the authors recording changes seen while being towed behind a boat.\\n The purpose of this study was to describe the corals of Lord Howe Island (the southernmost Indo-Pacific reef) at species and community level using methods that would allow differentiation of community types and allow comparisons with coral communities in other geographic locations.'"
      ]
     },
     "execution_count": 1,
     "metadata": {},
     "output_type": "execute_result"
    }
   ],
   "source": [
    "item_title = \"Corals and coral communities of Lord Howe Island, Australia\"\n",
    "item_abstract = \"\"\"Ecological and taxonomic surveys of hermatypic scleractinian corals were carried out at approximately 100 sites around Lord Howe Island. Sixty-six of these sites were located on reefs in the lagoon, which extends for two-thirds of the length of the island on the western side. Each survey site consisted of a section of reef surface, which appeared to be topographically and faunistically homogeneous. The dimensions of the sites surveyed were generally of the order of 20m by 20m. Where possible, sites were arranged contiguously along a band up the reef slope and across the flat. The cover of each species was graded on a five-point scale of percentage relative cover. Other site attributes recorded were depth (minimum and maximum corrected to datum), slope (estimated), substrate type, total estimated cover of soft coral and algae (macroscopic and encrusting coralline). Coral data from the lagoon and its reef (66 sites) were used to define a small number of site groups which characterize most of this area.Throughout the survey, corals of taxonomic interest or difficulty were collected, and an extensive photographic record was made to augment survey data. A collection of the full range of form of all coral species was made during the survey and an identified reference series was deposited in the Australian Museum.In addition, less detailed descriptive data pertaining to coral communities and topography were recorded on 12 reconnaissance transects, the authors recording changes seen while being towed behind a boat.\n",
    " The purpose of this study was to describe the corals of Lord Howe Island (the southernmost Indo-Pacific reef) at species and community level using methods that would allow differentiation of community types and allow comparisons with coral communities in other geographic locations.\"\"\"\n",
    "item_description = f\"{item_title}: {item_abstract}\"\n",
    "item_description"
   ]
  },
  {
   "cell_type": "code",
   "execution_count": 2,
   "metadata": {},
   "outputs": [
    {
     "name": "stderr",
     "output_type": "stream",
     "text": [
      "c:\\Users\\yhu12\\AppData\\Local\\miniforge3\\lib\\site-packages\\tqdm\\auto.py:21: TqdmWarning: IProgress not found. Please update jupyter and ipywidgets. See https://ipywidgets.readthedocs.io/en/stable/user_install.html\n",
      "  from .autonotebook import tqdm as notebook_tqdm\n"
     ]
    }
   ],
   "source": [
    "# add module path for notebook to use\n",
    "import sys\n",
    "import os\n",
    "\n",
    "project_root = os.path.abspath(os.path.join(os.getcwd(), os.pardir))\n",
    "sys.path.append(project_root)\n",
    "\n",
    "# import customised modules\n",
    "from data_discovery_ai.pipeline.pipeline import KeywordClassifierPipeline"
   ]
  },
  {
   "cell_type": "markdown",
   "metadata": {},
   "source": [
    "When initialise a `KeywordClassfierPipeline` object, three parameters are essential:\n",
    "1. `is_data_changed`: bool. The indicator to call the data preprocessing module or not.\n",
    "2. `use_pretrained_model`: bool. The indicator to use the pretrained model or not.\n",
    "3. `model_name`: Specifies the name of a trained model. The options are strictly limited to the following: `development`,`experimental`, `staging`, `production`, `benchmark`. If `use_pretrained_model` is set to `True`, the `selected_model` must already be pretrained. This implies that a corresponding `selected_model.keras` file must exist in the `resources` folder.\n",
    "\n",
    "| Option | Purpose | Typical Use |\n",
    "| ---- | ---- | ---- |\n",
    "| `development` | Dedicated to active model development, testing, and iteration. | Building and refining new model versions, features, or datasets. |\n",
    "| `experimental` | Supports exploratory work for new techniques or fine-tuning. | Experimenting with new architectures, features, or hyperparameter tuning. |\n",
    "| `staging` | Prepares the model for production with real-use evaluations. | Conducting final testing in a production-like environment to verify stability and performance. |\n",
    "| `production` | Deployment environment for live model usage in real-world scenarios. | Running and monitoring models in active use by API. |\n",
    "| `benchmark` | Baseline model used to assess improvements or changes. | Comparing performance metrics against new models. |\n",
    "\n",
    "Once a `KeywordClassfierPipeline` object is initialised, we can use its `pipeline(description)` function to make prediction. The parameter `description` is a string which is composed with the title and abstract of a metadata record, it should constructed as `item_title: item_abstract`, to align with the format of training set.\n",
    "\n",
    "\n"
   ]
  },
  {
   "cell_type": "markdown",
   "metadata": {},
   "source": [
    "With fixed `description` and `selected_model`, there are three combinations of `is_data_changed` and `use_pretrained_model` that cover three typical scenarios:\n",
    "\n",
    "1. `is_data_changed=True` and `use_pretrained_model=False`\n",
    "\n",
    "    This setup is commonly used when a new environment is established, such as during the initial deployment of an ML system. It is also appropriate when the raw data has undergone significant changes, requiring the pipeline to be reapplied. However, use caution when applying this pipeline for end-users, as it can be time-consuming.\n",
    "\n",
    "2. `is_data_changed=False` and `use_pretrained_model=True`\n",
    "\n",
    "    This setup is suitable when we adjust the model through hyperparameter tuning without changing the raw data, or when the raw data has not undergone significant changes. This should be only used for developers conducting experiments.\n",
    "\n",
    "3. `is_data_changed=False` and `use_pretrained_model=False`\n",
    "\n",
    "    This setup is used to employ a pretrained model for prediction. It is designed to provide a keyword classification suggestion service for end-users, enabling efficient and reliable functionality."
   ]
  },
  {
   "cell_type": "code",
   "execution_count": 3,
   "metadata": {},
   "outputs": [
    {
     "name": "stderr",
     "output_type": "stream",
     "text": [
      "searching elasticsearch: 100%|██████████| 129/129 [11:29<00:00,  5.34s/it]\n",
      "100%|██████████| 1858/1858 [44:41<00:00,  1.44s/it] \n",
      "INFO:data_discovery_ai.utils.preprocessor:Saved to C:\\Users\\yhu12\\AppData\\Local\\Temp\\tmpfafmn8qq\\keyword_sample.pkl\n",
      "INFO:data_discovery_ai.utils.preprocessor:Saved to C:\\Users\\yhu12\\OneDrive - University of Tasmania\\IMOS\\DataDiscovery\\data-discovery-ai\\data_discovery_ai\\resources\\KeywordClassifier\\keyword_sample.pkl\n",
      "INFO:data_discovery_ai.utils.preprocessor:Saved to C:\\Users\\yhu12\\AppData\\Local\\Temp\\tmpfafmn8qq\\keyword_label.pkl\n",
      "INFO:data_discovery_ai.utils.preprocessor: ======== After Resampling ========\n",
      "INFO:data_discovery_ai.utils.preprocessor:Total samples: 2066\n",
      "INFO:data_discovery_ai.utils.preprocessor:Dimension: 768\n",
      "INFO:data_discovery_ai.utils.preprocessor:No. of labels: 262\n",
      "INFO:data_discovery_ai.utils.preprocessor:X resampled set size: 2066\n",
      "INFO:data_discovery_ai.utils.preprocessor:Y resampled set size: 2066\n",
      "INFO:data_discovery_ai.utils.preprocessor:Total samples: 2066\n",
      "INFO:data_discovery_ai.utils.preprocessor:Dimension: 768\n",
      "INFO:data_discovery_ai.utils.preprocessor:No. of labels: 262\n",
      "INFO:data_discovery_ai.utils.preprocessor:Train set size: 1650 (79.86%)\n",
      "INFO:data_discovery_ai.utils.preprocessor:Test set size: 416 (20.14%)\n",
      "INFO:data_discovery_ai.utils.preprocessor: ======== After Resampling ========\n",
      "INFO:data_discovery_ai.utils.preprocessor:Total samples: 123424\n",
      "INFO:data_discovery_ai.utils.preprocessor:Dimension: 768\n",
      "INFO:data_discovery_ai.utils.preprocessor:No. of labels: 262\n",
      "INFO:data_discovery_ai.utils.preprocessor:X resampled set size: 123424\n",
      "INFO:data_discovery_ai.utils.preprocessor:Y resampled set size: 123424\n",
      "INFO:data_discovery_ai.utils.preprocessor:Saved to C:\\Users\\yhu12\\OneDrive - University of Tasmania\\IMOS\\DataDiscovery\\data-discovery-ai\\data_discovery_ai\\resources\\KeywordClassifier\\keyword_label.pkl\n"
     ]
    },
    {
     "data": {
      "text/html": [
       "<pre style=\"white-space:pre;overflow-x:auto;line-height:normal;font-family:Menlo,'DejaVu Sans Mono',consolas,'Courier New',monospace\"><span style=\"font-weight: bold\">Model: \"sequential\"</span>\n",
       "</pre>\n"
      ],
      "text/plain": [
       "\u001b[1mModel: \"sequential\"\u001b[0m\n"
      ]
     },
     "metadata": {},
     "output_type": "display_data"
    },
    {
     "data": {
      "text/html": [
       "<pre style=\"white-space:pre;overflow-x:auto;line-height:normal;font-family:Menlo,'DejaVu Sans Mono',consolas,'Courier New',monospace\">┏━━━━━━━━━━━━━━━━━━━━━━━━━━━━━━━━━┳━━━━━━━━━━━━━━━━━━━━━━━━┳━━━━━━━━━━━━━━━┓\n",
       "┃<span style=\"font-weight: bold\"> Layer (type)                    </span>┃<span style=\"font-weight: bold\"> Output Shape           </span>┃<span style=\"font-weight: bold\">       Param # </span>┃\n",
       "┡━━━━━━━━━━━━━━━━━━━━━━━━━━━━━━━━━╇━━━━━━━━━━━━━━━━━━━━━━━━╇━━━━━━━━━━━━━━━┩\n",
       "│ dense (<span style=\"color: #0087ff; text-decoration-color: #0087ff\">Dense</span>)                   │ (<span style=\"color: #00d7ff; text-decoration-color: #00d7ff\">None</span>, <span style=\"color: #00af00; text-decoration-color: #00af00\">128</span>)            │        <span style=\"color: #00af00; text-decoration-color: #00af00\">98,432</span> │\n",
       "├─────────────────────────────────┼────────────────────────┼───────────────┤\n",
       "│ dropout (<span style=\"color: #0087ff; text-decoration-color: #0087ff\">Dropout</span>)               │ (<span style=\"color: #00d7ff; text-decoration-color: #00d7ff\">None</span>, <span style=\"color: #00af00; text-decoration-color: #00af00\">128</span>)            │             <span style=\"color: #00af00; text-decoration-color: #00af00\">0</span> │\n",
       "├─────────────────────────────────┼────────────────────────┼───────────────┤\n",
       "│ dense_1 (<span style=\"color: #0087ff; text-decoration-color: #0087ff\">Dense</span>)                 │ (<span style=\"color: #00d7ff; text-decoration-color: #00d7ff\">None</span>, <span style=\"color: #00af00; text-decoration-color: #00af00\">262</span>)            │        <span style=\"color: #00af00; text-decoration-color: #00af00\">33,798</span> │\n",
       "└─────────────────────────────────┴────────────────────────┴───────────────┘\n",
       "</pre>\n"
      ],
      "text/plain": [
       "┏━━━━━━━━━━━━━━━━━━━━━━━━━━━━━━━━━┳━━━━━━━━━━━━━━━━━━━━━━━━┳━━━━━━━━━━━━━━━┓\n",
       "┃\u001b[1m \u001b[0m\u001b[1mLayer (type)                   \u001b[0m\u001b[1m \u001b[0m┃\u001b[1m \u001b[0m\u001b[1mOutput Shape          \u001b[0m\u001b[1m \u001b[0m┃\u001b[1m \u001b[0m\u001b[1m      Param #\u001b[0m\u001b[1m \u001b[0m┃\n",
       "┡━━━━━━━━━━━━━━━━━━━━━━━━━━━━━━━━━╇━━━━━━━━━━━━━━━━━━━━━━━━╇━━━━━━━━━━━━━━━┩\n",
       "│ dense (\u001b[38;5;33mDense\u001b[0m)                   │ (\u001b[38;5;45mNone\u001b[0m, \u001b[38;5;34m128\u001b[0m)            │        \u001b[38;5;34m98,432\u001b[0m │\n",
       "├─────────────────────────────────┼────────────────────────┼───────────────┤\n",
       "│ dropout (\u001b[38;5;33mDropout\u001b[0m)               │ (\u001b[38;5;45mNone\u001b[0m, \u001b[38;5;34m128\u001b[0m)            │             \u001b[38;5;34m0\u001b[0m │\n",
       "├─────────────────────────────────┼────────────────────────┼───────────────┤\n",
       "│ dense_1 (\u001b[38;5;33mDense\u001b[0m)                 │ (\u001b[38;5;45mNone\u001b[0m, \u001b[38;5;34m262\u001b[0m)            │        \u001b[38;5;34m33,798\u001b[0m │\n",
       "└─────────────────────────────────┴────────────────────────┴───────────────┘\n"
      ]
     },
     "metadata": {},
     "output_type": "display_data"
    },
    {
     "data": {
      "text/html": [
       "<pre style=\"white-space:pre;overflow-x:auto;line-height:normal;font-family:Menlo,'DejaVu Sans Mono',consolas,'Courier New',monospace\"><span style=\"font-weight: bold\"> Total params: </span><span style=\"color: #00af00; text-decoration-color: #00af00\">132,230</span> (516.52 KB)\n",
       "</pre>\n"
      ],
      "text/plain": [
       "\u001b[1m Total params: \u001b[0m\u001b[38;5;34m132,230\u001b[0m (516.52 KB)\n"
      ]
     },
     "metadata": {},
     "output_type": "display_data"
    },
    {
     "data": {
      "text/html": [
       "<pre style=\"white-space:pre;overflow-x:auto;line-height:normal;font-family:Menlo,'DejaVu Sans Mono',consolas,'Courier New',monospace\"><span style=\"font-weight: bold\"> Trainable params: </span><span style=\"color: #00af00; text-decoration-color: #00af00\">132,230</span> (516.52 KB)\n",
       "</pre>\n"
      ],
      "text/plain": [
       "\u001b[1m Trainable params: \u001b[0m\u001b[38;5;34m132,230\u001b[0m (516.52 KB)\n"
      ]
     },
     "metadata": {},
     "output_type": "display_data"
    },
    {
     "data": {
      "text/html": [
       "<pre style=\"white-space:pre;overflow-x:auto;line-height:normal;font-family:Menlo,'DejaVu Sans Mono',consolas,'Courier New',monospace\"><span style=\"font-weight: bold\"> Non-trainable params: </span><span style=\"color: #00af00; text-decoration-color: #00af00\">0</span> (0.00 B)\n",
       "</pre>\n"
      ],
      "text/plain": [
       "\u001b[1m Non-trainable params: \u001b[0m\u001b[38;5;34m0\u001b[0m (0.00 B)\n"
      ]
     },
     "metadata": {},
     "output_type": "display_data"
    },
    {
     "name": "stdout",
     "output_type": "stream",
     "text": [
      "Epoch 1/100\n",
      "\u001b[1m3086/3086\u001b[0m \u001b[32m━━━━━━━━━━━━━━━━━━━━\u001b[0m\u001b[37m\u001b[0m \u001b[1m14s\u001b[0m 4ms/step - accuracy: 0.2005 - loss: 4.8939e-04 - precision: 0.5673 - recall: 0.6511 - val_accuracy: 0.1055 - val_loss: 0.0338 - val_precision: 0.6524 - val_recall: 0.2060 - learning_rate: 0.0010\n",
      "Epoch 2/100\n",
      "\u001b[1m3086/3086\u001b[0m \u001b[32m━━━━━━━━━━━━━━━━━━━━\u001b[0m\u001b[37m\u001b[0m \u001b[1m12s\u001b[0m 4ms/step - accuracy: 0.3395 - loss: 5.8786e-05 - precision: 0.9209 - recall: 0.9685 - val_accuracy: 0.1097 - val_loss: 0.0384 - val_precision: 0.7591 - val_recall: 0.3295 - learning_rate: 0.0010\n",
      "Epoch 3/100\n",
      "\u001b[1m3086/3086\u001b[0m \u001b[32m━━━━━━━━━━━━━━━━━━━━\u001b[0m\u001b[37m\u001b[0m \u001b[1m10s\u001b[0m 3ms/step - accuracy: 0.3450 - loss: 3.3441e-05 - precision: 0.9498 - recall: 0.9840 - val_accuracy: 0.1301 - val_loss: 0.0350 - val_precision: 0.7941 - val_recall: 0.3960 - learning_rate: 0.0010\n",
      "Epoch 4/100\n",
      "\u001b[1m3086/3086\u001b[0m \u001b[32m━━━━━━━━━━━━━━━━━━━━\u001b[0m\u001b[37m\u001b[0m \u001b[1m10s\u001b[0m 3ms/step - accuracy: 0.3469 - loss: 2.6286e-05 - precision: 0.9588 - recall: 0.9879 - val_accuracy: 0.1097 - val_loss: 0.0289 - val_precision: 0.7876 - val_recall: 0.4124 - learning_rate: 0.0010\n",
      "Epoch 5/100\n",
      "\u001b[1m3086/3086\u001b[0m \u001b[32m━━━━━━━━━━━━━━━━━━━━\u001b[0m\u001b[37m\u001b[0m \u001b[1m10s\u001b[0m 3ms/step - accuracy: 0.3506 - loss: 2.3988e-05 - precision: 0.9623 - recall: 0.9890 - val_accuracy: 0.1319 - val_loss: 0.0264 - val_precision: 0.8347 - val_recall: 0.4980 - learning_rate: 0.0010\n",
      "Epoch 6/100\n",
      "\u001b[1m3086/3086\u001b[0m \u001b[32m━━━━━━━━━━━━━━━━━━━━\u001b[0m\u001b[37m\u001b[0m \u001b[1m11s\u001b[0m 4ms/step - accuracy: 0.3502 - loss: 2.0268e-05 - precision: 0.9676 - recall: 0.9911 - val_accuracy: 0.1320 - val_loss: 0.0240 - val_precision: 0.8298 - val_recall: 0.4544 - learning_rate: 0.0010\n",
      "Epoch 7/100\n",
      "\u001b[1m3086/3086\u001b[0m \u001b[32m━━━━━━━━━━━━━━━━━━━━\u001b[0m\u001b[37m\u001b[0m \u001b[1m11s\u001b[0m 4ms/step - accuracy: 0.3499 - loss: 1.7261e-05 - precision: 0.9713 - recall: 0.9925 - val_accuracy: 0.0990 - val_loss: 0.0234 - val_precision: 0.8764 - val_recall: 0.4823 - learning_rate: 0.0010\n",
      "Epoch 8/100\n",
      "\u001b[1m3086/3086\u001b[0m \u001b[32m━━━━━━━━━━━━━━━━━━━━\u001b[0m\u001b[37m\u001b[0m \u001b[1m11s\u001b[0m 3ms/step - accuracy: 0.3430 - loss: 1.8015e-05 - precision: 0.9711 - recall: 0.9924 - val_accuracy: 0.1608 - val_loss: 0.0184 - val_precision: 0.8364 - val_recall: 0.5421 - learning_rate: 0.0010\n",
      "Epoch 9/100\n",
      "\u001b[1m3086/3086\u001b[0m \u001b[32m━━━━━━━━━━━━━━━━━━━━\u001b[0m\u001b[37m\u001b[0m \u001b[1m11s\u001b[0m 4ms/step - accuracy: 0.3422 - loss: 1.4596e-05 - precision: 0.9756 - recall: 0.9941 - val_accuracy: 0.1359 - val_loss: 0.0193 - val_precision: 0.8722 - val_recall: 0.5829 - learning_rate: 0.0010\n",
      "Epoch 10/100\n",
      "\u001b[1m3086/3086\u001b[0m \u001b[32m━━━━━━━━━━━━━━━━━━━━\u001b[0m\u001b[37m\u001b[0m \u001b[1m12s\u001b[0m 4ms/step - accuracy: 0.3512 - loss: 1.3898e-05 - precision: 0.9764 - recall: 0.9942 - val_accuracy: 0.1131 - val_loss: 0.0187 - val_precision: 0.8924 - val_recall: 0.5036 - learning_rate: 0.0010\n",
      "Epoch 11/100\n",
      "\u001b[1m3086/3086\u001b[0m \u001b[32m━━━━━━━━━━━━━━━━━━━━\u001b[0m\u001b[37m\u001b[0m \u001b[1m12s\u001b[0m 4ms/step - accuracy: 0.3528 - loss: 1.3883e-05 - precision: 0.9772 - recall: 0.9945 - val_accuracy: 0.1746 - val_loss: 0.0163 - val_precision: 0.8373 - val_recall: 0.6197 - learning_rate: 0.0010\n",
      "Epoch 12/100\n",
      "\u001b[1m3086/3086\u001b[0m \u001b[32m━━━━━━━━━━━━━━━━━━━━\u001b[0m\u001b[37m\u001b[0m \u001b[1m11s\u001b[0m 4ms/step - accuracy: 0.3593 - loss: 1.3066e-05 - precision: 0.9783 - recall: 0.9949 - val_accuracy: 0.1777 - val_loss: 0.0118 - val_precision: 0.8507 - val_recall: 0.6480 - learning_rate: 0.0010\n",
      "Epoch 13/100\n",
      "\u001b[1m3086/3086\u001b[0m \u001b[32m━━━━━━━━━━━━━━━━━━━━\u001b[0m\u001b[37m\u001b[0m \u001b[1m11s\u001b[0m 4ms/step - accuracy: 0.3547 - loss: 1.2664e-05 - precision: 0.9787 - recall: 0.9949 - val_accuracy: 0.1527 - val_loss: 0.0163 - val_precision: 0.8860 - val_recall: 0.5968 - learning_rate: 0.0010\n",
      "Epoch 14/100\n",
      "\u001b[1m3086/3086\u001b[0m \u001b[32m━━━━━━━━━━━━━━━━━━━━\u001b[0m\u001b[37m\u001b[0m \u001b[1m10s\u001b[0m 3ms/step - accuracy: 0.3657 - loss: 1.2431e-05 - precision: 0.9790 - recall: 0.9950 - val_accuracy: 0.1703 - val_loss: 0.0112 - val_precision: 0.8534 - val_recall: 0.7294 - learning_rate: 0.0010\n",
      "Epoch 15/100\n",
      "\u001b[1m3086/3086\u001b[0m \u001b[32m━━━━━━━━━━━━━━━━━━━━\u001b[0m\u001b[37m\u001b[0m \u001b[1m10s\u001b[0m 3ms/step - accuracy: 0.3641 - loss: 1.1885e-05 - precision: 0.9803 - recall: 0.9956 - val_accuracy: 0.1658 - val_loss: 0.0126 - val_precision: 0.8525 - val_recall: 0.6892 - learning_rate: 0.0010\n",
      "Epoch 16/100\n",
      "\u001b[1m3086/3086\u001b[0m \u001b[32m━━━━━━━━━━━━━━━━━━━━\u001b[0m\u001b[37m\u001b[0m \u001b[1m12s\u001b[0m 4ms/step - accuracy: 0.3543 - loss: 1.0827e-05 - precision: 0.9820 - recall: 0.9959 - val_accuracy: 0.1608 - val_loss: 0.0127 - val_precision: 0.8652 - val_recall: 0.6570 - learning_rate: 0.0010\n",
      "Epoch 17/100\n",
      "\u001b[1m3086/3086\u001b[0m \u001b[32m━━━━━━━━━━━━━━━━━━━━\u001b[0m\u001b[37m\u001b[0m \u001b[1m12s\u001b[0m 4ms/step - accuracy: 0.3522 - loss: 9.7087e-06 - precision: 0.9835 - recall: 0.9964 - val_accuracy: 0.1634 - val_loss: 0.0103 - val_precision: 0.8925 - val_recall: 0.6934 - learning_rate: 0.0010\n",
      "Epoch 18/100\n",
      "\u001b[1m3086/3086\u001b[0m \u001b[32m━━━━━━━━━━━━━━━━━━━━\u001b[0m\u001b[37m\u001b[0m \u001b[1m10s\u001b[0m 3ms/step - accuracy: 0.3608 - loss: 1.0256e-05 - precision: 0.9825 - recall: 0.9963 - val_accuracy: 0.1121 - val_loss: 0.0093 - val_precision: 0.8245 - val_recall: 0.7147 - learning_rate: 0.0010\n",
      "Epoch 19/100\n",
      "\u001b[1m3086/3086\u001b[0m \u001b[32m━━━━━━━━━━━━━━━━━━━━\u001b[0m\u001b[37m\u001b[0m \u001b[1m10s\u001b[0m 3ms/step - accuracy: 0.3563 - loss: 1.0757e-05 - precision: 0.9821 - recall: 0.9957 - val_accuracy: 0.1296 - val_loss: 0.0095 - val_precision: 0.8448 - val_recall: 0.6941 - learning_rate: 0.0010\n",
      "Epoch 20/100\n",
      "\u001b[1m3086/3086\u001b[0m \u001b[32m━━━━━━━━━━━━━━━━━━━━\u001b[0m\u001b[37m\u001b[0m \u001b[1m11s\u001b[0m 4ms/step - accuracy: 0.3525 - loss: 9.9767e-06 - precision: 0.9830 - recall: 0.9962 - val_accuracy: 0.1210 - val_loss: 0.0082 - val_precision: 0.8434 - val_recall: 0.7680 - learning_rate: 0.0010\n",
      "Epoch 21/100\n",
      "\u001b[1m3086/3086\u001b[0m \u001b[32m━━━━━━━━━━━━━━━━━━━━\u001b[0m\u001b[37m\u001b[0m \u001b[1m10s\u001b[0m 3ms/step - accuracy: 0.3541 - loss: 9.4788e-06 - precision: 0.9841 - recall: 0.9963 - val_accuracy: 0.1354 - val_loss: 0.0096 - val_precision: 0.8523 - val_recall: 0.7063 - learning_rate: 0.0010\n",
      "Epoch 22/100\n",
      "\u001b[1m3086/3086\u001b[0m \u001b[32m━━━━━━━━━━━━━━━━━━━━\u001b[0m\u001b[37m\u001b[0m \u001b[1m10s\u001b[0m 3ms/step - accuracy: 0.3472 - loss: 9.0332e-06 - precision: 0.9852 - recall: 0.9967 - val_accuracy: 0.2053 - val_loss: 0.0091 - val_precision: 0.8397 - val_recall: 0.7218 - learning_rate: 0.0010\n",
      "Epoch 23/100\n",
      "\u001b[1m3086/3086\u001b[0m \u001b[32m━━━━━━━━━━━━━━━━━━━━\u001b[0m\u001b[37m\u001b[0m \u001b[1m17s\u001b[0m 2ms/step - accuracy: 0.3611 - loss: 9.1600e-06 - precision: 0.9848 - recall: 0.9966 - val_accuracy: 0.1543 - val_loss: 0.0083 - val_precision: 0.8467 - val_recall: 0.7632 - learning_rate: 0.0010\n",
      "\u001b[1m13/13\u001b[0m \u001b[32m━━━━━━━━━━━━━━━━━━━━\u001b[0m\u001b[37m\u001b[0m \u001b[1m0s\u001b[0m 4ms/step - accuracy: 0.3418 - loss: 0.0112 - precision: 0.9436 - recall: 0.8256 \n",
      "\u001b[1m13/13\u001b[0m \u001b[32m━━━━━━━━━━━━━━━━━━━━\u001b[0m\u001b[37m\u001b[0m \u001b[1m0s\u001b[0m 2ms/step \n",
      "{'precision': '0.9510', 'recall': '0.8903', 'f1': '0.9196', 'hammingloss': '0.0034', 'Jaccard Index': '0.8519', 'accuracy': '0.7861'}\n",
      "\u001b[1m1/1\u001b[0m \u001b[32m━━━━━━━━━━━━━━━━━━━━\u001b[0m\u001b[37m\u001b[0m \u001b[1m0s\u001b[0m 40ms/step\n"
     ]
    }
   ],
   "source": [
    "scenario1_pipeline = KeywordClassifierPipeline(\n",
    "        is_data_changed=True,\n",
    "        use_pretrained_model=False,\n",
    "        model_name=\"experimental\",\n",
    "    )\n",
    "scenario1_pipeline.pipeline(description=item_description)"
   ]
  },
  {
   "cell_type": "markdown",
   "metadata": {},
   "source": [
    "So it go through the whole pipeline: including data preprocessing, training, and prediction. Once we have fetched data, with minimal data change, we can directly train/retrain the model:"
   ]
  },
  {
   "cell_type": "code",
   "execution_count": 4,
   "metadata": {},
   "outputs": [
    {
     "name": "stderr",
     "output_type": "stream",
     "text": [
      "INFO:data_discovery_ai.utils.preprocessor:Load from C:\\Users\\yhu12\\OneDrive - University of Tasmania\\IMOS\\DataDiscovery\\data-discovery-ai\\data_discovery_ai\\resources\\KeywordClassifier\\keyword_sample.pkl\n",
      "INFO:data_discovery_ai.utils.preprocessor:Saved to C:\\Users\\yhu12\\AppData\\Local\\Temp\\tmp5s926_aj\\keyword_label.pkl\n",
      "INFO:data_discovery_ai.utils.preprocessor: ======== After Resampling ========\n",
      "INFO:data_discovery_ai.utils.preprocessor:Total samples: 2066\n",
      "INFO:data_discovery_ai.utils.preprocessor:Dimension: 768\n",
      "INFO:data_discovery_ai.utils.preprocessor:No. of labels: 262\n",
      "INFO:data_discovery_ai.utils.preprocessor:X resampled set size: 2066\n",
      "INFO:data_discovery_ai.utils.preprocessor:Y resampled set size: 2066\n",
      "INFO:data_discovery_ai.utils.preprocessor:Total samples: 2066\n",
      "INFO:data_discovery_ai.utils.preprocessor:Dimension: 768\n",
      "INFO:data_discovery_ai.utils.preprocessor:No. of labels: 262\n",
      "INFO:data_discovery_ai.utils.preprocessor:Train set size: 1650 (79.86%)\n",
      "INFO:data_discovery_ai.utils.preprocessor:Test set size: 416 (20.14%)\n",
      "INFO:data_discovery_ai.utils.preprocessor: ======== After Resampling ========\n",
      "INFO:data_discovery_ai.utils.preprocessor:Total samples: 123424\n",
      "INFO:data_discovery_ai.utils.preprocessor:Dimension: 768\n",
      "INFO:data_discovery_ai.utils.preprocessor:No. of labels: 262\n",
      "INFO:data_discovery_ai.utils.preprocessor:X resampled set size: 123424\n",
      "INFO:data_discovery_ai.utils.preprocessor:Y resampled set size: 123424\n",
      "INFO:data_discovery_ai.utils.preprocessor:Saved to C:\\Users\\yhu12\\OneDrive - University of Tasmania\\IMOS\\DataDiscovery\\data-discovery-ai\\data_discovery_ai\\resources\\KeywordClassifier\\keyword_label.pkl\n"
     ]
    },
    {
     "data": {
      "text/html": [
       "<pre style=\"white-space:pre;overflow-x:auto;line-height:normal;font-family:Menlo,'DejaVu Sans Mono',consolas,'Courier New',monospace\"><span style=\"font-weight: bold\">Model: \"sequential_1\"</span>\n",
       "</pre>\n"
      ],
      "text/plain": [
       "\u001b[1mModel: \"sequential_1\"\u001b[0m\n"
      ]
     },
     "metadata": {},
     "output_type": "display_data"
    },
    {
     "data": {
      "text/html": [
       "<pre style=\"white-space:pre;overflow-x:auto;line-height:normal;font-family:Menlo,'DejaVu Sans Mono',consolas,'Courier New',monospace\">┏━━━━━━━━━━━━━━━━━━━━━━━━━━━━━━━━━┳━━━━━━━━━━━━━━━━━━━━━━━━┳━━━━━━━━━━━━━━━┓\n",
       "┃<span style=\"font-weight: bold\"> Layer (type)                    </span>┃<span style=\"font-weight: bold\"> Output Shape           </span>┃<span style=\"font-weight: bold\">       Param # </span>┃\n",
       "┡━━━━━━━━━━━━━━━━━━━━━━━━━━━━━━━━━╇━━━━━━━━━━━━━━━━━━━━━━━━╇━━━━━━━━━━━━━━━┩\n",
       "│ dense_2 (<span style=\"color: #0087ff; text-decoration-color: #0087ff\">Dense</span>)                 │ (<span style=\"color: #00d7ff; text-decoration-color: #00d7ff\">None</span>, <span style=\"color: #00af00; text-decoration-color: #00af00\">128</span>)            │        <span style=\"color: #00af00; text-decoration-color: #00af00\">98,432</span> │\n",
       "├─────────────────────────────────┼────────────────────────┼───────────────┤\n",
       "│ dropout_1 (<span style=\"color: #0087ff; text-decoration-color: #0087ff\">Dropout</span>)             │ (<span style=\"color: #00d7ff; text-decoration-color: #00d7ff\">None</span>, <span style=\"color: #00af00; text-decoration-color: #00af00\">128</span>)            │             <span style=\"color: #00af00; text-decoration-color: #00af00\">0</span> │\n",
       "├─────────────────────────────────┼────────────────────────┼───────────────┤\n",
       "│ dense_3 (<span style=\"color: #0087ff; text-decoration-color: #0087ff\">Dense</span>)                 │ (<span style=\"color: #00d7ff; text-decoration-color: #00d7ff\">None</span>, <span style=\"color: #00af00; text-decoration-color: #00af00\">262</span>)            │        <span style=\"color: #00af00; text-decoration-color: #00af00\">33,798</span> │\n",
       "└─────────────────────────────────┴────────────────────────┴───────────────┘\n",
       "</pre>\n"
      ],
      "text/plain": [
       "┏━━━━━━━━━━━━━━━━━━━━━━━━━━━━━━━━━┳━━━━━━━━━━━━━━━━━━━━━━━━┳━━━━━━━━━━━━━━━┓\n",
       "┃\u001b[1m \u001b[0m\u001b[1mLayer (type)                   \u001b[0m\u001b[1m \u001b[0m┃\u001b[1m \u001b[0m\u001b[1mOutput Shape          \u001b[0m\u001b[1m \u001b[0m┃\u001b[1m \u001b[0m\u001b[1m      Param #\u001b[0m\u001b[1m \u001b[0m┃\n",
       "┡━━━━━━━━━━━━━━━━━━━━━━━━━━━━━━━━━╇━━━━━━━━━━━━━━━━━━━━━━━━╇━━━━━━━━━━━━━━━┩\n",
       "│ dense_2 (\u001b[38;5;33mDense\u001b[0m)                 │ (\u001b[38;5;45mNone\u001b[0m, \u001b[38;5;34m128\u001b[0m)            │        \u001b[38;5;34m98,432\u001b[0m │\n",
       "├─────────────────────────────────┼────────────────────────┼───────────────┤\n",
       "│ dropout_1 (\u001b[38;5;33mDropout\u001b[0m)             │ (\u001b[38;5;45mNone\u001b[0m, \u001b[38;5;34m128\u001b[0m)            │             \u001b[38;5;34m0\u001b[0m │\n",
       "├─────────────────────────────────┼────────────────────────┼───────────────┤\n",
       "│ dense_3 (\u001b[38;5;33mDense\u001b[0m)                 │ (\u001b[38;5;45mNone\u001b[0m, \u001b[38;5;34m262\u001b[0m)            │        \u001b[38;5;34m33,798\u001b[0m │\n",
       "└─────────────────────────────────┴────────────────────────┴───────────────┘\n"
      ]
     },
     "metadata": {},
     "output_type": "display_data"
    },
    {
     "data": {
      "text/html": [
       "<pre style=\"white-space:pre;overflow-x:auto;line-height:normal;font-family:Menlo,'DejaVu Sans Mono',consolas,'Courier New',monospace\"><span style=\"font-weight: bold\"> Total params: </span><span style=\"color: #00af00; text-decoration-color: #00af00\">132,230</span> (516.52 KB)\n",
       "</pre>\n"
      ],
      "text/plain": [
       "\u001b[1m Total params: \u001b[0m\u001b[38;5;34m132,230\u001b[0m (516.52 KB)\n"
      ]
     },
     "metadata": {},
     "output_type": "display_data"
    },
    {
     "data": {
      "text/html": [
       "<pre style=\"white-space:pre;overflow-x:auto;line-height:normal;font-family:Menlo,'DejaVu Sans Mono',consolas,'Courier New',monospace\"><span style=\"font-weight: bold\"> Trainable params: </span><span style=\"color: #00af00; text-decoration-color: #00af00\">132,230</span> (516.52 KB)\n",
       "</pre>\n"
      ],
      "text/plain": [
       "\u001b[1m Trainable params: \u001b[0m\u001b[38;5;34m132,230\u001b[0m (516.52 KB)\n"
      ]
     },
     "metadata": {},
     "output_type": "display_data"
    },
    {
     "data": {
      "text/html": [
       "<pre style=\"white-space:pre;overflow-x:auto;line-height:normal;font-family:Menlo,'DejaVu Sans Mono',consolas,'Courier New',monospace\"><span style=\"font-weight: bold\"> Non-trainable params: </span><span style=\"color: #00af00; text-decoration-color: #00af00\">0</span> (0.00 B)\n",
       "</pre>\n"
      ],
      "text/plain": [
       "\u001b[1m Non-trainable params: \u001b[0m\u001b[38;5;34m0\u001b[0m (0.00 B)\n"
      ]
     },
     "metadata": {},
     "output_type": "display_data"
    },
    {
     "name": "stdout",
     "output_type": "stream",
     "text": [
      "Epoch 1/100\n",
      "\u001b[1m3086/3086\u001b[0m \u001b[32m━━━━━━━━━━━━━━━━━━━━\u001b[0m\u001b[37m\u001b[0m \u001b[1m10s\u001b[0m 3ms/step - accuracy: 0.1979 - loss: 5.1816e-04 - precision: 0.5504 - recall: 0.6347 - val_accuracy: 0.0867 - val_loss: 0.0494 - val_precision: 0.7125 - val_recall: 0.2473 - learning_rate: 0.0010\n",
      "Epoch 2/100\n",
      "\u001b[1m3086/3086\u001b[0m \u001b[32m━━━━━━━━━━━━━━━━━━━━\u001b[0m\u001b[37m\u001b[0m \u001b[1m10s\u001b[0m 3ms/step - accuracy: 0.3356 - loss: 6.0516e-05 - precision: 0.9154 - recall: 0.9667 - val_accuracy: 0.1186 - val_loss: 0.0403 - val_precision: 0.7871 - val_recall: 0.3381 - learning_rate: 0.0010\n",
      "Epoch 3/100\n",
      "\u001b[1m3086/3086\u001b[0m \u001b[32m━━━━━━━━━━━━━━━━━━━━\u001b[0m\u001b[37m\u001b[0m \u001b[1m11s\u001b[0m 3ms/step - accuracy: 0.3477 - loss: 3.7726e-05 - precision: 0.9418 - recall: 0.9817 - val_accuracy: 0.1319 - val_loss: 0.0333 - val_precision: 0.7972 - val_recall: 0.3805 - learning_rate: 0.0010\n",
      "Epoch 4/100\n",
      "\u001b[1m3086/3086\u001b[0m \u001b[32m━━━━━━━━━━━━━━━━━━━━\u001b[0m\u001b[37m\u001b[0m \u001b[1m11s\u001b[0m 4ms/step - accuracy: 0.3534 - loss: 2.9077e-05 - precision: 0.9537 - recall: 0.9871 - val_accuracy: 0.1010 - val_loss: 0.0289 - val_precision: 0.8259 - val_recall: 0.4101 - learning_rate: 0.0010\n",
      "Epoch 5/100\n",
      "\u001b[1m3086/3086\u001b[0m \u001b[32m━━━━━━━━━━━━━━━━━━━━\u001b[0m\u001b[37m\u001b[0m \u001b[1m12s\u001b[0m 4ms/step - accuracy: 0.3602 - loss: 2.4813e-05 - precision: 0.9591 - recall: 0.9894 - val_accuracy: 0.1541 - val_loss: 0.0233 - val_precision: 0.8051 - val_recall: 0.4385 - learning_rate: 0.0010\n",
      "Epoch 6/100\n",
      "\u001b[1m3086/3086\u001b[0m \u001b[32m━━━━━━━━━━━━━━━━━━━━\u001b[0m\u001b[37m\u001b[0m \u001b[1m12s\u001b[0m 4ms/step - accuracy: 0.3545 - loss: 2.3144e-05 - precision: 0.9613 - recall: 0.9905 - val_accuracy: 0.1650 - val_loss: 0.0230 - val_precision: 0.8152 - val_recall: 0.4903 - learning_rate: 0.0010\n",
      "Epoch 7/100\n",
      "\u001b[1m3086/3086\u001b[0m \u001b[32m━━━━━━━━━━━━━━━━━━━━\u001b[0m\u001b[37m\u001b[0m \u001b[1m12s\u001b[0m 4ms/step - accuracy: 0.3561 - loss: 2.1149e-05 - precision: 0.9650 - recall: 0.9911 - val_accuracy: 0.1193 - val_loss: 0.0210 - val_precision: 0.8313 - val_recall: 0.4865 - learning_rate: 0.0010\n",
      "Epoch 8/100\n",
      "\u001b[1m3086/3086\u001b[0m \u001b[32m━━━━━━━━━━━━━━━━━━━━\u001b[0m\u001b[37m\u001b[0m \u001b[1m9s\u001b[0m 3ms/step - accuracy: 0.3626 - loss: 1.9778e-05 - precision: 0.9664 - recall: 0.9916 - val_accuracy: 0.1217 - val_loss: 0.0181 - val_precision: 0.8557 - val_recall: 0.6016 - learning_rate: 0.0010\n",
      "Epoch 9/100\n",
      "\u001b[1m3086/3086\u001b[0m \u001b[32m━━━━━━━━━━━━━━━━━━━━\u001b[0m\u001b[37m\u001b[0m \u001b[1m12s\u001b[0m 4ms/step - accuracy: 0.3586 - loss: 1.7421e-05 - precision: 0.9707 - recall: 0.9932 - val_accuracy: 0.1698 - val_loss: 0.0177 - val_precision: 0.8288 - val_recall: 0.5133 - learning_rate: 0.0010\n",
      "Epoch 10/100\n",
      "\u001b[1m3086/3086\u001b[0m \u001b[32m━━━━━━━━━━━━━━━━━━━━\u001b[0m\u001b[37m\u001b[0m \u001b[1m19s\u001b[0m 3ms/step - accuracy: 0.3623 - loss: 1.7489e-05 - precision: 0.9707 - recall: 0.9937 - val_accuracy: 0.2000 - val_loss: 0.0160 - val_precision: 0.8095 - val_recall: 0.6022 - learning_rate: 0.0010\n",
      "Epoch 11/100\n",
      "\u001b[1m3086/3086\u001b[0m \u001b[32m━━━━━━━━━━━━━━━━━━━━\u001b[0m\u001b[37m\u001b[0m \u001b[1m11s\u001b[0m 4ms/step - accuracy: 0.3627 - loss: 1.5856e-05 - precision: 0.9734 - recall: 0.9945 - val_accuracy: 0.1813 - val_loss: 0.0150 - val_precision: 0.8187 - val_recall: 0.5504 - learning_rate: 0.0010\n",
      "Epoch 12/100\n",
      "\u001b[1m3086/3086\u001b[0m \u001b[32m━━━━━━━━━━━━━━━━━━━━\u001b[0m\u001b[37m\u001b[0m \u001b[1m11s\u001b[0m 4ms/step - accuracy: 0.3540 - loss: 1.5806e-05 - precision: 0.9735 - recall: 0.9944 - val_accuracy: 0.1516 - val_loss: 0.0128 - val_precision: 0.8339 - val_recall: 0.6539 - learning_rate: 0.0010\n",
      "Epoch 13/100\n",
      "\u001b[1m3086/3086\u001b[0m \u001b[32m━━━━━━━━━━━━━━━━━━━━\u001b[0m\u001b[37m\u001b[0m \u001b[1m11s\u001b[0m 3ms/step - accuracy: 0.3547 - loss: 1.4206e-05 - precision: 0.9760 - recall: 0.9946 - val_accuracy: 0.1808 - val_loss: 0.0125 - val_precision: 0.8414 - val_recall: 0.6664 - learning_rate: 0.0010\n",
      "Epoch 14/100\n",
      "\u001b[1m3086/3086\u001b[0m \u001b[32m━━━━━━━━━━━━━━━━━━━━\u001b[0m\u001b[37m\u001b[0m \u001b[1m12s\u001b[0m 4ms/step - accuracy: 0.3520 - loss: 1.5251e-05 - precision: 0.9740 - recall: 0.9945 - val_accuracy: 0.2065 - val_loss: 0.0124 - val_precision: 0.8261 - val_recall: 0.6968 - learning_rate: 0.0010\n",
      "Epoch 15/100\n",
      "\u001b[1m3086/3086\u001b[0m \u001b[32m━━━━━━━━━━━━━━━━━━━━\u001b[0m\u001b[37m\u001b[0m \u001b[1m19s\u001b[0m 3ms/step - accuracy: 0.3588 - loss: 1.3855e-05 - precision: 0.9762 - recall: 0.9949 - val_accuracy: 0.1468 - val_loss: 0.0122 - val_precision: 0.8830 - val_recall: 0.7021 - learning_rate: 0.0010\n",
      "Epoch 16/100\n",
      "\u001b[1m3086/3086\u001b[0m \u001b[32m━━━━━━━━━━━━━━━━━━━━\u001b[0m\u001b[37m\u001b[0m \u001b[1m11s\u001b[0m 4ms/step - accuracy: 0.3652 - loss: 1.4053e-05 - precision: 0.9763 - recall: 0.9948 - val_accuracy: 0.1792 - val_loss: 0.0109 - val_precision: 0.8482 - val_recall: 0.6831 - learning_rate: 0.0010\n",
      "Epoch 17/100\n",
      "\u001b[1m3086/3086\u001b[0m \u001b[32m━━━━━━━━━━━━━━━━━━━━\u001b[0m\u001b[37m\u001b[0m \u001b[1m12s\u001b[0m 4ms/step - accuracy: 0.3666 - loss: 1.4621e-05 - precision: 0.9756 - recall: 0.9947 - val_accuracy: 0.1918 - val_loss: 0.0101 - val_precision: 0.7979 - val_recall: 0.7097 - learning_rate: 0.0010\n",
      "Epoch 18/100\n",
      "\u001b[1m3086/3086\u001b[0m \u001b[32m━━━━━━━━━━━━━━━━━━━━\u001b[0m\u001b[37m\u001b[0m \u001b[1m19s\u001b[0m 3ms/step - accuracy: 0.3693 - loss: 1.2570e-05 - precision: 0.9788 - recall: 0.9955 - val_accuracy: 0.1470 - val_loss: 0.0102 - val_precision: 0.8505 - val_recall: 0.7065 - learning_rate: 0.0010\n",
      "Epoch 19/100\n",
      "\u001b[1m3086/3086\u001b[0m \u001b[32m━━━━━━━━━━━━━━━━━━━━\u001b[0m\u001b[37m\u001b[0m \u001b[1m12s\u001b[0m 4ms/step - accuracy: 0.3617 - loss: 1.4477e-05 - precision: 0.9757 - recall: 0.9947 - val_accuracy: 0.1313 - val_loss: 0.0103 - val_precision: 0.8631 - val_recall: 0.7021 - learning_rate: 0.0010\n",
      "Epoch 20/100\n",
      "\u001b[1m3086/3086\u001b[0m \u001b[32m━━━━━━━━━━━━━━━━━━━━\u001b[0m\u001b[37m\u001b[0m \u001b[1m11s\u001b[0m 4ms/step - accuracy: 0.3626 - loss: 1.3020e-05 - precision: 0.9776 - recall: 0.9954 - val_accuracy: 0.1463 - val_loss: 0.0112 - val_precision: 0.8411 - val_recall: 0.6966 - learning_rate: 0.0010\n",
      "Epoch 21/100\n",
      "\u001b[1m3086/3086\u001b[0m \u001b[32m━━━━━━━━━━━━━━━━━━━━\u001b[0m\u001b[37m\u001b[0m \u001b[1m11s\u001b[0m 3ms/step - accuracy: 0.3507 - loss: 1.3147e-05 - precision: 0.9777 - recall: 0.9952 - val_accuracy: 0.1373 - val_loss: 0.0103 - val_precision: 0.8047 - val_recall: 0.6877 - learning_rate: 0.0010\n",
      "Epoch 22/100\n",
      "\u001b[1m3086/3086\u001b[0m \u001b[32m━━━━━━━━━━━━━━━━━━━━\u001b[0m\u001b[37m\u001b[0m \u001b[1m19s\u001b[0m 3ms/step - accuracy: 0.3581 - loss: 1.2421e-05 - precision: 0.9793 - recall: 0.9957 - val_accuracy: 0.1594 - val_loss: 0.0094 - val_precision: 0.8009 - val_recall: 0.7315 - learning_rate: 0.0010\n",
      "Epoch 23/100\n",
      "\u001b[1m3086/3086\u001b[0m \u001b[32m━━━━━━━━━━━━━━━━━━━━\u001b[0m\u001b[37m\u001b[0m \u001b[1m10s\u001b[0m 3ms/step - accuracy: 0.3586 - loss: 1.3016e-05 - precision: 0.9778 - recall: 0.9953 - val_accuracy: 0.1098 - val_loss: 0.0090 - val_precision: 0.8192 - val_recall: 0.7371 - learning_rate: 0.0010\n",
      "Epoch 24/100\n",
      "\u001b[1m3086/3086\u001b[0m \u001b[32m━━━━━━━━━━━━━━━━━━━━\u001b[0m\u001b[37m\u001b[0m \u001b[1m8s\u001b[0m 3ms/step - accuracy: 0.3554 - loss: 1.2229e-05 - precision: 0.9793 - recall: 0.9958 - val_accuracy: 0.1793 - val_loss: 0.0094 - val_precision: 0.8628 - val_recall: 0.7153 - learning_rate: 0.0010\n",
      "Epoch 25/100\n",
      "\u001b[1m3086/3086\u001b[0m \u001b[32m━━━━━━━━━━━━━━━━━━━━\u001b[0m\u001b[37m\u001b[0m \u001b[1m8s\u001b[0m 3ms/step - accuracy: 0.3550 - loss: 1.1674e-05 - precision: 0.9798 - recall: 0.9957 - val_accuracy: 0.1079 - val_loss: 0.0100 - val_precision: 0.8290 - val_recall: 0.7007 - learning_rate: 0.0010\n",
      "Epoch 26/100\n",
      "\u001b[1m3086/3086\u001b[0m \u001b[32m━━━━━━━━━━━━━━━━━━━━\u001b[0m\u001b[37m\u001b[0m \u001b[1m11s\u001b[0m 4ms/step - accuracy: 0.3501 - loss: 1.2099e-05 - precision: 0.9798 - recall: 0.9957 - val_accuracy: 0.1868 - val_loss: 0.0090 - val_precision: 0.8335 - val_recall: 0.7429 - learning_rate: 0.0010\n",
      "Epoch 27/100\n",
      "\u001b[1m3086/3086\u001b[0m \u001b[32m━━━━━━━━━━━━━━━━━━━━\u001b[0m\u001b[37m\u001b[0m \u001b[1m12s\u001b[0m 4ms/step - accuracy: 0.3549 - loss: 1.1811e-05 - precision: 0.9799 - recall: 0.9960 - val_accuracy: 0.1696 - val_loss: 0.0084 - val_precision: 0.7943 - val_recall: 0.7559 - learning_rate: 0.0010\n",
      "Epoch 28/100\n",
      "\u001b[1m3086/3086\u001b[0m \u001b[32m━━━━━━━━━━━━━━━━━━━━\u001b[0m\u001b[37m\u001b[0m \u001b[1m11s\u001b[0m 4ms/step - accuracy: 0.3560 - loss: 1.1748e-05 - precision: 0.9805 - recall: 0.9955 - val_accuracy: 0.1479 - val_loss: 0.0084 - val_precision: 0.8384 - val_recall: 0.7192 - learning_rate: 0.0010\n",
      "Epoch 29/100\n",
      "\u001b[1m3086/3086\u001b[0m \u001b[32m━━━━━━━━━━━━━━━━━━━━\u001b[0m\u001b[37m\u001b[0m \u001b[1m11s\u001b[0m 4ms/step - accuracy: 0.3584 - loss: 1.1172e-05 - precision: 0.9816 - recall: 0.9961 - val_accuracy: 0.0657 - val_loss: 0.0090 - val_precision: 0.8767 - val_recall: 0.7293 - learning_rate: 0.0010\n",
      "Epoch 30/100\n",
      "\u001b[1m3086/3086\u001b[0m \u001b[32m━━━━━━━━━━━━━━━━━━━━\u001b[0m\u001b[37m\u001b[0m \u001b[1m9s\u001b[0m 3ms/step - accuracy: 0.3564 - loss: 1.2022e-05 - precision: 0.9799 - recall: 0.9957 - val_accuracy: 0.1714 - val_loss: 0.0091 - val_precision: 0.8222 - val_recall: 0.7215 - learning_rate: 0.0010\n",
      "Epoch 31/100\n",
      "\u001b[1m3086/3086\u001b[0m \u001b[32m━━━━━━━━━━━━━━━━━━━━\u001b[0m\u001b[37m\u001b[0m \u001b[1m9s\u001b[0m 3ms/step - accuracy: 0.3513 - loss: 1.2972e-05 - precision: 0.9788 - recall: 0.9954 - val_accuracy: 0.1391 - val_loss: 0.0087 - val_precision: 0.8689 - val_recall: 0.7061 - learning_rate: 0.0010\n",
      "Epoch 32/100\n",
      "\u001b[1m3086/3086\u001b[0m \u001b[32m━━━━━━━━━━━━━━━━━━━━\u001b[0m\u001b[37m\u001b[0m \u001b[1m9s\u001b[0m 3ms/step - accuracy: 0.3622 - loss: 1.1132e-05 - precision: 0.9820 - recall: 0.9958 - val_accuracy: 0.1479 - val_loss: 0.0071 - val_precision: 0.8307 - val_recall: 0.7421 - learning_rate: 0.0010\n",
      "Epoch 33/100\n",
      "\u001b[1m3086/3086\u001b[0m \u001b[32m━━━━━━━━━━━━━━━━━━━━\u001b[0m\u001b[37m\u001b[0m \u001b[1m10s\u001b[0m 3ms/step - accuracy: 0.3692 - loss: 1.0708e-05 - precision: 0.9820 - recall: 0.9963 - val_accuracy: 0.1979 - val_loss: 0.0076 - val_precision: 0.8505 - val_recall: 0.7716 - learning_rate: 0.0010\n",
      "Epoch 34/100\n",
      "\u001b[1m3086/3086\u001b[0m \u001b[32m━━━━━━━━━━━━━━━━━━━━\u001b[0m\u001b[37m\u001b[0m \u001b[1m11s\u001b[0m 3ms/step - accuracy: 0.3594 - loss: 1.0992e-05 - precision: 0.9818 - recall: 0.9962 - val_accuracy: 0.2032 - val_loss: 0.0080 - val_precision: 0.8887 - val_recall: 0.7396 - learning_rate: 0.0010\n",
      "Epoch 35/100\n",
      "\u001b[1m3086/3086\u001b[0m \u001b[32m━━━━━━━━━━━━━━━━━━━━\u001b[0m\u001b[37m\u001b[0m \u001b[1m15s\u001b[0m 5ms/step - accuracy: 0.3636 - loss: 1.0932e-05 - precision: 0.9820 - recall: 0.9962 - val_accuracy: 0.1674 - val_loss: 0.0070 - val_precision: 0.8506 - val_recall: 0.7487 - learning_rate: 0.0010\n",
      "Epoch 36/100\n",
      "\u001b[1m3086/3086\u001b[0m \u001b[32m━━━━━━━━━━━━━━━━━━━━\u001b[0m\u001b[37m\u001b[0m \u001b[1m12s\u001b[0m 4ms/step - accuracy: 0.3592 - loss: 1.2190e-05 - precision: 0.9795 - recall: 0.9958 - val_accuracy: 0.1475 - val_loss: 0.0083 - val_precision: 0.8531 - val_recall: 0.7296 - learning_rate: 0.0010\n",
      "Epoch 37/100\n",
      "\u001b[1m3086/3086\u001b[0m \u001b[32m━━━━━━━━━━━━━━━━━━━━\u001b[0m\u001b[37m\u001b[0m \u001b[1m13s\u001b[0m 4ms/step - accuracy: 0.3598 - loss: 1.1068e-05 - precision: 0.9822 - recall: 0.9960 - val_accuracy: 0.2374 - val_loss: 0.0068 - val_precision: 0.7904 - val_recall: 0.7979 - learning_rate: 0.0010\n",
      "Epoch 38/100\n",
      "\u001b[1m3086/3086\u001b[0m \u001b[32m━━━━━━━━━━━━━━━━━━━━\u001b[0m\u001b[37m\u001b[0m \u001b[1m12s\u001b[0m 4ms/step - accuracy: 0.3550 - loss: 1.0723e-05 - precision: 0.9828 - recall: 0.9963 - val_accuracy: 0.2333 - val_loss: 0.0078 - val_precision: 0.8310 - val_recall: 0.7504 - learning_rate: 0.0010\n",
      "Epoch 39/100\n",
      "\u001b[1m3086/3086\u001b[0m \u001b[32m━━━━━━━━━━━━━━━━━━━━\u001b[0m\u001b[37m\u001b[0m \u001b[1m12s\u001b[0m 4ms/step - accuracy: 0.3590 - loss: 1.0603e-05 - precision: 0.9824 - recall: 0.9963 - val_accuracy: 0.1684 - val_loss: 0.0081 - val_precision: 0.8231 - val_recall: 0.7561 - learning_rate: 0.0010\n",
      "Epoch 40/100\n",
      "\u001b[1m3086/3086\u001b[0m \u001b[32m━━━━━━━━━━━━━━━━━━━━\u001b[0m\u001b[37m\u001b[0m \u001b[1m12s\u001b[0m 4ms/step - accuracy: 0.3593 - loss: 1.0407e-05 - precision: 0.9834 - recall: 0.9964 - val_accuracy: 0.1741 - val_loss: 0.0063 - val_precision: 0.8491 - val_recall: 0.7875 - learning_rate: 0.0010\n",
      "Epoch 41/100\n",
      "\u001b[1m3086/3086\u001b[0m \u001b[32m━━━━━━━━━━━━━━━━━━━━\u001b[0m\u001b[37m\u001b[0m \u001b[1m11s\u001b[0m 4ms/step - accuracy: 0.3542 - loss: 1.0731e-05 - precision: 0.9823 - recall: 0.9961 - val_accuracy: 0.1481 - val_loss: 0.0066 - val_precision: 0.7583 - val_recall: 0.7961 - learning_rate: 0.0010\n",
      "Epoch 42/100\n",
      "\u001b[1m3086/3086\u001b[0m \u001b[32m━━━━━━━━━━━━━━━━━━━━\u001b[0m\u001b[37m\u001b[0m \u001b[1m11s\u001b[0m 4ms/step - accuracy: 0.3592 - loss: 1.0197e-05 - precision: 0.9835 - recall: 0.9965 - val_accuracy: 0.1798 - val_loss: 0.0078 - val_precision: 0.8740 - val_recall: 0.7372 - learning_rate: 0.0010\n",
      "Epoch 43/100\n",
      "\u001b[1m3086/3086\u001b[0m \u001b[32m━━━━━━━━━━━━━━━━━━━━\u001b[0m\u001b[37m\u001b[0m \u001b[1m11s\u001b[0m 4ms/step - accuracy: 0.3607 - loss: 1.0065e-05 - precision: 0.9832 - recall: 0.9963 - val_accuracy: 0.1580 - val_loss: 0.0079 - val_precision: 0.8655 - val_recall: 0.7364 - learning_rate: 0.0010\n",
      "Epoch 44/100\n",
      "\u001b[1m3086/3086\u001b[0m \u001b[32m━━━━━━━━━━━━━━━━━━━━\u001b[0m\u001b[37m\u001b[0m \u001b[1m12s\u001b[0m 4ms/step - accuracy: 0.3595 - loss: 1.0451e-05 - precision: 0.9833 - recall: 0.9965 - val_accuracy: 0.2160 - val_loss: 0.0079 - val_precision: 0.8570 - val_recall: 0.7258 - learning_rate: 0.0010\n",
      "Epoch 45/100\n",
      "\u001b[1m3086/3086\u001b[0m \u001b[32m━━━━━━━━━━━━━━━━━━━━\u001b[0m\u001b[37m\u001b[0m \u001b[1m11s\u001b[0m 4ms/step - accuracy: 0.3596 - loss: 9.8949e-06 - precision: 0.9839 - recall: 0.9965 - val_accuracy: 0.1939 - val_loss: 0.0061 - val_precision: 0.8825 - val_recall: 0.7966 - learning_rate: 0.0010\n",
      "Epoch 46/100\n",
      "\u001b[1m3086/3086\u001b[0m \u001b[32m━━━━━━━━━━━━━━━━━━━━\u001b[0m\u001b[37m\u001b[0m \u001b[1m11s\u001b[0m 4ms/step - accuracy: 0.3752 - loss: 9.9065e-06 - precision: 0.9839 - recall: 0.9965 - val_accuracy: 0.1693 - val_loss: 0.0063 - val_precision: 0.8535 - val_recall: 0.7707 - learning_rate: 0.0010\n",
      "Epoch 47/100\n",
      "\u001b[1m3086/3086\u001b[0m \u001b[32m━━━━━━━━━━━━━━━━━━━━\u001b[0m\u001b[37m\u001b[0m \u001b[1m12s\u001b[0m 4ms/step - accuracy: 0.3657 - loss: 9.9244e-06 - precision: 0.9837 - recall: 0.9964 - val_accuracy: 0.2039 - val_loss: 0.0055 - val_precision: 0.8046 - val_recall: 0.8233 - learning_rate: 0.0010\n",
      "Epoch 48/100\n",
      "\u001b[1m3086/3086\u001b[0m \u001b[32m━━━━━━━━━━━━━━━━━━━━\u001b[0m\u001b[37m\u001b[0m \u001b[1m13s\u001b[0m 4ms/step - accuracy: 0.3556 - loss: 9.1744e-06 - precision: 0.9849 - recall: 0.9968 - val_accuracy: 0.2188 - val_loss: 0.0052 - val_precision: 0.8106 - val_recall: 0.8137 - learning_rate: 0.0010\n",
      "Epoch 49/100\n",
      "\u001b[1m3086/3086\u001b[0m \u001b[32m━━━━━━━━━━━━━━━━━━━━\u001b[0m\u001b[37m\u001b[0m \u001b[1m13s\u001b[0m 4ms/step - accuracy: 0.3606 - loss: 9.5115e-06 - precision: 0.9841 - recall: 0.9967 - val_accuracy: 0.1970 - val_loss: 0.0064 - val_precision: 0.8566 - val_recall: 0.7837 - learning_rate: 0.0010\n",
      "Epoch 50/100\n",
      "\u001b[1m3086/3086\u001b[0m \u001b[32m━━━━━━━━━━━━━━━━━━━━\u001b[0m\u001b[37m\u001b[0m \u001b[1m13s\u001b[0m 4ms/step - accuracy: 0.3614 - loss: 9.3831e-06 - precision: 0.9846 - recall: 0.9970 - val_accuracy: 0.1040 - val_loss: 0.0065 - val_precision: 0.8473 - val_recall: 0.7724 - learning_rate: 0.0010\n",
      "Epoch 51/100\n",
      "\u001b[1m3086/3086\u001b[0m \u001b[32m━━━━━━━━━━━━━━━━━━━━\u001b[0m\u001b[37m\u001b[0m \u001b[1m13s\u001b[0m 4ms/step - accuracy: 0.3640 - loss: 9.5028e-06 - precision: 0.9847 - recall: 0.9969 - val_accuracy: 0.1968 - val_loss: 0.0058 - val_precision: 0.8218 - val_recall: 0.7976 - learning_rate: 0.0010\n",
      "Epoch 52/100\n",
      "\u001b[1m3086/3086\u001b[0m \u001b[32m━━━━━━━━━━━━━━━━━━━━\u001b[0m\u001b[37m\u001b[0m \u001b[1m13s\u001b[0m 4ms/step - accuracy: 0.3661 - loss: 9.3487e-06 - precision: 0.9849 - recall: 0.9968 - val_accuracy: 0.1544 - val_loss: 0.0065 - val_precision: 0.8512 - val_recall: 0.7790 - learning_rate: 0.0010\n",
      "Epoch 53/100\n",
      "\u001b[1m3086/3086\u001b[0m \u001b[32m━━━━━━━━━━━━━━━━━━━━\u001b[0m\u001b[37m\u001b[0m \u001b[1m18s\u001b[0m 3ms/step - accuracy: 0.3657 - loss: 1.0031e-05 - precision: 0.9841 - recall: 0.9963 - val_accuracy: 0.1425 - val_loss: 0.0061 - val_precision: 0.8433 - val_recall: 0.7805 - learning_rate: 0.0010\n",
      "\u001b[1m13/13\u001b[0m \u001b[32m━━━━━━━━━━━━━━━━━━━━\u001b[0m\u001b[37m\u001b[0m \u001b[1m0s\u001b[0m 7ms/step - accuracy: 0.3666 - loss: 0.0163 - precision: 0.9611 - recall: 0.8081\n",
      "\u001b[1m13/13\u001b[0m \u001b[32m━━━━━━━━━━━━━━━━━━━━\u001b[0m\u001b[37m\u001b[0m \u001b[1m0s\u001b[0m 4ms/step \n",
      "{'precision': '0.9571', 'recall': '0.8827', 'f1': '0.9184', 'hammingloss': '0.0034', 'Jaccard Index': '0.8475', 'accuracy': '0.7524'}\n",
      "\u001b[1m1/1\u001b[0m \u001b[32m━━━━━━━━━━━━━━━━━━━━\u001b[0m\u001b[37m\u001b[0m \u001b[1m0s\u001b[0m 46ms/step\n"
     ]
    }
   ],
   "source": [
    "scenario2_pipeline = KeywordClassifierPipeline(\n",
    "        is_data_changed=False,\n",
    "        use_pretrained_model=False,\n",
    "        model_name=\"development\",\n",
    "    )\n",
    "scenario2_pipeline.pipeline(description=item_description)"
   ]
  },
  {
   "cell_type": "markdown",
   "metadata": {},
   "source": [
    "Last, we already have two pretrained model named `experimental` and `development`, we can directly use them for prediction."
   ]
  },
  {
   "cell_type": "code",
   "execution_count": 5,
   "metadata": {},
   "outputs": [
    {
     "name": "stderr",
     "output_type": "stream",
     "text": [
      "INFO:data_discovery_ai.utils.preprocessor:Load from C:\\Users\\yhu12\\OneDrive - University of Tasmania\\IMOS\\DataDiscovery\\data-discovery-ai\\data_discovery_ai\\resources\\KeywordClassifier\\keyword_sample.pkl\n",
      "INFO:data_discovery_ai.utils.preprocessor:Load from C:\\Users\\yhu12\\OneDrive - University of Tasmania\\IMOS\\DataDiscovery\\data-discovery-ai\\data_discovery_ai\\resources\\KeywordClassifier\\keyword_label.pkl\n"
     ]
    },
    {
     "name": "stdout",
     "output_type": "stream",
     "text": [
      "\u001b[1m1/1\u001b[0m \u001b[32m━━━━━━━━━━━━━━━━━━━━\u001b[0m\u001b[37m\u001b[0m \u001b[1m0s\u001b[0m 80ms/step\n"
     ]
    }
   ],
   "source": [
    "scenario3_pipeline = KeywordClassifierPipeline(\n",
    "        is_data_changed=False,\n",
    "        use_pretrained_model=True,\n",
    "        model_name=\"development\",\n",
    "    )\n",
    "scenario3_pipeline.pipeline(description=item_description)"
   ]
  }
 ],
 "metadata": {
  "kernelspec": {
   "display_name": "base",
   "language": "python",
   "name": "python3"
  },
  "language_info": {
   "codemirror_mode": {
    "name": "ipython",
    "version": 3
   },
   "file_extension": ".py",
   "mimetype": "text/x-python",
   "name": "python",
   "nbconvert_exporter": "python",
   "pygments_lexer": "ipython3",
   "version": "3.10.14"
  }
 },
 "nbformat": 4,
 "nbformat_minor": 2
}
