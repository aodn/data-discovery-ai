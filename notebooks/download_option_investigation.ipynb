{
 "cells": [
  {
   "cell_type": "code",
   "id": "initial_id",
   "metadata": {
    "collapsed": true,
    "ExecuteTime": {
     "end_time": "2025-08-06T03:11:02.743781Z",
     "start_time": "2025-08-06T03:10:38.252709Z"
    }
   },
   "source": [
    "from data_discovery_ai.utils.agent_tools import load_from_file\n",
    "import pandas as pd\n",
    "\n",
    "raw_data = load_from_file(\"raw_data_new.pkl\")\n",
    "raw_data.head()"
   ],
   "outputs": [
    {
     "name": "stderr",
     "output_type": "stream",
     "text": [
      "C:\\Users\\yhu12\\AppData\\Local\\miniforge3\\lib\\site-packages\\tqdm\\auto.py:21: TqdmWarning: IProgress not found. Please update jupyter and ipywidgets. See https://ipywidgets.readthedocs.io/en/stable/user_install.html\n",
      "  from .autonotebook import tqdm as notebook_tqdm\n"
     ]
    },
    {
     "name": "stdout",
     "output_type": "stream",
     "text": [
      "WARNING:tensorflow:From C:\\Users\\yhu12\\AppData\\Local\\miniforge3\\lib\\site-packages\\tf_keras\\src\\losses.py:2976: The name tf.losses.sparse_softmax_cross_entropy is deprecated. Please use tf.compat.v1.losses.sparse_softmax_cross_entropy instead.\n",
      "\n"
     ]
    },
    {
     "data": {
      "text/plain": [
       "            _index                                   _id _score   \n",
       "0  es-indexer-edge  0015db7e-e684-7548-e053-08114f8cd4ad   None  \\\n",
       "1  es-indexer-edge  003a7540-ce5d-431d-9c25-824a3b4aa200   None   \n",
       "2  es-indexer-edge  00462296-be7a-452f-afaf-36c809cd51f8   None   \n",
       "3  es-indexer-edge  00469ca0-49ad-4781-8508-ef395d6992d4   None   \n",
       "4  es-indexer-edge  005371a9-b1fc-3ef2-e053-08114f8c6aca   None   \n",
       "\n",
       "                                           sort   \n",
       "0  [0015db7e-e684-7548-e053-08114f8cd4ad, 3128]  \\\n",
       "1  [003a7540-ce5d-431d-9c25-824a3b4aa200, 3150]   \n",
       "2  [00462296-be7a-452f-afaf-36c809cd51f8, 3168]   \n",
       "3  [00469ca0-49ad-4781-8508-ef395d6992d4, 3183]   \n",
       "4  [005371a9-b1fc-3ef2-e053-08114f8c6aca, 3192]   \n",
       "\n",
       "                                       _source.title   \n",
       "0  IMOS Bio-Acoustic Ships of Opportunity (BA SOO...  \\\n",
       "1  The Helix Experiment: Helix Reef physical ocea...   \n",
       "2      Southern Surveyor Voyage SS 09/2003 ADCP Data   \n",
       "3  Southern Surveyor Voyage SS 11/2006 Underway Data   \n",
       "4  Southern Surveyor Transit ST 01/2006 Raw Data ...   \n",
       "\n",
       "                                 _source.description   \n",
       "0  The IMOS Bio-Acoustic Ship Of Opportunity (BA-...  \\\n",
       "1  Two Aanderaa current meters were deployed on t...   \n",
       "2  This dataset contains the Acoustic Doppler Cur...   \n",
       "3  This dataset contains the Underway (UWY) data ...   \n",
       "4  Southern Surveyor Voyage SS2006_T01. Swath and...   \n",
       "\n",
       "                                 _source.extent.bbox   \n",
       "0  [[44.0, -66.0, 180.0, -8.0], [44.0, -66.0, 180...  \\\n",
       "1  [[147.333333, -18.616667, 147.333333, -18.6166...   \n",
       "2  [[112.0, -36.0, 116.0, -27.0], [112.0, -36.0, ...   \n",
       "3  [[145.5, -44.6, 148.0, -42.8], [145.5, -44.6, ...   \n",
       "4  [[130.8, -18.1, 178.5, -9.4], [130.8, -18.1, 1...   \n",
       "\n",
       "                             _source.extent.temporal  _source.summaries.score   \n",
       "0  [[2010-12-31T13:00:00Z, None], [2010-12-31T13:...                      103  \\\n",
       "1  [[1983-10-25T14:00:00Z, 1984-05-21T13:59:59Z],...                       66   \n",
       "2  [[2003-10-23T13:00:00Z, 2003-11-08T12:59:59Z],...                       86   \n",
       "3  [[2006-10-29T13:00:00Z, 2006-11-11T12:59:59Z],...                       89   \n",
       "4  [[2006-08-04T14:00:00Z, 2006-08-18T13:59:59Z],...                       83   \n",
       "\n",
       "  _source.summaries.status  ...                      _ignored   \n",
       "0                completed  ...                           NaN  \\\n",
       "1                completed  ...         [links.title.keyword]   \n",
       "2                completed  ...  [themes.description.keyword]   \n",
       "3                completed  ...  [themes.description.keyword]   \n",
       "4                completed  ...  [themes.description.keyword]   \n",
       "\n",
       "  _source.summaries.scope.code _source.summaries.scope.name   \n",
       "0                          NaN                          NaN  \\\n",
       "1                      dataset                                \n",
       "2                          NaN                          NaN   \n",
       "3                          NaN                          NaN   \n",
       "4                          NaN                          NaN   \n",
       "\n",
       "  _source.summaries.creation _source.summaries.dataset_provider   \n",
       "0                        NaN                                NaN  \\\n",
       "1        2010-10-08T00:00:00                                NaN   \n",
       "2                        NaN                                NaN   \n",
       "3                        NaN                                NaN   \n",
       "4                        NaN                                NaN   \n",
       "\n",
       "  _source.assets.summary.href _source.assets.summary.title   \n",
       "0                         NaN                          NaN  \\\n",
       "1                         NaN                          NaN   \n",
       "2                         NaN                          NaN   \n",
       "3                         NaN                          NaN   \n",
       "4                         NaN                          NaN   \n",
       "\n",
       "  _source.assets.summary.description _source.assets.summary.type   \n",
       "0                                NaN                         NaN  \\\n",
       "1                                NaN                         NaN   \n",
       "2                                NaN                         NaN   \n",
       "3                                NaN                         NaN   \n",
       "4                                NaN                         NaN   \n",
       "\n",
       "  _source.assets.summary.role  \n",
       "0                         NaN  \n",
       "1                         NaN  \n",
       "2                         NaN  \n",
       "3                         NaN  \n",
       "4                         NaN  \n",
       "\n",
       "[5 rows x 48 columns]"
      ],
      "text/html": [
       "<div>\n",
       "<style scoped>\n",
       "    .dataframe tbody tr th:only-of-type {\n",
       "        vertical-align: middle;\n",
       "    }\n",
       "\n",
       "    .dataframe tbody tr th {\n",
       "        vertical-align: top;\n",
       "    }\n",
       "\n",
       "    .dataframe thead th {\n",
       "        text-align: right;\n",
       "    }\n",
       "</style>\n",
       "<table border=\"1\" class=\"dataframe\">\n",
       "  <thead>\n",
       "    <tr style=\"text-align: right;\">\n",
       "      <th></th>\n",
       "      <th>_index</th>\n",
       "      <th>_id</th>\n",
       "      <th>_score</th>\n",
       "      <th>sort</th>\n",
       "      <th>_source.title</th>\n",
       "      <th>_source.description</th>\n",
       "      <th>_source.extent.bbox</th>\n",
       "      <th>_source.extent.temporal</th>\n",
       "      <th>_source.summaries.score</th>\n",
       "      <th>_source.summaries.status</th>\n",
       "      <th>...</th>\n",
       "      <th>_ignored</th>\n",
       "      <th>_source.summaries.scope.code</th>\n",
       "      <th>_source.summaries.scope.name</th>\n",
       "      <th>_source.summaries.creation</th>\n",
       "      <th>_source.summaries.dataset_provider</th>\n",
       "      <th>_source.assets.summary.href</th>\n",
       "      <th>_source.assets.summary.title</th>\n",
       "      <th>_source.assets.summary.description</th>\n",
       "      <th>_source.assets.summary.type</th>\n",
       "      <th>_source.assets.summary.role</th>\n",
       "    </tr>\n",
       "  </thead>\n",
       "  <tbody>\n",
       "    <tr>\n",
       "      <th>0</th>\n",
       "      <td>es-indexer-edge</td>\n",
       "      <td>0015db7e-e684-7548-e053-08114f8cd4ad</td>\n",
       "      <td>None</td>\n",
       "      <td>[0015db7e-e684-7548-e053-08114f8cd4ad, 3128]</td>\n",
       "      <td>IMOS Bio-Acoustic Ships of Opportunity (BA SOO...</td>\n",
       "      <td>The IMOS Bio-Acoustic Ship Of Opportunity (BA-...</td>\n",
       "      <td>[[44.0, -66.0, 180.0, -8.0], [44.0, -66.0, 180...</td>\n",
       "      <td>[[2010-12-31T13:00:00Z, None], [2010-12-31T13:...</td>\n",
       "      <td>103</td>\n",
       "      <td>completed</td>\n",
       "      <td>...</td>\n",
       "      <td>NaN</td>\n",
       "      <td>NaN</td>\n",
       "      <td>NaN</td>\n",
       "      <td>NaN</td>\n",
       "      <td>NaN</td>\n",
       "      <td>NaN</td>\n",
       "      <td>NaN</td>\n",
       "      <td>NaN</td>\n",
       "      <td>NaN</td>\n",
       "      <td>NaN</td>\n",
       "    </tr>\n",
       "    <tr>\n",
       "      <th>1</th>\n",
       "      <td>es-indexer-edge</td>\n",
       "      <td>003a7540-ce5d-431d-9c25-824a3b4aa200</td>\n",
       "      <td>None</td>\n",
       "      <td>[003a7540-ce5d-431d-9c25-824a3b4aa200, 3150]</td>\n",
       "      <td>The Helix Experiment: Helix Reef physical ocea...</td>\n",
       "      <td>Two Aanderaa current meters were deployed on t...</td>\n",
       "      <td>[[147.333333, -18.616667, 147.333333, -18.6166...</td>\n",
       "      <td>[[1983-10-25T14:00:00Z, 1984-05-21T13:59:59Z],...</td>\n",
       "      <td>66</td>\n",
       "      <td>completed</td>\n",
       "      <td>...</td>\n",
       "      <td>[links.title.keyword]</td>\n",
       "      <td>dataset</td>\n",
       "      <td></td>\n",
       "      <td>2010-10-08T00:00:00</td>\n",
       "      <td>NaN</td>\n",
       "      <td>NaN</td>\n",
       "      <td>NaN</td>\n",
       "      <td>NaN</td>\n",
       "      <td>NaN</td>\n",
       "      <td>NaN</td>\n",
       "    </tr>\n",
       "    <tr>\n",
       "      <th>2</th>\n",
       "      <td>es-indexer-edge</td>\n",
       "      <td>00462296-be7a-452f-afaf-36c809cd51f8</td>\n",
       "      <td>None</td>\n",
       "      <td>[00462296-be7a-452f-afaf-36c809cd51f8, 3168]</td>\n",
       "      <td>Southern Surveyor Voyage SS 09/2003 ADCP Data</td>\n",
       "      <td>This dataset contains the Acoustic Doppler Cur...</td>\n",
       "      <td>[[112.0, -36.0, 116.0, -27.0], [112.0, -36.0, ...</td>\n",
       "      <td>[[2003-10-23T13:00:00Z, 2003-11-08T12:59:59Z],...</td>\n",
       "      <td>86</td>\n",
       "      <td>completed</td>\n",
       "      <td>...</td>\n",
       "      <td>[themes.description.keyword]</td>\n",
       "      <td>NaN</td>\n",
       "      <td>NaN</td>\n",
       "      <td>NaN</td>\n",
       "      <td>NaN</td>\n",
       "      <td>NaN</td>\n",
       "      <td>NaN</td>\n",
       "      <td>NaN</td>\n",
       "      <td>NaN</td>\n",
       "      <td>NaN</td>\n",
       "    </tr>\n",
       "    <tr>\n",
       "      <th>3</th>\n",
       "      <td>es-indexer-edge</td>\n",
       "      <td>00469ca0-49ad-4781-8508-ef395d6992d4</td>\n",
       "      <td>None</td>\n",
       "      <td>[00469ca0-49ad-4781-8508-ef395d6992d4, 3183]</td>\n",
       "      <td>Southern Surveyor Voyage SS 11/2006 Underway Data</td>\n",
       "      <td>This dataset contains the Underway (UWY) data ...</td>\n",
       "      <td>[[145.5, -44.6, 148.0, -42.8], [145.5, -44.6, ...</td>\n",
       "      <td>[[2006-10-29T13:00:00Z, 2006-11-11T12:59:59Z],...</td>\n",
       "      <td>89</td>\n",
       "      <td>completed</td>\n",
       "      <td>...</td>\n",
       "      <td>[themes.description.keyword]</td>\n",
       "      <td>NaN</td>\n",
       "      <td>NaN</td>\n",
       "      <td>NaN</td>\n",
       "      <td>NaN</td>\n",
       "      <td>NaN</td>\n",
       "      <td>NaN</td>\n",
       "      <td>NaN</td>\n",
       "      <td>NaN</td>\n",
       "      <td>NaN</td>\n",
       "    </tr>\n",
       "    <tr>\n",
       "      <th>4</th>\n",
       "      <td>es-indexer-edge</td>\n",
       "      <td>005371a9-b1fc-3ef2-e053-08114f8c6aca</td>\n",
       "      <td>None</td>\n",
       "      <td>[005371a9-b1fc-3ef2-e053-08114f8c6aca, 3192]</td>\n",
       "      <td>Southern Surveyor Transit ST 01/2006 Raw Data ...</td>\n",
       "      <td>Southern Surveyor Voyage SS2006_T01. Swath and...</td>\n",
       "      <td>[[130.8, -18.1, 178.5, -9.4], [130.8, -18.1, 1...</td>\n",
       "      <td>[[2006-08-04T14:00:00Z, 2006-08-18T13:59:59Z],...</td>\n",
       "      <td>83</td>\n",
       "      <td>completed</td>\n",
       "      <td>...</td>\n",
       "      <td>[themes.description.keyword]</td>\n",
       "      <td>NaN</td>\n",
       "      <td>NaN</td>\n",
       "      <td>NaN</td>\n",
       "      <td>NaN</td>\n",
       "      <td>NaN</td>\n",
       "      <td>NaN</td>\n",
       "      <td>NaN</td>\n",
       "      <td>NaN</td>\n",
       "      <td>NaN</td>\n",
       "    </tr>\n",
       "  </tbody>\n",
       "</table>\n",
       "<p>5 rows × 48 columns</p>\n",
       "</div>"
      ]
     },
     "execution_count": 1,
     "metadata": {},
     "output_type": "execute_result"
    }
   ],
   "execution_count": 1
  },
  {
   "metadata": {
    "ExecuteTime": {
     "end_time": "2025-08-06T03:11:02.782188Z",
     "start_time": "2025-08-06T03:11:02.759376Z"
    }
   },
   "cell_type": "code",
   "source": "raw_data.columns",
   "id": "c574492e638b3ea",
   "outputs": [
    {
     "data": {
      "text/plain": [
       "Index(['_index', '_id', '_score', 'sort', '_source.title',\n",
       "       '_source.description', '_source.extent.bbox', '_source.extent.temporal',\n",
       "       '_source.summaries.score', '_source.summaries.status',\n",
       "       '_source.summaries.credits', '_source.summaries.statement',\n",
       "       '_source.summaries.revision', '_source.summaries.dataset_group',\n",
       "       '_source.summaries.update_frequency',\n",
       "       '_source.summaries.proj:geometry.geometries',\n",
       "       '_source.summaries.proj:geometry.type',\n",
       "       '_source.summaries.proj:geometry_noland.geometries',\n",
       "       '_source.summaries.proj:geometry_noland.type',\n",
       "       '_source.summaries.temporal', '_source.summaries.parameter_vocabs',\n",
       "       '_source.summaries.platform_vocabs',\n",
       "       '_source.summaries.organisation_vocabs', '_source.contacts',\n",
       "       '_source.languages', '_source.links', '_source.license',\n",
       "       '_source.providers', '_source.themes', '_source.id',\n",
       "       '_source.search_suggestions.abstract_phrases',\n",
       "       '_source.search_suggestions.parameter_vocabs_sayt',\n",
       "       '_source.search_suggestions.platform_vocabs_sayt',\n",
       "       '_source.search_suggestions.organisation_vocabs_sayt',\n",
       "       '_source.sci:citation', '_source.type', '_source.stac_version',\n",
       "       '_source.stac_extensions', '_ignored', '_source.summaries.scope.code',\n",
       "       '_source.summaries.scope.name', '_source.summaries.creation',\n",
       "       '_source.summaries.dataset_provider', '_source.assets.summary.href',\n",
       "       '_source.assets.summary.title', '_source.assets.summary.description',\n",
       "       '_source.assets.summary.type', '_source.assets.summary.role'],\n",
       "      dtype='object')"
      ]
     },
     "execution_count": 2,
     "metadata": {},
     "output_type": "execute_result"
    }
   ],
   "execution_count": 2
  },
  {
   "metadata": {
    "ExecuteTime": {
     "end_time": "2025-08-06T03:11:02.891893Z",
     "start_time": "2025-08-06T03:11:02.790193Z"
    }
   },
   "cell_type": "code",
   "source": [
    "# only keep the links field for analysis\n",
    "data = raw_data.copy()[[\"_id\", \"_source.title\", \"_source.links\"]]\n",
    "data.head()"
   ],
   "id": "5abc6dd0b1edfad2",
   "outputs": [
    {
     "data": {
      "text/plain": [
       "                                    _id   \n",
       "0  0015db7e-e684-7548-e053-08114f8cd4ad  \\\n",
       "1  003a7540-ce5d-431d-9c25-824a3b4aa200   \n",
       "2  00462296-be7a-452f-afaf-36c809cd51f8   \n",
       "3  00469ca0-49ad-4781-8508-ef395d6992d4   \n",
       "4  005371a9-b1fc-3ef2-e053-08114f8c6aca   \n",
       "\n",
       "                                       _source.title   \n",
       "0  IMOS Bio-Acoustic Ships of Opportunity (BA SOO...  \\\n",
       "1  The Helix Experiment: Helix Reef physical ocea...   \n",
       "2      Southern Surveyor Voyage SS 09/2003 ADCP Data   \n",
       "3  Southern Surveyor Voyage SS 11/2006 Underway Data   \n",
       "4  Southern Surveyor Transit ST 01/2006 Raw Data ...   \n",
       "\n",
       "                                       _source.links  \n",
       "0  [{'href': 'https://thredds.aodn.org.au/thredds...  \n",
       "1  [{'href': 'articleId=8323', 'rel': 'related', ...  \n",
       "2  [{'href': 'https://www.cmar.csiro.au/geoserver...  \n",
       "3  [{'href': 'https://www.cmar.csiro.au/geoserver...  \n",
       "4  [{'href': 'https://www.marine.csiro.au/data/tr...  "
      ],
      "text/html": [
       "<div>\n",
       "<style scoped>\n",
       "    .dataframe tbody tr th:only-of-type {\n",
       "        vertical-align: middle;\n",
       "    }\n",
       "\n",
       "    .dataframe tbody tr th {\n",
       "        vertical-align: top;\n",
       "    }\n",
       "\n",
       "    .dataframe thead th {\n",
       "        text-align: right;\n",
       "    }\n",
       "</style>\n",
       "<table border=\"1\" class=\"dataframe\">\n",
       "  <thead>\n",
       "    <tr style=\"text-align: right;\">\n",
       "      <th></th>\n",
       "      <th>_id</th>\n",
       "      <th>_source.title</th>\n",
       "      <th>_source.links</th>\n",
       "    </tr>\n",
       "  </thead>\n",
       "  <tbody>\n",
       "    <tr>\n",
       "      <th>0</th>\n",
       "      <td>0015db7e-e684-7548-e053-08114f8cd4ad</td>\n",
       "      <td>IMOS Bio-Acoustic Ships of Opportunity (BA SOO...</td>\n",
       "      <td>[{'href': 'https://thredds.aodn.org.au/thredds...</td>\n",
       "    </tr>\n",
       "    <tr>\n",
       "      <th>1</th>\n",
       "      <td>003a7540-ce5d-431d-9c25-824a3b4aa200</td>\n",
       "      <td>The Helix Experiment: Helix Reef physical ocea...</td>\n",
       "      <td>[{'href': 'articleId=8323', 'rel': 'related', ...</td>\n",
       "    </tr>\n",
       "    <tr>\n",
       "      <th>2</th>\n",
       "      <td>00462296-be7a-452f-afaf-36c809cd51f8</td>\n",
       "      <td>Southern Surveyor Voyage SS 09/2003 ADCP Data</td>\n",
       "      <td>[{'href': 'https://www.cmar.csiro.au/geoserver...</td>\n",
       "    </tr>\n",
       "    <tr>\n",
       "      <th>3</th>\n",
       "      <td>00469ca0-49ad-4781-8508-ef395d6992d4</td>\n",
       "      <td>Southern Surveyor Voyage SS 11/2006 Underway Data</td>\n",
       "      <td>[{'href': 'https://www.cmar.csiro.au/geoserver...</td>\n",
       "    </tr>\n",
       "    <tr>\n",
       "      <th>4</th>\n",
       "      <td>005371a9-b1fc-3ef2-e053-08114f8c6aca</td>\n",
       "      <td>Southern Surveyor Transit ST 01/2006 Raw Data ...</td>\n",
       "      <td>[{'href': 'https://www.marine.csiro.au/data/tr...</td>\n",
       "    </tr>\n",
       "  </tbody>\n",
       "</table>\n",
       "</div>"
      ]
     },
     "execution_count": 3,
     "metadata": {},
     "output_type": "execute_result"
    }
   ],
   "execution_count": 3
  },
  {
   "metadata": {
    "ExecuteTime": {
     "end_time": "2025-08-06T03:11:02.955541Z",
     "start_time": "2025-08-06T03:11:02.938728Z"
    }
   },
   "cell_type": "code",
   "source": [
    "EXCLUSION = [\"describedby\", \"summary\", \"icon\", \"thumbnail\", \"preview\", \"self\", \"parent\", \"sibling\", \"child\", \"license\"]\n",
    "\n",
    "REL_MAPPING = {\n",
    "    \"related\": [\"WWW:LINK-1.0-http--link\", \"WWW:LINK-1.0-http--related\"],\n",
    "    \"data\": [\"WWW:DOWNLOAD-1.0-http--download\",\n",
    "            \"WWW:DOWNLOAD-1.0-http--downloadother\",\n",
    "            \"WWW:DOWNLOAD-1.0-http--downloaddata\",\n",
    "            \"WWW:LINK-1.0-http--downloaddata\",\n",
    "            \"WWW:DOWNLOAD-1.0-ftp--download\"],\n",
    "    \"wfs\": [\"OGC:WFS-1.0.0-http-get-capabilities\",\n",
    "            # \"OGC:WFS-1.0.0-http-get-feature--shapefile\",\n",
    "            \"OGC:WFS\"],\n",
    "    \"wms\": [\"OGC:WMS-1.1.1-http-get-map\",\n",
    "            \"OGC:WMS-1.3.0-http-get-map\",\n",
    "            \"OGC:WMS\",\n",
    "            \"IMOS:NCWMS--proto\"]\n",
    "}\n",
    "\n",
    "DOWNLOAD_HANDELERS = {\n",
    "    \"OGC:WFS-1.0.0-http-get-capabilities\": [\"WfsDownloadHandler\", \"PythonDownloadHandler\"],\n",
    "    \"OGC:WFS\": [\"WfsDownloadHandler\", \"PythonDownloadHandler\"],\n",
    "    \"OGC:WPS--gogoduck\": [\"GogoduckDownloadHandler\", \"PointCSVDownloadHandler\"],\n",
    "    \"WWW:DOWNLOAD-1.0-http--csiro-oa-app\": [\"DataTrawlerDownloadHandler\"],\n",
    "    \"IMOS:AGGREGATION--bodaac\": [\"BodaacDownloadHandler\"],\n",
    "    \"AODN:FILE-list\": [\"FileListDownloadHandler\"],\n",
    "    \"OGC:WFS-1.0.0-http-get-feature--shapefile\": [\"ShapeFileDownloadHandler\"],\n",
    "    \"ALA:Occurrence-download\": [\"AlaDownloadHandler\"],\n",
    "    \"GA:Download\": [\"GaDownloadHandler\"]\n",
    "}"
   ],
   "id": "2e523849cd57b700",
   "outputs": [],
   "execution_count": 4
  },
  {
   "metadata": {
    "ExecuteTime": {
     "end_time": "2025-08-06T03:11:03.076567Z",
     "start_time": "2025-08-06T03:11:02.982353Z"
    }
   },
   "cell_type": "code",
   "source": [
    "def filter_link(links):\n",
    "    if not links or not isinstance(links, list):\n",
    "        return []\n",
    "\n",
    "    filtered_links = []\n",
    "    for link in links:\n",
    "        if not isinstance(link, dict):\n",
    "            continue\n",
    "        if link.get(\"rel\", \"\") not in EXCLUSION:\n",
    "            filtered_links.append(link)\n",
    "\n",
    "    return filtered_links\n",
    "\n",
    "\n",
    "data[\"links\"] = data[\"_source.links\"].apply(lambda x: filter_link(x))\n",
    "data = data[[\"_id\", \"_source.title\", \"links\"]]\n",
    "data.columns = [\"id\", \"title\", \"links\"]"
   ],
   "id": "fd684bed00978986",
   "outputs": [],
   "execution_count": 5
  },
  {
   "metadata": {
    "ExecuteTime": {
     "end_time": "2025-08-06T03:11:03.092541Z",
     "start_time": "2025-08-06T03:11:03.084471Z"
    }
   },
   "cell_type": "code",
   "source": [
    "# save the raw links - except excluded rel\n",
    "# data.to_csv(\"temp.csv\", index=False)"
   ],
   "id": "1b21f320d478f681",
   "outputs": [],
   "execution_count": 6
  },
  {
   "metadata": {
    "ExecuteTime": {
     "end_time": "2025-08-06T03:11:03.176997Z",
     "start_time": "2025-08-06T03:11:03.094959Z"
    }
   },
   "cell_type": "code",
   "source": [
    "def explore_download_handler(links):\n",
    "    if not links or not isinstance(links, list):\n",
    "        return []\n",
    "\n",
    "    handlers = set()\n",
    "    for link in links:\n",
    "        if not isinstance(link, dict):\n",
    "            continue\n",
    "\n",
    "        rel = link.get(\"rel\", \"\")\n",
    "        if not rel:\n",
    "            continue\n",
    "\n",
    "        # Direct handler lookup\n",
    "        direct_handlers = DOWNLOAD_HANDELERS.get(rel, [])\n",
    "        handlers.update(direct_handlers)\n",
    "\n",
    "        # Protocol mapping lookup\n",
    "        rel_mapped_protocols = REL_MAPPING.get(rel, [])\n",
    "        for protocol in rel_mapped_protocols:\n",
    "            protocol_handlers = DOWNLOAD_HANDELERS.get(protocol, [])\n",
    "            handlers.update(protocol_handlers)\n",
    "    return list(handlers)\n",
    "\n",
    "\n",
    "data[\"download handler\"] = data[\"links\"].apply(lambda x: explore_download_handler(x))\n",
    "# data.to_csv(\"temp.csv\", index=False)"
   ],
   "id": "498be251c1359bb0",
   "outputs": [],
   "execution_count": 7
  },
  {
   "metadata": {
    "ExecuteTime": {
     "end_time": "2025-08-06T03:11:03.310555Z",
     "start_time": "2025-08-06T03:11:03.184419Z"
    }
   },
   "cell_type": "code",
   "source": [
    "import numpy as np\n",
    "def filter_download_link(links):\n",
    "    download_links = []\n",
    "    for link in links:\n",
    "        if link.get(\"ai:group\", \"\") == \"Data Access\" or link.get(\"rel\", \"\") in list(DOWNLOAD_HANDELERS.keys()):\n",
    "            if link.get(\"rel\", \"\") != \"wms\" and link.get(\"rel\", \"\") != \"wfs\":\n",
    "                download = {\n",
    "                    \"href\": link.get(\"href\"),\n",
    "                    \"title\": link.get(\"title\"),\n",
    "                    \"rel\": link.get(\"rel\"),\n",
    "                    \"ai:group\": link.get(\"ai:group\"),\n",
    "                }\n",
    "                download_links.append(download)\n",
    "    return download_links\n",
    "\n",
    "def filter_wms_link(links):\n",
    "    wms_links = []\n",
    "    for link in links:\n",
    "        if link.get(\"rel\", \"\") == \"wms\" or \"wms\" in link.get(\"href\", \"\").lower():\n",
    "            download = {\n",
    "                \"href\": link.get(\"href\"),\n",
    "                \"title\": link.get(\"title\")\n",
    "            }\n",
    "            wms_links.append(download)\n",
    "    return wms_links\n",
    "\n",
    "def filter_wfs_link(links):\n",
    "    wfs_links = []\n",
    "    for link in links:\n",
    "        if link.get(\"rel\", \"\") == \"wfs\" or (\"wfs\" in link.get(\"href\", \"\").lower() and link.get(\"ai:group\", \"\") != \"Document\"):\n",
    "            download = {\n",
    "                \"href\": link.get(\"href\"),\n",
    "                \"title\": link.get(\"title\")\n",
    "            }\n",
    "            wfs_links.append(download)\n",
    "    return wfs_links\n",
    "\n",
    "data[\"download option\"] = data[\"links\"].apply(filter_download_link)\n",
    "data[\"wms\"] = data[\"links\"].apply(filter_wms_link)\n",
    "data[\"wfs\"] = data[\"links\"].apply(filter_wfs_link)\n",
    "\n",
    "cols_to_clean = [\"download option\", \"wms\", \"wfs\", \"download handler\"]\n",
    "\n",
    "for col in cols_to_clean:\n",
    "    data[col] = data[col].apply(lambda x: np.nan if isinstance(x, list) and len(x) == 0 else x)\n",
    "\n",
    "result = data[[\"id\", \"title\", \"download handler\", \"wms\", \"wfs\", \"download option\"]]\n",
    "result.columns = [\"id\", \"title\", \"download handler\",  \"wms\", \"wfs\", \"download option\"]"
   ],
   "id": "b111aecb6d267c7b",
   "outputs": [],
   "execution_count": 8
  },
  {
   "metadata": {
    "ExecuteTime": {
     "end_time": "2025-08-06T03:11:03.344533Z",
     "start_time": "2025-08-06T03:11:03.324966Z"
    }
   },
   "cell_type": "code",
   "source": "result_path = \"download_option_investigation.csv\"",
   "id": "ef7cea2a859bf82a",
   "outputs": [],
   "execution_count": 9
  },
  {
   "metadata": {
    "ExecuteTime": {
     "end_time": "2025-08-06T03:11:03.410913Z",
     "start_time": "2025-08-06T03:11:03.362543Z"
    }
   },
   "cell_type": "code",
   "source": [
    "# look at wfs groups\n",
    "wfs_result = result[[\"wfs\"]]\n",
    "\n",
    "# Keep only rows where \"wfs\" is NOT empty (not NaN and not empty list)\n",
    "wfs_result = wfs_result[wfs_result[\"wfs\"].notna()]\n",
    "\n",
    "from urllib.parse import urlparse\n",
    "\n",
    "organisation_groups = set()\n",
    "\n",
    "def group_by_organisation(links):\n",
    "    for link in links:\n",
    "        if isinstance(link, dict) and \"href\" in link:\n",
    "            href = link[\"href\"].lower()\n",
    "            parsed = urlparse(href)\n",
    "            organisation_groups.add(parsed.netloc)\n",
    "wfs_result[\"wfs\"].apply(group_by_organisation)\n",
    "\n",
    "organisation_groups\n"
   ],
   "id": "7bf3c3d6d19aa810",
   "outputs": [
    {
     "data": {
      "text/plain": [
       "{'data.aad.gov.au',\n",
       " 'geoserver-123.aodn.org.au',\n",
       " 'geoserver.apps.aims.gov.au',\n",
       " 'geoserver.imas.utas.edu.au',\n",
       " 'www.cmar.csiro.au',\n",
       " 'www.iobis.org'}"
      ]
     },
     "execution_count": 10,
     "metadata": {},
     "output_type": "execute_result"
    }
   ],
   "execution_count": 10
  },
  {
   "metadata": {
    "ExecuteTime": {
     "end_time": "2025-08-06T03:11:03.602323Z",
     "start_time": "2025-08-06T03:11:03.455144Z"
    }
   },
   "cell_type": "code",
   "source": [
    "def is_non_empty_list(val):\n",
    "    if val is not np.nan:\n",
    "        return \"Yes\"\n",
    "    else:\n",
    "        return \"No\"\n",
    "\n",
    "import ast\n",
    "def extract_host_domains(val):\n",
    "    try:\n",
    "        val = ast.literal_eval(val) if isinstance(val, str) else val\n",
    "        if not isinstance(val, list):\n",
    "            return np.nan\n",
    "        hosts = []\n",
    "        for link in val:\n",
    "            href = link.get(\"href\", \"\")\n",
    "            if not href:\n",
    "                continue\n",
    "            if not href.startswith((\"http://\", \"https://\")):\n",
    "                href = \"http://\" + href\n",
    "            netloc = urlparse(href).netloc\n",
    "            if netloc:\n",
    "                hosts.append(netloc)\n",
    "\n",
    "        return list(set(hosts)) if hosts else np.nan\n",
    "    except Exception as e:\n",
    "        return np.nan\n",
    "result[\"Use Existing Download Handler\"] = result[\"download handler\"].apply(lambda x: is_non_empty_list(x))\n",
    "result[\"Has WMS\"] = result[\"wms\"].apply(lambda x: is_non_empty_list(x))\n",
    "result[\"Has WFS\"] = result[\"wfs\"].apply(lambda x: is_non_empty_list(x))\n",
    "result[\"Has Data Access Links\"] = result[\"download option\"].apply(lambda x: is_non_empty_list(x))\n",
    "\n",
    "result[\"Data Access Domain\"] = result[\"download option\"].apply(lambda x: extract_host_domains(x))"
   ],
   "id": "6b44dd2d6ff7d6d",
   "outputs": [],
   "execution_count": 11
  },
  {
   "metadata": {
    "ExecuteTime": {
     "end_time": "2025-08-06T03:11:03.793137Z",
     "start_time": "2025-08-06T03:11:03.614709Z"
    }
   },
   "cell_type": "code",
   "source": "result.to_csv(result_path, index=False)",
   "id": "6d9f53e5e244ee86",
   "outputs": [],
   "execution_count": 12
  },
  {
   "metadata": {
    "ExecuteTime": {
     "end_time": "2025-08-06T03:11:03.858475Z",
     "start_time": "2025-08-06T03:11:03.811116Z"
    }
   },
   "cell_type": "code",
   "source": "print(result.info())",
   "id": "1629c0028c024989",
   "outputs": [
    {
     "name": "stdout",
     "output_type": "stream",
     "text": [
      "<class 'pandas.core.frame.DataFrame'>\n",
      "RangeIndex: 10432 entries, 0 to 10431\n",
      "Data columns (total 11 columns):\n",
      " #   Column                         Non-Null Count  Dtype \n",
      "---  ------                         --------------  ----- \n",
      " 0   id                             10432 non-null  object\n",
      " 1   title                          10432 non-null  object\n",
      " 2   download handler               325 non-null    object\n",
      " 3   wms                            3024 non-null   object\n",
      " 4   wfs                            468 non-null    object\n",
      " 5   download option                6586 non-null   object\n",
      " 6   Use Existing Download Handler  10432 non-null  object\n",
      " 7   Has WMS                        10432 non-null  object\n",
      " 8   Has WFS                        10432 non-null  object\n",
      " 9   Has Data Access Links          10432 non-null  object\n",
      " 10  Data Access Domain             6586 non-null   object\n",
      "dtypes: object(11)\n",
      "memory usage: 896.6+ KB\n",
      "None\n"
     ]
    }
   ],
   "execution_count": 13
  },
  {
   "metadata": {
    "ExecuteTime": {
     "end_time": "2025-08-06T03:11:03.926987Z",
     "start_time": "2025-08-06T03:11:03.895623Z"
    }
   },
   "cell_type": "code",
   "source": [
    "# statistic analysis\n",
    "print(f\"{(result['Has WMS'] == 'No').sum()} records have no WMS link\")\n",
    "print(f\"{(result['Has WMS'] == 'Yes').sum()} records have WMS links\")\n",
    "\n",
    "print(f\"{(result['Has WFS'] == 'No').sum()} records have no WFS link\")\n",
    "print(f\"{(result['Has WFS'] == 'Yes').sum()} records have WFS links\")\n",
    "\n",
    "print(f\"{(result['Use Existing Download Handler'] == 'Yes').sum()} use current portal download handler\")\n",
    "print(f\"{(result['Has Data Access Links'] == 'Yes').sum()} records have data access links\")\n",
    "print(f\"{(result['Has Data Access Links'] == 'No').sum()} records have no data access link\")"
   ],
   "id": "c61cca65739eb1d6",
   "outputs": [
    {
     "name": "stdout",
     "output_type": "stream",
     "text": [
      "7408 records have no WMS link\n",
      "3024 records have WMS links\n",
      "9964 records have no WFS link\n",
      "468 records have WFS links\n",
      "325 use current portal download handler\n",
      "6586 records have data access links\n",
      "3846 records have no data access link\n"
     ]
    }
   ],
   "execution_count": 14
  },
  {
   "metadata": {
    "ExecuteTime": {
     "end_time": "2025-08-06T03:11:04.009156Z",
     "start_time": "2025-08-06T03:11:03.962057Z"
    }
   },
   "cell_type": "code",
   "source": [
    "temp = result.copy()\n",
    "temp[\"download handler\"] = temp[\"download handler\"].apply(lambda x: str(x))\n",
    "grouped = temp.groupby(\"download handler\")\n",
    "\n",
    "grouped.size()"
   ],
   "id": "d81cc48e881139b8",
   "outputs": [
    {
     "data": {
      "text/plain": [
       "download handler\n",
       "['BodaacDownloadHandler', 'PointCSVDownloadHandler', 'GogoduckDownloadHandler']       79\n",
       "['BodaacDownloadHandler']                                                             13\n",
       "['FileListDownloadHandler', 'BodaacDownloadHandler']                                   1\n",
       "['FileListDownloadHandler']                                                            2\n",
       "['PointCSVDownloadHandler', 'GogoduckDownloadHandler']                                 6\n",
       "['WfsDownloadHandler', 'BodaacDownloadHandler', 'PythonDownloadHandler']              41\n",
       "['WfsDownloadHandler', 'PythonDownloadHandler']                                      183\n",
       "nan                                                                                10107\n",
       "dtype: int64"
      ]
     },
     "execution_count": 15,
     "metadata": {},
     "output_type": "execute_result"
    }
   ],
   "execution_count": 15
  },
  {
   "metadata": {
    "ExecuteTime": {
     "end_time": "2025-08-06T03:11:04.076861Z",
     "start_time": "2025-08-06T03:11:04.028584Z"
    }
   },
   "cell_type": "code",
   "source": [
    "host = result.copy()\n",
    "\n",
    "host[\"Data Access Domain\"] = host[\"Data Access Domain\"].apply(\n",
    "    lambda x: np.nan if not x or x == [''] else x\n",
    ")\n",
    "\n",
    "host[\"Data Access Domain\"] = host[\"Data Access Domain\"].apply(\n",
    "    lambda x: str(sorted(set(x))) if isinstance(x, (list, set)) else x\n",
    ")\n",
    "\n",
    "grouped_counts = host.groupby(\"Data Access Domain\").size().reset_index(name=\"count\")\n",
    "\n",
    "grouped_sorted = grouped_counts.sort_values(by=\"count\", ascending=False)\n",
    "grouped_sorted.to_csv(\"data_access_domain_counts.csv\", index=False)"
   ],
   "id": "591e1ccc791c6fa9",
   "outputs": [],
   "execution_count": 16
  }
 ],
 "metadata": {
  "kernelspec": {
   "display_name": "Python 3",
   "language": "python",
   "name": "python3"
  },
  "language_info": {
   "codemirror_mode": {
    "name": "ipython",
    "version": 2
   },
   "file_extension": ".py",
   "mimetype": "text/x-python",
   "name": "python",
   "nbconvert_exporter": "python",
   "pygments_lexer": "ipython2",
   "version": "2.7.6"
  }
 },
 "nbformat": 4,
 "nbformat_minor": 5
}
